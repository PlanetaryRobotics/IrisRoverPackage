{
 "cells": [
  {
   "cell_type": "markdown",
   "metadata": {},
   "source": [
    "# **`EM4 Rover Driving`**\n"
   ]
  },
  {
   "cell_type": "markdown",
   "metadata": {},
   "source": [
    "## **`Setup`**"
   ]
  },
  {
   "cell_type": "code",
   "execution_count": 1,
   "metadata": {},
   "outputs": [],
   "source": [
    "## SETUP:\n",
    "\n",
    "from trans_tools import *\n",
    "from __command_aliases import get_command\n",
    "from IrisBackendv3.utils.basic import bytearray_to_spaced_hex as hexstr\n",
    "\n",
    "seq_num = 0x01\n",
    "\n",
    "# 'send-all-gi-telem', 'poke-mc-telem', 'poke-mc-telem-wifi'\n",
    "cmd, param = 'wifi-mode', False\n",
    "\n",
    "# True - send command, # False - sniff only\n",
    "# send_data_packet_to_wd_before_sniffing = False\n",
    "send_data_packet_to_wd_before_sniffing = True\n",
    "\n",
    "overwriting = True # this one to use command from next \"overrides\" block\n",
    "#overwriting = False # this one to use the command from this block\n"
   ]
  },
  {
   "cell_type": "markdown",
   "metadata": {},
   "source": [
    "## **`Command Overrides`**"
   ]
  },
  {
   "cell_type": "code",
   "execution_count": 2,
   "metadata": {},
   "outputs": [],
   "source": [
    "specific_param_override = 100\n",
    "# specific_cmd_name_override = 'set-heater'\n",
    "\n",
    "specific_cmd_name_override = 'setup'\n",
    "# specific_cmd_name_override = 'power-on'\n",
    "\n",
    "# specific_cmd_name_override = 'vsa-off'\n",
    "# specific_cmd_name_override = 'vsa-on'\n",
    "\n",
    "# specific_cmd_name_override = '3v3-off'\n",
    "# specific_cmd_name_override = '3v3-on'\n",
    "\n",
    "\n",
    "# specific_cmd_name_override = 'power-off-herc'\n",
    "# specific_cmd_name_override = 'power-off-radio'\n",
    "# specific_cmd_name_override = 'power-off-fpga'\n",
    "# specific_cmd_name_override = 'power-off-motors'\n",
    "\n",
    "# specific_cmd_name_override = 'power-on-herc'\n",
    "# specific_cmd_name_override = 'power-on-radio'\n",
    "# specific_cmd_name_override = 'power-on-fpga'\n",
    "# specific_cmd_name_override = 'power-on-motors'\n",
    "\n",
    "# specific_cmd_name_override = 'reset-radio'\n",
    "# specific_cmd_name_override = 'reset-herc'\n",
    "# specific_cmd_name_override = 'reset-fpga'\n",
    "# specific_cmd_name_override = 'reset-motors'\n",
    "\n",
    "# specific_cmd_name_override = 'wifi-mode'\n",
    "# specific_cmd_name_override = 'wired-mode'\n",
    "# specific_cmd_name_override = 'deploy'\n",
    "# specific_cmd_name_override = 'drive-fwd-200'\n",
    "\n",
    "# REGE_set = False\n",
    "# BE_set = False\n",
    "# CE_set = 'OFF' # 'OFF' 'ON' 'FORCE_HIGH'\n",
    "# BCE_set = 'OFF' # 'OFF' 'ON' 'FORCE_HIGH'\n",
    "# BL_set = 'OFF' # 'OFF' 'ON' 'PULSE_HIGH'\n",
    "\n",
    "# blimp_cmds: SetChargerEn , SetChargerPowerConnection , SetBatteryConnection\n",
    "#             SetBatteryControlEnable , SetBatteryLatch\n",
    "# specific_cmd_name_override = 'SetBatteryConnection'\n",
    "\n",
    "# blimp_inputs = [False, True, 'OFF', 'ON', 'FORCE_HIGH', 'FORCE_LOW', 'LATCH_BATT_OFF']\n",
    "# specific_param_override = False\n",
    "\n",
    "if overwriting:\n",
    "    cmd, param = specific_cmd_name_override, specific_param_override\n"
   ]
  },
  {
   "cell_type": "markdown",
   "metadata": {},
   "source": [
    "## **`Cmd : Param`**"
   ]
  },
  {
   "cell_type": "code",
   "execution_count": 3,
   "metadata": {},
   "outputs": [
    {
     "name": "stdout",
     "output_type": "stream",
     "text": [
      "setup   :   100\n"
     ]
    }
   ],
   "source": [
    "print(cmd,'  :  ',param)"
   ]
  },
  {
   "cell_type": "markdown",
   "metadata": {},
   "source": [
    "## **`Settings`**"
   ]
  },
  {
   "cell_type": "code",
   "execution_count": 4,
   "metadata": {},
   "outputs": [],
   "source": [
    "## SETTINGS:\n",
    "\n",
    "serial_device = '/dev/ttyUSB1'\n",
    "ip=\"192.168.1.2\"\n",
    "port=8080\n",
    "\n",
    "settings['SAVE_FILE_PREFIX'] = 'iris__mc_testing__03_20_22_a' # this is the prefix on all log files. make it something unique.\n",
    "load_cache()\n",
    "setup_logger(settings['SAVE_FILE_PREFIX']) # logs of stuff printed to console will be stored to `raw-console-logs`\n",
    "\n",
    "# IF ERROR - update last number in FILE_PREFIX"
   ]
  },
  {
   "cell_type": "markdown",
   "metadata": {},
   "source": [
    "## **`UART`**"
   ]
  },
  {
   "cell_type": "code",
   "execution_count": 5,
   "metadata": {},
   "outputs": [
    {
     "name": "stdout",
     "output_type": "stream",
     "text": [
      "DataPathway.WIRED Magic.WATCHDOG_COMMAND WatchDogInterface_SwitchToServiceMode {'confirm': 'CONFIRM_SERVICE'}\n",
      "01 07 00 d7 ee ff 00 c0 ec 10 77\n"
     ]
    }
   ],
   "source": [
    "pathway, magic, command_name, kwargs, telem_pathway = get_command(cmd, param)\n",
    "print(pathway, magic, command_name, kwargs)\n",
    "\n",
    "packet = build_command_packet(seq_num, pathway, magic, command_name, kwargs)\n",
    "packet_bytes = packet.encode()\n",
    "print(hexstr(packet_bytes))"
   ]
  },
  {
   "cell_type": "code",
   "execution_count": 6,
   "metadata": {},
   "outputs": [
    {
     "name": "stdout",
     "output_type": "stream",
     "text": [
      "\u001b[31mFailed to connect to serial device. Is the device name right? Check the connection? Original error: [Errno 2] could not open port /dev/ttyUSB0: [Errno 2] No such file or directory: '/dev/ttyUSB0'\u001b[0m\n",
      "\u001b[31mCan't send data, serial connection not started. Try `connect_serial()`.\u001b[0m\n"
     ]
    }
   ],
   "source": [
    "## Send Command:\n",
    "connect_serial(device = serial_device, baud=57600)\n",
    "if send_data_packet_to_wd_before_sniffing:\n",
    "    send_packet(packet, pathway, ip, port)"
   ]
  },
  {
   "cell_type": "markdown",
   "metadata": {},
   "source": [
    "## **`Telemetry`**"
   ]
  },
  {
   "cell_type": "code",
   "execution_count": 7,
   "metadata": {},
   "outputs": [
    {
     "name": "stdout",
     "output_type": "stream",
     "text": [
      "\u001b[31mCan't read data, serial connection not started. Try `connect_serial()`.\u001b[0m\n"
     ]
    }
   ],
   "source": [
    "stream_data_ip_udp_serial()"
   ]
  }
 ],
 "metadata": {
  "interpreter": {
   "hash": "8816a32dc6e032dd9374d27f75563e4313e5344332f9668033f6f3b340da094a"
  },
  "kernelspec": {
   "display_name": "Python 3.8.5 64-bit ('py_irisbackendv3')",
   "name": "python385jvsc74a57bd0a0d03f56b6733f9c3d15c2bd39d66592601e401c4bc6b05629b467f37657415c"
  },
  "language_info": {
   "codemirror_mode": {
    "name": "ipython",
    "version": 3
   },
   "file_extension": ".py",
   "mimetype": "text/x-python",
   "name": "python",
   "nbconvert_exporter": "python",
   "pygments_lexer": "ipython3",
   "version": "3.8.5"
  },
  "metadata": {
   "interpreter": {
    "hash": "d816d07a47909b7024a3edf42b296ca58cf50e839b20a21cefa98c322fbbe616"
   }
  },
  "orig_nbformat": 2
 },
 "nbformat": 4,
 "nbformat_minor": 2
}