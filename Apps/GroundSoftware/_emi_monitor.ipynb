{
 "cells": [
  {
   "cell_type": "markdown",
   "metadata": {},
   "source": [
    "# **`EMI/EMC Testing Monitor + Interface`**\n",
    "\n",
    "**Default Settings:**\n",
    "\\\n",
    "`wired_seq_num = 0x01`\n",
    "\\\n",
    "`itr=1`\n",
    "\\\n",
    "`send_data_packet_to_wd_before_sniffing = True`\n",
    "\\\n",
    "`specific_cmd_name_override = None`\n",
    "\n",
    "**To sniff Serial from SBC without sending a command:**\n",
    "1. `send_data_packet_to_wd_before_sniffing = False`\n",
    "\n",
    "**To enter SERVICE mode:**\n",
    "1. `itr = 1`\n",
    "\n",
    "**To enter MISSION mode:**\n",
    "1. `itr = 2`\n",
    "\n",
    "**System Soft Reset:**  *(All systems except the WatchDog powered off)*\n",
    "1. Enter **`SERVICE`** mode twice\n",
    "\n",
    "**To Reset Specific Systems:**\n",
    "1. specific_cmd_name_override = 'power-off-[system]`   \n",
    "    *System can be one of the following:*\n",
    "    - `herc`\n",
    "    - `radio`\n",
    "    - `motors`\n",
    "    - `cameras`\n",
    "\n",
    "**No telem from Herc after 200 sec**\n",
    "1. `specific_cmd_name_override = 'power-off-herc'`\n",
    "2. `specific_cmd_name_override = 'power-off-radio'`\n",
    "3. `specific_cmd_name_override = 'power-on-radio'`\n",
    "4. `specific_cmd_name_override = 'power-on-herc'`\n",
    "\n",
    "**Misc Commands:**\n",
    "\n",
    "\n",
    "## Additional Support:\n",
    "See ***Pre-prepared commands list in `__command_aliases.py`***.\n",
    "\n",
    "Logs of everything printed to the console will stored in `./raw-console-logs/` as `*.clog` test files under the name used for `settings['SAVE_FILE_PREFIX']`.\n",
    "\n",
    "If you want to explore the Data Standards to build new commands, run:\n",
    "\n",
    "`pyenv exec python datastandards_lookup.py`."
   ]
  },
  {
   "cell_type": "code",
   "execution_count": 1,
   "metadata": {},
   "outputs": [
    {
     "name": "stdout",
     "output_type": "stream",
     "text": [
      "power-on   :   False\n"
     ]
    }
   ],
   "source": [
    "## SETUP:\n",
    "\n",
    "from trans_tools import *\n",
    "from __command_aliases import get_command\n",
    "from IrisBackendv3.utils.basic import bytearray_to_spaced_hex as hexstr\n",
    "\n",
    "seq_num = 0x01\n",
    "blimp_cmds = ['setup', 'power-on', 'SetChargerEn', 'SetChargerPowerConnection', 'SetBatteryConnection', 'SetBatteryControlEnable', 'SetBatteryLatch']\n",
    "cmd = blimp_cmds[1]\n",
    "blimp_inputs = [False, True, 'OFF', 'ON', 'FORCE_HIGH', 'FORCE_LOW']\n",
    "param = blimp_inputs[0]\n",
    "\n",
    "send_data_packet_to_wd_before_sniffing = False\n",
    "specific_cmd_name_override = cmd\n",
    "\n",
    "## CE Test One - All Internal Rover Systems Pre-Deployment Enabled\n",
    "# specific_cmd_name_override = 'setup' # ~8         32\n",
    "# specific_cmd_name_override = 'power-on' # ~14.5   38\n",
    "\n",
    "# specific_cmd_name_override = 'power-off-herc' #    \n",
    "# specific_cmd_name_override = 'power-off-radio' # \n",
    "# specific_cmd_name_override = 'power-on-herc' #    44\n",
    "# specific_cmd_name_override = 'power-on-radio' #   45\n",
    "\n",
    "# specific_cmd_name_override = 'reset-radio'\n",
    "# specific_cmd_name_override = 'reset-herc' #         59 -> 63\n",
    "## FAILED\n",
    "\n",
    "# specific_cmd_name_override = 'SetBatteryConnection'\n",
    "# param = False\n",
    "\n",
    "## CE Test One - All External Rover Systems Post-Deployment Enabled\n",
    "## CE Test Two - All Rover Systems Enabled\n",
    "## CE Test Three - \n",
    "\n",
    "# specific_cmd_name_override = 'set-CE'\n",
    "\n",
    "# REGE_set = False\n",
    "# BE_set = False\n",
    "# CE_set = 'OFF' # 'OFF' 'ON' 'FORCE_HIGH'\n",
    "# BCE_set = 'OFF' # 'OFF' 'ON' 'FORCE_HIGH'\n",
    "# BL_set = 'OFF' # 'OFF' 'ON' 'PULSE_HIGH'\n",
    "\n",
    "\n",
    "print(specific_cmd_name_override,'  :  ',param)"
   ]
  },
  {
   "cell_type": "code",
   "execution_count": 2,
   "metadata": {},
   "outputs": [],
   "source": [
    "## SETTINGS:\n",
    "\n",
    "serial_device = '/dev/tty.usbserial-A7035PDL'\n",
    "ip=\"192.168.1.2\"\n",
    "port=8080\n",
    "\n",
    "settings['SAVE_FILE_PREFIX'] = 'iris__sbc3_detailed_status_code_testing__11_07_21' # this is the prefix on all log files. make it something unique.\n",
    "load_cache()\n",
    "setup_logger(settings['SAVE_FILE_PREFIX']) # logs of stuff printed to console will be stored to `raw-console-logs`\n",
    "\n",
    "# IF ERROR - update last number in FILE_PREFIX"
   ]
  },
  {
   "cell_type": "code",
   "execution_count": 3,
   "metadata": {},
   "outputs": [
    {
     "name": "stdout",
     "output_type": "stream",
     "text": [
      "DataPathway.WIRED Magic.WATCHDOG_COMMAND WatchDogInterface_PrepareForDeployment {'confirm': 'CONFIRM_PREP'}\n",
      "01 07 00 d9 ee ff 00 c0 01 10 60\n"
     ]
    }
   ],
   "source": [
    "step = specific_cmd_name_override\n",
    "pathway, magic, command_name, kwargs, telem_pathway = get_command(step, param)\n",
    "print(pathway, magic, command_name, kwargs)\n",
    "\n",
    "packet = build_command_packet(seq_num, pathway, magic, command_name, kwargs)\n",
    "packet_bytes = packet.encode()\n",
    "print(hexstr(packet_bytes))"
   ]
  },
  {
   "cell_type": "code",
   "execution_count": 4,
   "metadata": {},
   "outputs": [
    {
     "name": "stdout",
     "output_type": "stream",
     "text": [
      "\u001b[32mConnection Success!\u001b[0m\n"
     ]
    }
   ],
   "source": [
    "## Send Command:\n",
    "connect_serial(device = serial_device)\n",
    "if send_data_packet_to_wd_before_sniffing:\n",
    "    send_packet(packet, pathway, ip, port)"
   ]
  },
  {
   "cell_type": "code",
   "execution_count": 5,
   "metadata": {},
   "outputs": [
    {
     "name": "stderr",
     "output_type": "stream",
     "text": [
      "2021-11-07 21:46:04: INFO     [HEAT]: OFF \t\t [BATT]: Voltage: BAD, Charge: 1880mAh =  53.7%, Temp:  71.3°K]\n",
      "2021-11-07 21:46:16: ERROR    Had to abort packet parsing due to the following exception: maximum recursion depth exceeded\n",
      "2021-11-07 21:46:22: INFO     [HEAT]: OFF \t\t [BATT]: Voltage: BAD, Charge: 1880mAh =  53.7%, Temp:  75.0°K]\n",
      "2021-11-07 21:46:30: ERROR    Had to abort packet parsing due to the following exception: maximum recursion depth exceeded\n",
      "2021-11-07 21:46:39: INFO     [HEAT]: OFF \t\t [BATT]: Voltage: BAD, Charge: 1880mAh =  53.7%, Temp:  74.6°K]\n",
      "2021-11-07 21:46:57: INFO     [HEAT]: OFF \t\t [BATT]: Voltage: BAD, Charge: 1880mAh =  53.7%, Temp:  73.1°K]\n"
     ]
    }
   ],
   "source": [
    "## Stream Telemetry:\n",
    "stream_data_ip_udp_serial()\n",
    "# Check for wireless telemetry in Wireshark. For parsing help, run: `pyenv exec python parse_pcap.py --help`"
   ]
  },
  {
   "cell_type": "markdown",
   "metadata": {},
   "source": []
  }
 ],
 "metadata": {
  "interpreter": {
   "hash": "8816a32dc6e032dd9374d27f75563e4313e5344332f9668033f6f3b340da094a"
  },
  "kernelspec": {
   "display_name": "Python 3.8.5 64-bit ('py_irisbackendv3': pyenv)",
   "name": "python3"
  },
  "language_info": {
   "codemirror_mode": {
    "name": "ipython",
    "version": 3
   },
   "file_extension": ".py",
   "mimetype": "text/x-python",
   "name": "python",
   "nbconvert_exporter": "python",
   "pygments_lexer": "ipython3",
   "version": "3.8.5"
  },
  "metadata": {
   "interpreter": {
    "hash": "d816d07a47909b7024a3edf42b296ca58cf50e839b20a21cefa98c322fbbe616"
   }
  },
  "orig_nbformat": 2
 },
 "nbformat": 4,
 "nbformat_minor": 2
}
