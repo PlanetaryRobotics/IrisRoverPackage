{
 "metadata": {
  "language_info": {
   "codemirror_mode": {
    "name": "ipython",
    "version": 3
   },
   "file_extension": ".py",
   "mimetype": "text/x-python",
   "name": "python",
   "nbconvert_exporter": "python",
   "pygments_lexer": "ipython3",
   "version": "3.8.5"
  },
  "orig_nbformat": 2,
  "kernelspec": {
   "name": "python385jvsc74a57bd09b8ece3a27f9dfda4d574f5e7a85b5ebc60e0008070ea61c4f3b563880f2e4f3",
   "display_name": "Python 3.8.5 64-bit ('py_irisbackendv3': pyenv)"
  },
  "metadata": {
   "interpreter": {
    "hash": "d816d07a47909b7024a3edf42b296ca58cf50e839b20a21cefa98c322fbbe616"
   }
  }
 },
 "nbformat": 4,
 "nbformat_minor": 2,
 "cells": [
  {
   "cell_type": "code",
   "execution_count": 1,
   "metadata": {},
   "outputs": [],
   "source": [
    "## SETUP:\n",
    "from trans_tools import *\n",
    "from IrisBackendv3.codec.payload import CommandPayload\n",
    "from IrisBackendv3.codec.packet import IrisCommonPacket\n",
    "from IrisBackendv3.codec.metadata import DataPathway, DataSource\n",
    "from IrisBackendv3.codec.magic import Magic\n",
    "from IrisBackendv3.utils.basic import bytearray_to_spaced_hex as hexstr\n",
    "\n",
    "wired_seq_num = 0x01\n",
    "wireless_seq_num = 0x01\n",
    "# steps = ['heater-test','setup', 'power-on', 'wifi-mode', 'deploy']\n",
    "itr = 0"
   ]
  },
  {
   "cell_type": "code",
   "execution_count": 2,
   "metadata": {},
   "outputs": [],
   "source": [
    "## SETTINGS:\n",
    "\n",
    "serial_device = '/dev/ttyUSB0'\n",
    "ip=\"192.168.1.2\"\n",
    "port=8080"
   ]
  },
  {
   "cell_type": "code",
   "execution_count": 3,
   "metadata": {},
   "outputs": [],
   "source": [
    "settings['SAVE_FILE_PREFIX'] = 'iris_firing_test_trial0' # this the prefix on all log files. make it something unique.\n",
    "load_cache()"
   ]
  },
  {
   "cell_type": "code",
   "execution_count": 4,
   "metadata": {
    "tags": []
   },
   "outputs": [],
   "source": [
    "## SET TO TRUE TO VIEW A FULL-LIST OF ALL COMMANDS AND TELEMETRY:\n",
    "if show_commands := False:\n",
    "    standards.print_overview()"
   ]
  },
  {
   "source": [
    "## **Testing Procedure:** picking pre-prepared commands\n",
    "\n",
    "**Running the Code:**\n",
    "\n",
    "- On the first run **OR** after resetting / power-cycling the board, **pick a step in the next cell** then press the `red square`, then `green circle`, then `double arrows` to run all the code.\n",
    "- After changing to the next step (in the next cell), **click here** (yes, this text cell that you're currently reading) and then **press only** the `red square` then the `play button with the down arrow` to send the new command without resetting the sequence numbers.\n",
    "- You can read wired telemetry streams at the bottom of this notebook and check for the presence of wireless telemetry in wireshark using the filter: `udp && udp.port==8080 && not icmp` . \n",
    "\n",
    "**Steps:**\n",
    "\n",
    "0. Run `setup`, wait for watchdog heartbeats to verify that the mode is now `RS_SERVICE`.\n",
    "1. Run `power-on`, verify Hercules has been turned on by the presense of `ICP` telemetry packets in the wired output.\n",
    "2. Run `wifi-mode` to tell Hercules to downlink telemetry wirelessly instead of over the wire. Verify that `ICP` telemetry packets are now showing up in the wireless output. Note: there should no longer be a wired output showing. Also note: wired and wireless commands will still work until the wired connection has been physically disconnected.\n",
    "3. Run `deploy` to tell Hercules to tell the Watchdog to release its deployment interlock and then have Hercules release its own interlock. Verify that both interlocks are released and that the deployment switch is now closed by removing the deployment power leads from the deployment power supply and verifying that the resistance between them is on the order of single digit Ohms instead of Megaohms.\n",
    "\n",
    "Once `deploy` has been successfully issued, applying deployment power to the rover will cause its deployment. **Note:** to properly simulate mission conditions, the interlocks should be released and deployment switch closed **before** applying deployment power.\n",
    "\n",
    "**Troubleshooting:**\n",
    "\n",
    "**Note:** If you have issues running the `deploy` command, you can instead run the `deploy-wd-only` and the `deploy-herc-only` commands to directly tell the Watchdog and Hercules to release their interlocks separately.\n",
    "\n",
    "**Note:** If you're having trouble getting wireless comms working, make sure this computer's IP matches the `spacecraft_ip` used by Hercules (usually `192.168.1.120`) and that the IP you're sending to (configured at the top) matches the `rover_ip` used by the Hercules."
   ],
   "cell_type": "markdown",
   "metadata": {}
  },
  {
   "cell_type": "code",
   "execution_count": 5,
   "metadata": {},
   "outputs": [],
   "source": [
    "## Pick the step you want to run:\n",
    "\n",
    "steps = ['heater-test', 'setup', 'power-on', 'wifi-mode', 'deploy']\n",
    "step = steps[itr]"
   ]
  },
  {
   "cell_type": "code",
   "execution_count": 6,
   "metadata": {},
   "outputs": [],
   "source": [
    "## Pre-prepared commands list:\n",
    "\n",
    "source = DataSource.GENERATED\n",
    "\n",
    "prepared_commands = {\n",
    "    'setup': ( # Tell the Watchdog to switch into service mode\n",
    "        DataPathway.WIRED,\n",
    "        Magic.WATCHDOG_COMMAND,\n",
    "        'WatchDogInterface_SwitchToServiceMode',\n",
    "        dict(confirm='CONFIRM_SERVICE'),\n",
    "        DataPathway.WIRED\n",
    "    ),\n",
    "    'power-on': ( # Turn Everything On\n",
    "        DataPathway.WIRED,\n",
    "        Magic.WATCHDOG_COMMAND,\n",
    "        'WatchDogInterface_PrepareForDeployment',\n",
    "        dict(confirm='CONFIRM_PREP'),\n",
    "        DataPathway.WIRED\n",
    "    ),\n",
    "    'wifi-mode': ( # Turn Everything On\n",
    "        DataPathway.WIRED,\n",
    "        Magic.COMMAND, # \"normal\" command is for Hercules\n",
    "        'GroundInterface_SetPrimaryInterface',\n",
    "        dict(primary_interface='WF_121'),\n",
    "        DataPathway.WIRELESS\n",
    "    ),\n",
    "    'deploy': (\n",
    "        DataPathway.WIRED,\n",
    "        Magic.COMMAND, # \"normal\" command is for Hercules\n",
    "        'WatchDogInterface_DisengageFromLander',\n",
    "        dict(confirm='CONFIRM_DEPLOY'),\n",
    "        DataPathway.WIRED\n",
    "    ),\n",
    "    'deploy-wd-only': ( # special command to tell only WD to release its interlock (in case Herc-WD comms are broken)\n",
    "        DataPathway.WIRED,\n",
    "        Magic.WATCHDOG_COMMAND,\n",
    "        'WatchDogInterface_DisengageFromLander',\n",
    "        dict(confirm='CONFIRM_DEPLOY'),\n",
    "        DataPathway.WIRELESS\n",
    "    ),\n",
    "    'deploy-herc-only': ( # special command to tell only Herc to release its interlock (in case Herc-WD comms are broken)\n",
    "        DataPathway.WIRELESS,\n",
    "        Magic.COMMAND, # \"normal\" command is for Hercules\n",
    "        'WatchDogInterface_DisengageFromLander',\n",
    "        dict(confirm='CONFIRM_DEPLOY'),\n",
    "        DataPathway.WIRELESS\n",
    "    ),\n",
    "    'heater-test': (\n",
    "        DataPathway.WIRED,\n",
    "        Magic.COMMAND, # intentionally telling the WD to tell Herc to tell the WD to enable heater control (same path as deployment command but a quick pretest)\n",
    "        'WatchDogInterface_ResetSpecific',\n",
    "        dict(reset_value='ENABLE_HEATER_CONTROL'),\n",
    "        DataPathway.WIRELESS\n",
    "    )\n",
    "}\n",
    "pathway, magic, command_name, kwargs, telem_pathway = prepared_commands[step]"
   ]
  },
  {
   "cell_type": "code",
   "execution_count": 7,
   "metadata": {},
   "outputs": [
    {
     "output_type": "stream",
     "name": "stdout",
     "text": [
      "02 0a 00 db 55 da ba 00 00 10 1f 00 00 00\n"
     ]
    }
   ],
   "source": [
    "## Build Command:\n",
    "\n",
    "if pathway == DataPathway.WIRED:\n",
    "    wired_seq_num += 1\n",
    "    seq_num = wired_seq_num\n",
    "elif pathway == DataPathway.WIRELESS:\n",
    "    wireless_seq_num += 1\n",
    "    seq_num = wireless_seq_num\n",
    "\n",
    "command_payload_type = {\n",
    "    Magic.WATCHDOG_COMMAND: WatchdogCommandPayload,\n",
    "    Magic.COMMAND: CommandPayload\n",
    "}[magic]\n",
    "\n",
    "module, command = standards.global_command_lookup(command_name)\n",
    "payloads = PayloadCollection(\n",
    "    CommandPayload=[\n",
    "        command_payload_type(\n",
    "            pathway=pathway,\n",
    "            source=source,\n",
    "            magic=magic,\n",
    "            module_id=module.ID,\n",
    "            command_id=command.ID,\n",
    "            args=kwargs\n",
    "        )\n",
    "    ],\n",
    "    TelemetryPayload=[],\n",
    "    EventPayload=[],\n",
    "    FileBlockPayload=[]\n",
    ")\n",
    "packet = IrisCommonPacket(\n",
    "    seq_num = seq_num,\n",
    "    payloads = payloads,\n",
    "    pathway = pathway,\n",
    "    source = source\n",
    ").encode()\n",
    "print(hexstr(packet))"
   ]
  },
  {
   "cell_type": "code",
   "execution_count": 8,
   "metadata": {},
   "outputs": [
    {
     "output_type": "stream",
     "name": "stdout",
     "text": [
      "\u001b[32mConnection Success!\u001b[0m\n"
     ]
    }
   ],
   "source": [
    "## Send Command:\n",
    "connect_serial(device = serial_device)\n",
    "if pathway == DataPathway.WIRED:\n",
    "    send_data_wd_serial(packet)\n",
    "elif pathway == DataPathway.WIRELESS:\n",
    "    send_wifi(packet, ip=ip, port=port)"
   ]
  },
  {
   "cell_type": "code",
   "execution_count": 9,
   "metadata": {
    "tags": []
   },
   "outputs": [
    {
     "output_type": "stream",
     "name": "stdout",
     "text": [
      "RS_KEEPALIVE:\t[Heat: ON, Ctrl: ON] \t260.9°K -> 273.6°K +- 0.92K° \tKp = 500 @ Duty Cycle: 8500/65535\n",
      "RS_KEEPALIVE:\t[Heat: ON, Ctrl: ON] \t260.9°K -> 273.6°K +- 0.92K° \tKp = 500 @ Duty Cycle: 8500/65535\n",
      "RS_KEEPALIVE:\t[Heat: ON, Ctrl: ON] \t260.9°K -> 273.6°K +- 0.92K° \tKp = 500 @ Duty Cycle: 8500/65535\n",
      "RS_KEEPALIVE:\t[Heat: ON, Ctrl: ON] \t260.9°K -> 273.6°K +- 0.92K° \tKp = 500 @ Duty Cycle: 8500/65535\n",
      "\u001b[31mAn otherwise unresolved error occurred during packet streaming: unsupported operand type(s) for -: 'NoneType' and 'int'\u001b[0m\n",
      "\u001b[31mAn otherwise unresolved error occurred during packet streaming: cannot convert 'NoneType' object to bytes\u001b[0m\n"
     ]
    }
   ],
   "source": [
    "## Stream Telemetry:\n",
    "if True or telem_pathway == DataPathway.WIRED:\n",
    "    stream_data_ip_udp_serial()\n",
    "elif telem_pathway == DataPathway.WIRELESS:\n",
    "    pass # Check for wireless telemetry in Wireshark. For parsing help, run: `pyenv exec python parse_pcap.py --help`\n"
   ]
  },
  {
   "cell_type": "code",
   "execution_count": null,
   "metadata": {},
   "outputs": [],
   "source": []
  }
 ]
}