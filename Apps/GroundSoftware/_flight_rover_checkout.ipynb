{
 "cells": [
  {
   "cell_type": "markdown",
   "metadata": {},
   "source": [
    "# **`Flight Rover Checkout Monitor + Interface`**\n"
   ]
  },
  {
   "cell_type": "markdown",
   "metadata": {},
   "source": [
    "## **`Setup`**"
   ]
  },
  {
   "cell_type": "code",
   "execution_count": 1,
   "metadata": {},
   "outputs": [],
   "source": [
    "## SETUP:\n",
    "\n",
    "from trans_tools import *\n",
    "from __command_aliases import get_command\n",
    "from IrisBackendv3.utils.basic import bytearray_to_spaced_hex as hexstr\n",
    "\n",
    "seq_num = 0x01\n",
    "\n",
    "cmd, param = 'ReportStatus', False\n",
    "\n",
    "# True - send command, # False - sniff only\n",
    "send_data_packet_to_wd_before_sniffing = False\n",
    "\n",
    "# overwriting = True\n"
   ]
  },
  {
   "cell_type": "markdown",
   "metadata": {},
   "source": [
    "## **`Command Overrides`**"
   ]
  },
  {
   "cell_type": "code",
   "execution_count": 2,
   "metadata": {},
   "outputs": [],
   "source": [
    "specific_param_override = 100\n",
    "specific_cmd_name_override = 'set-heater'\n",
    "\n",
    "#specific_cmd_name_override = 'setup'\n",
    "# specific_cmd_name_override = 'power-on'\n",
    "\n",
    "# specific_cmd_name_override = 'vsa-off'\n",
    "# specific_cmd_name_override = 'vsa-on'\n",
    "\n",
    "# specific_cmd_name_override = '3v3-off'\n",
    "# specific_cmd_name_override = '3v3-on'\n",
    "\n",
    "\n",
    "# specific_cmd_name_override = 'power-off-herc'\n",
    "# specific_cmd_name_override = 'power-off-radio'\n",
    "# specific_cmd_name_override = 'power-off-fpga'\n",
    "# specific_cmd_name_override = 'power-off-motors'\n",
    "\n",
    "# specific_cmd_name_override = 'power-on-herc'\n",
    "# specific_cmd_name_override = 'power-on-radio'\n",
    "# specific_cmd_name_override = 'power-on-fpga'\n",
    "# specific_cmd_name_override = 'power-on-motors'\n",
    "\n",
    "# specific_cmd_name_override = 'reset-radio'\n",
    "# specific_cmd_name_override = 'reset-herc'\n",
    "# specific_cmd_name_override = 'reset-fpga'\n",
    "# specific_cmd_name_override = 'reset-motors'\n",
    "\n",
    "\n",
    "# specific_cmd_name_override = 'drive-fwd-200'\n",
    "\n",
    "# REGE_set = False\n",
    "# BE_set = False\n",
    "# CE_set = 'OFF' # 'OFF' 'ON' 'FORCE_HIGH'\n",
    "# BCE_set = 'OFF' # 'OFF' 'ON' 'FORCE_HIGH'\n",
    "# BL_set = 'OFF' # 'OFF' 'ON' 'PULSE_HIGH'\n",
    "\n",
    "# blimp_cmds: SetChargerEn , SetChargerPowerConnection , SetBatteryConnection\n",
    "#             SetBatteryControlEnable , SetBatteryLatch\n",
    "# specific_cmd_name_override = 'SetBatteryConnection'\n",
    "\n",
    "# blimp_inputs = [False, True, 'OFF', 'ON', 'FORCE_HIGH', 'FORCE_LOW', 'LATCH_BATT_OFF']\n",
    "# specific_param_override = False\n",
    "\n",
    "# if overwriting:\n",
    "cmd, param = specific_cmd_name_override, specific_param_override\n"
   ]
  },
  {
   "cell_type": "markdown",
   "metadata": {},
   "source": [
    "## **`Cmd : Param`**"
   ]
  },
  {
   "cell_type": "code",
   "execution_count": 3,
   "metadata": {},
   "outputs": [
    {
     "name": "stdout",
     "output_type": "stream",
     "text": [
      "set-heater   :   100\n"
     ]
    }
   ],
   "source": [
    "print(cmd,'  :  ',param)"
   ]
  },
  {
   "cell_type": "markdown",
   "metadata": {},
   "source": [
    "## **`Settings`**"
   ]
  },
  {
   "cell_type": "code",
   "execution_count": 4,
   "metadata": {},
   "outputs": [],
   "source": [
    "## SETTINGS:\n",
    "\n",
    "serial_device = '/dev/ttyUSB1'\n",
    "ip=\"192.168.1.2\"\n",
    "port=8080\n",
    "\n",
    "settings['SAVE_FILE_PREFIX'] = 'iris__wd_testing__01_30_22' # this is the prefix on all log files. make it something unique.\n",
    "load_cache()\n",
    "setup_logger(settings['SAVE_FILE_PREFIX']) # logs of stuff printed to console will be stored to `raw-console-logs`\n",
    "\n",
    "# IF ERROR - update last number in FILE_PREFIX"
   ]
  },
  {
   "cell_type": "markdown",
   "metadata": {},
   "source": [
    "## **`UART`**"
   ]
  },
  {
   "cell_type": "code",
   "execution_count": 5,
   "metadata": {},
   "outputs": [
    {
     "name": "stdout",
     "output_type": "stream",
     "text": [
      "DataPathway.WIRED Magic.WATCHDOG_COMMAND WatchDogInterface_SetHeaterSetpoint {'adc_setpoint': 100}\n",
      "01 08 00 fb ee ff 00 c0 da 10 64 00\n"
     ]
    }
   ],
   "source": [
    "pathway, magic, command_name, kwargs, telem_pathway = get_command(cmd, param)\n",
    "print(pathway, magic, command_name, kwargs)\n",
    "\n",
    "packet = build_command_packet(seq_num, pathway, magic, command_name, kwargs)\n",
    "packet_bytes = packet.encode()\n",
    "print(hexstr(packet_bytes))"
   ]
  },
  {
   "cell_type": "code",
   "execution_count": 6,
   "metadata": {},
   "outputs": [
    {
     "name": "stdout",
     "output_type": "stream",
     "text": [
      "\u001b[32mConnection Success!\u001b[0m\n"
     ]
    }
   ],
   "source": [
    "## Send Command:\n",
    "connect_serial(device = serial_device)\n",
    "if send_data_packet_to_wd_before_sniffing:\n",
    "    send_packet(packet, pathway, ip, port)"
   ]
  },
  {
   "cell_type": "markdown",
   "metadata": {},
   "source": [
    "## **`Telemetry`**"
   ]
  },
  {
   "cell_type": "code",
   "execution_count": 7,
   "metadata": {},
   "outputs": [
    {
     "name": "stderr",
     "output_type": "stream",
     "text": [
      "2022-01-30 17:39:40: INFO     > Command[#218: WatchDogInterface_SetHeaterSetpoint] -> NO_ERROR[0x0]\n",
      "2022-01-30 17:39:45: INFO     RS_SERVICE:\t[Heat: ON, Ctrl: ON] \t331.3°K -> 394.3°K +- 25.65K° \tKp = 500 @ Duty Cycle: 0/65535\n",
      "2022-01-30 17:39:52: INFO     RS_SERVICE:\t[Heat: ON, Ctrl: ON] \t331.3°K -> 394.3°K +- 25.65K° \tKp = 500 @ Duty Cycle: 0/65535\n",
      "2022-01-30 17:39:58: INFO     RS_SERVICE:\t[Heat: ON, Ctrl: ON] \t331.3°K -> 394.3°K +- 25.65K° \tKp = 500 @ Duty Cycle: 0/65535\n",
      "2022-01-30 17:40:05: INFO     RS_SERVICE:\t[Heat: ON, Ctrl: ON] \t331.3°K -> 394.3°K +- 25.65K° \tKp = 500 @ Duty Cycle: 0/65535\n",
      "2022-01-30 17:40:11: INFO     RS_SERVICE:\t[Heat: ON, Ctrl: ON] \t331.3°K -> 394.3°K +- 25.65K° \tKp = 500 @ Duty Cycle: 0/65535\n",
      "2022-01-30 17:40:18: INFO     RS_SERVICE:\t[Heat: ON, Ctrl: ON] \t330.2°K -> 394.3°K +- 25.65K° \tKp = 500 @ Duty Cycle: 0/65535\n",
      "2022-01-30 17:40:24: INFO     RS_SERVICE:\t[Heat: ON, Ctrl: ON] \t330.2°K -> 394.3°K +- 25.65K° \tKp = 500 @ Duty Cycle: 0/65535\n",
      "2022-01-30 17:40:31: INFO     RS_SERVICE:\t[Heat: ON, Ctrl: ON] \t330.2°K -> 394.3°K +- 25.65K° \tKp = 500 @ Duty Cycle: 0/65535\n",
      "2022-01-30 17:40:37: INFO     RS_SERVICE:\t[Heat: ON, Ctrl: ON] \t331.2°K -> 394.3°K +- 25.65K° \tKp = 500 @ Duty Cycle: 0/65535\n",
      "2022-01-30 17:40:44: INFO     RS_SERVICE:\t[Heat: ON, Ctrl: ON] \t331.2°K -> 394.3°K +- 25.65K° \tKp = 500 @ Duty Cycle: 0/65535\n",
      "2022-01-30 17:40:50: INFO     RS_SERVICE:\t[Heat: ON, Ctrl: ON] \t331.3°K -> 394.3°K +- 25.65K° \tKp = 500 @ Duty Cycle: 0/65535\n",
      "2022-01-30 17:40:57: INFO     RS_SERVICE:\t[Heat: ON, Ctrl: ON] \t331.3°K -> 394.3°K +- 25.65K° \tKp = 500 @ Duty Cycle: 0/65535\n",
      "2022-01-30 17:41:04: INFO     RS_SERVICE:\t[Heat: ON, Ctrl: ON] \t331.3°K -> 394.3°K +- 25.65K° \tKp = 500 @ Duty Cycle: 0/65535\n",
      "2022-01-30 17:41:10: INFO     RS_SERVICE:\t[Heat: ON, Ctrl: ON] \t330.2°K -> 394.3°K +- 25.65K° \tKp = 500 @ Duty Cycle: 0/65535\n",
      "2022-01-30 17:41:17: INFO     RS_SERVICE:\t[Heat: ON, Ctrl: ON] \t330.2°K -> 394.3°K +- 25.65K° \tKp = 500 @ Duty Cycle: 0/65535\n",
      "2022-01-30 17:41:23: INFO     RS_SERVICE:\t[Heat: ON, Ctrl: ON] \t331.3°K -> 394.3°K +- 25.65K° \tKp = 500 @ Duty Cycle: 0/65535\n",
      "2022-01-30 17:41:30: INFO     RS_SERVICE:\t[Heat: ON, Ctrl: ON] \t330.2°K -> 394.3°K +- 25.65K° \tKp = 500 @ Duty Cycle: 0/65535\n",
      "2022-01-30 17:41:36: INFO     RS_SERVICE:\t[Heat: ON, Ctrl: ON] \t330.2°K -> 394.3°K +- 25.65K° \tKp = 500 @ Duty Cycle: 0/65535\n",
      "2022-01-30 17:41:43: INFO     RS_SERVICE:\t[Heat: ON, Ctrl: ON] \t331.2°K -> 394.3°K +- 25.65K° \tKp = 500 @ Duty Cycle: 0/65535\n",
      "2022-01-30 17:41:49: INFO     RS_SERVICE:\t[Heat: ON, Ctrl: ON] \t331.3°K -> 394.3°K +- 25.65K° \tKp = 500 @ Duty Cycle: 0/65535\n",
      "2022-01-30 17:41:56: INFO     RS_SERVICE:\t[Heat: ON, Ctrl: ON] \t330.2°K -> 394.3°K +- 25.65K° \tKp = 500 @ Duty Cycle: 0/65535\n",
      "2022-01-30 17:42:02: INFO     RS_SERVICE:\t[Heat: ON, Ctrl: ON] \t331.3°K -> 394.3°K +- 25.65K° \tKp = 500 @ Duty Cycle: 0/65535\n",
      "2022-01-30 17:42:09: INFO     RS_SERVICE:\t[Heat: ON, Ctrl: ON] \t331.3°K -> 394.3°K +- 25.65K° \tKp = 500 @ Duty Cycle: 0/65535\n",
      "2022-01-30 17:42:15: INFO     RS_SERVICE:\t[Heat: ON, Ctrl: ON] \t331.2°K -> 394.3°K +- 25.65K° \tKp = 500 @ Duty Cycle: 0/65535\n",
      "2022-01-30 17:42:22: INFO     RS_SERVICE:\t[Heat: ON, Ctrl: ON] \t331.3°K -> 394.3°K +- 25.65K° \tKp = 500 @ Duty Cycle: 0/65535\n",
      "2022-01-30 17:42:29: INFO     RS_SERVICE:\t[Heat: ON, Ctrl: ON] \t331.3°K -> 394.3°K +- 25.65K° \tKp = 500 @ Duty Cycle: 0/65535\n",
      "2022-01-30 17:42:35: INFO     RS_SERVICE:\t[Heat: ON, Ctrl: ON] \t330.2°K -> 394.3°K +- 25.65K° \tKp = 500 @ Duty Cycle: 0/65535\n",
      "2022-01-30 17:42:42: INFO     RS_SERVICE:\t[Heat: ON, Ctrl: ON] \t331.3°K -> 394.3°K +- 25.65K° \tKp = 500 @ Duty Cycle: 0/65535\n",
      "2022-01-30 17:42:48: INFO     RS_SERVICE:\t[Heat: ON, Ctrl: ON] \t330.2°K -> 394.3°K +- 25.65K° \tKp = 500 @ Duty Cycle: 0/65535\n",
      "2022-01-30 17:42:55: INFO     RS_SERVICE:\t[Heat: ON, Ctrl: ON] \t331.2°K -> 394.3°K +- 25.65K° \tKp = 500 @ Duty Cycle: 0/65535\n",
      "2022-01-30 17:43:01: INFO     RS_SERVICE:\t[Heat: ON, Ctrl: ON] \t330.2°K -> 394.3°K +- 25.65K° \tKp = 500 @ Duty Cycle: 0/65535\n",
      "2022-01-30 17:43:08: INFO     RS_SERVICE:\t[Heat: ON, Ctrl: ON] \t331.3°K -> 394.3°K +- 25.65K° \tKp = 500 @ Duty Cycle: 0/65535\n",
      "2022-01-30 17:43:14: INFO     RS_SERVICE:\t[Heat: ON, Ctrl: ON] \t331.3°K -> 394.3°K +- 25.65K° \tKp = 500 @ Duty Cycle: 0/65535\n",
      "2022-01-30 17:43:21: INFO     RS_SERVICE:\t[Heat: ON, Ctrl: ON] \t331.3°K -> 394.3°K +- 25.65K° \tKp = 500 @ Duty Cycle: 0/65535\n",
      "2022-01-30 17:43:28: INFO     RS_SERVICE:\t[Heat: ON, Ctrl: ON] \t331.3°K -> 394.3°K +- 25.65K° \tKp = 500 @ Duty Cycle: 0/65535\n",
      "2022-01-30 17:43:34: INFO     RS_SERVICE:\t[Heat: ON, Ctrl: ON] \t331.3°K -> 394.3°K +- 25.65K° \tKp = 500 @ Duty Cycle: 0/65535\n",
      "2022-01-30 17:43:41: INFO     RS_SERVICE:\t[Heat: ON, Ctrl: ON] \t331.3°K -> 394.3°K +- 25.65K° \tKp = 500 @ Duty Cycle: 0/65535\n",
      "2022-01-30 17:43:47: INFO     RS_SERVICE:\t[Heat: ON, Ctrl: ON] \t330.2°K -> 394.3°K +- 25.65K° \tKp = 500 @ Duty Cycle: 0/65535\n",
      "2022-01-30 17:43:54: INFO     RS_SERVICE:\t[Heat: ON, Ctrl: ON] \t331.3°K -> 394.3°K +- 25.65K° \tKp = 500 @ Duty Cycle: 0/65535\n",
      "2022-01-30 17:44:00: INFO     RS_SERVICE:\t[Heat: ON, Ctrl: ON] \t331.3°K -> 394.3°K +- 25.65K° \tKp = 500 @ Duty Cycle: 0/65535\n",
      "2022-01-30 17:44:07: INFO     RS_SERVICE:\t[Heat: ON, Ctrl: ON] \t331.3°K -> 394.3°K +- 25.65K° \tKp = 500 @ Duty Cycle: 0/65535\n",
      "2022-01-30 17:44:13: INFO     RS_SERVICE:\t[Heat: ON, Ctrl: ON] \t331.3°K -> 394.3°K +- 25.65K° \tKp = 500 @ Duty Cycle: 0/65535\n",
      "2022-01-30 17:44:20: INFO     RS_SERVICE:\t[Heat: ON, Ctrl: ON] \t331.3°K -> 394.3°K +- 25.65K° \tKp = 500 @ Duty Cycle: 0/65535\n",
      "2022-01-30 17:44:26: INFO     RS_SERVICE:\t[Heat: ON, Ctrl: ON] \t331.3°K -> 394.3°K +- 25.65K° \tKp = 500 @ Duty Cycle: 0/65535\n",
      "2022-01-30 17:44:33: INFO     RS_SERVICE:\t[Heat: ON, Ctrl: ON] \t331.3°K -> 394.3°K +- 25.65K° \tKp = 500 @ Duty Cycle: 0/65535\n",
      "2022-01-30 17:44:40: INFO     RS_SERVICE:\t[Heat: ON, Ctrl: ON] \t331.3°K -> 394.3°K +- 25.65K° \tKp = 500 @ Duty Cycle: 0/65535\n",
      "2022-01-30 17:44:46: INFO     RS_SERVICE:\t[Heat: ON, Ctrl: ON] \t330.2°K -> 394.3°K +- 25.65K° \tKp = 500 @ Duty Cycle: 0/65535\n",
      "2022-01-30 17:44:53: INFO     RS_SERVICE:\t[Heat: ON, Ctrl: ON] \t331.3°K -> 394.3°K +- 25.65K° \tKp = 500 @ Duty Cycle: 0/65535\n",
      "2022-01-30 17:44:59: INFO     RS_SERVICE:\t[Heat: ON, Ctrl: ON] \t331.3°K -> 394.3°K +- 25.65K° \tKp = 500 @ Duty Cycle: 0/65535\n",
      "2022-01-30 17:45:06: INFO     RS_SERVICE:\t[Heat: ON, Ctrl: ON] \t331.3°K -> 394.3°K +- 25.65K° \tKp = 500 @ Duty Cycle: 0/65535\n",
      "2022-01-30 17:45:12: INFO     RS_SERVICE:\t[Heat: ON, Ctrl: ON] \t331.3°K -> 394.3°K +- 25.65K° \tKp = 500 @ Duty Cycle: 0/65535\n",
      "2022-01-30 17:45:19: INFO     RS_SERVICE:\t[Heat: ON, Ctrl: ON] \t331.3°K -> 394.3°K +- 25.65K° \tKp = 500 @ Duty Cycle: 0/65535\n",
      "2022-01-30 17:45:25: INFO     RS_SERVICE:\t[Heat: ON, Ctrl: ON] \t331.3°K -> 394.3°K +- 25.65K° \tKp = 500 @ Duty Cycle: 0/65535\n",
      "2022-01-30 17:45:32: INFO     RS_SERVICE:\t[Heat: ON, Ctrl: ON] \t331.2°K -> 394.3°K +- 25.65K° \tKp = 500 @ Duty Cycle: 0/65535\n",
      "2022-01-30 17:45:38: INFO     RS_SERVICE:\t[Heat: ON, Ctrl: ON] \t331.3°K -> 394.3°K +- 25.65K° \tKp = 500 @ Duty Cycle: 0/65535\n",
      "2022-01-30 17:45:45: INFO     RS_SERVICE:\t[Heat: ON, Ctrl: ON] \t331.3°K -> 394.3°K +- 25.65K° \tKp = 500 @ Duty Cycle: 0/65535\n",
      "2022-01-30 17:45:52: INFO     RS_SERVICE:\t[Heat: ON, Ctrl: ON] \t331.2°K -> 394.3°K +- 25.65K° \tKp = 500 @ Duty Cycle: 0/65535\n",
      "2022-01-30 17:45:58: INFO     RS_SERVICE:\t[Heat: ON, Ctrl: ON] \t331.3°K -> 394.3°K +- 25.65K° \tKp = 500 @ Duty Cycle: 0/65535\n",
      "2022-01-30 17:46:05: INFO     RS_SERVICE:\t[Heat: ON, Ctrl: ON] \t330.2°K -> 394.3°K +- 25.65K° \tKp = 500 @ Duty Cycle: 0/65535\n",
      "2022-01-30 17:46:11: INFO     RS_SERVICE:\t[Heat: ON, Ctrl: ON] \t331.2°K -> 394.3°K +- 25.65K° \tKp = 500 @ Duty Cycle: 0/65535\n",
      "2022-01-30 17:46:18: INFO     RS_SERVICE:\t[Heat: ON, Ctrl: ON] \t331.3°K -> 394.3°K +- 25.65K° \tKp = 500 @ Duty Cycle: 0/65535\n",
      "2022-01-30 17:46:24: INFO     RS_SERVICE:\t[Heat: ON, Ctrl: ON] \t331.3°K -> 394.3°K +- 25.65K° \tKp = 500 @ Duty Cycle: 0/65535\n",
      "2022-01-30 17:46:31: INFO     RS_SERVICE:\t[Heat: ON, Ctrl: ON] \t331.3°K -> 394.3°K +- 25.65K° \tKp = 500 @ Duty Cycle: 0/65535\n",
      "2022-01-30 17:46:37: INFO     RS_SERVICE:\t[Heat: ON, Ctrl: ON] \t331.3°K -> 394.3°K +- 25.65K° \tKp = 500 @ Duty Cycle: 0/65535\n",
      "2022-01-30 17:46:44: INFO     RS_SERVICE:\t[Heat: ON, Ctrl: ON] \t331.2°K -> 394.3°K +- 25.65K° \tKp = 500 @ Duty Cycle: 0/65535\n",
      "2022-01-30 17:46:50: INFO     RS_SERVICE:\t[Heat: ON, Ctrl: ON] \t331.3°K -> 394.3°K +- 25.65K° \tKp = 500 @ Duty Cycle: 0/65535\n",
      "2022-01-30 17:46:57: INFO     RS_SERVICE:\t[Heat: ON, Ctrl: ON] \t331.3°K -> 394.3°K +- 25.65K° \tKp = 500 @ Duty Cycle: 0/65535\n",
      "2022-01-30 17:47:04: INFO     RS_SERVICE:\t[Heat: ON, Ctrl: ON] \t331.3°K -> 394.3°K +- 25.65K° \tKp = 500 @ Duty Cycle: 0/65535\n",
      "2022-01-30 17:47:10: INFO     RS_SERVICE:\t[Heat: ON, Ctrl: ON] \t331.2°K -> 394.3°K +- 25.65K° \tKp = 500 @ Duty Cycle: 0/65535\n",
      "2022-01-30 17:47:17: INFO     RS_SERVICE:\t[Heat: ON, Ctrl: ON] \t331.3°K -> 394.3°K +- 25.65K° \tKp = 500 @ Duty Cycle: 0/65535\n",
      "2022-01-30 17:47:23: INFO     RS_SERVICE:\t[Heat: ON, Ctrl: ON] \t330.2°K -> 394.3°K +- 25.65K° \tKp = 500 @ Duty Cycle: 0/65535\n",
      "2022-01-30 17:47:30: INFO     RS_SERVICE:\t[Heat: ON, Ctrl: ON] \t331.3°K -> 394.3°K +- 25.65K° \tKp = 500 @ Duty Cycle: 0/65535\n",
      "2022-01-30 17:47:36: INFO     RS_SERVICE:\t[Heat: ON, Ctrl: ON] \t331.2°K -> 394.3°K +- 25.65K° \tKp = 500 @ Duty Cycle: 0/65535\n",
      "2022-01-30 17:47:43: INFO     RS_SERVICE:\t[Heat: ON, Ctrl: ON] \t331.3°K -> 394.3°K +- 25.65K° \tKp = 500 @ Duty Cycle: 0/65535\n",
      "2022-01-30 17:47:49: INFO     RS_SERVICE:\t[Heat: ON, Ctrl: ON] \t331.3°K -> 394.3°K +- 25.65K° \tKp = 500 @ Duty Cycle: 0/65535\n",
      "2022-01-30 17:47:56: INFO     RS_SERVICE:\t[Heat: ON, Ctrl: ON] \t331.3°K -> 394.3°K +- 25.65K° \tKp = 500 @ Duty Cycle: 0/65535\n",
      "2022-01-30 17:48:03: INFO     RS_SERVICE:\t[Heat: ON, Ctrl: ON] \t330.2°K -> 394.3°K +- 25.65K° \tKp = 500 @ Duty Cycle: 0/65535\n",
      "2022-01-30 17:48:09: INFO     RS_SERVICE:\t[Heat: ON, Ctrl: ON] \t331.3°K -> 394.3°K +- 25.65K° \tKp = 500 @ Duty Cycle: 0/65535\n",
      "2022-01-30 17:48:16: INFO     RS_SERVICE:\t[Heat: ON, Ctrl: ON] \t331.3°K -> 394.3°K +- 25.65K° \tKp = 500 @ Duty Cycle: 0/65535\n",
      "2022-01-30 17:48:22: INFO     RS_SERVICE:\t[Heat: ON, Ctrl: ON] \t331.3°K -> 394.3°K +- 25.65K° \tKp = 500 @ Duty Cycle: 0/65535\n",
      "2022-01-30 17:48:29: INFO     RS_SERVICE:\t[Heat: ON, Ctrl: ON] \t331.3°K -> 394.3°K +- 25.65K° \tKp = 500 @ Duty Cycle: 0/65535\n",
      "2022-01-30 17:48:35: INFO     RS_SERVICE:\t[Heat: ON, Ctrl: ON] \t331.3°K -> 394.3°K +- 25.65K° \tKp = 500 @ Duty Cycle: 0/65535\n",
      "2022-01-30 17:48:42: INFO     RS_SERVICE:\t[Heat: ON, Ctrl: ON] \t331.3°K -> 394.3°K +- 25.65K° \tKp = 500 @ Duty Cycle: 0/65535\n",
      "2022-01-30 17:48:48: INFO     RS_SERVICE:\t[Heat: ON, Ctrl: ON] \t331.2°K -> 394.3°K +- 25.65K° \tKp = 500 @ Duty Cycle: 0/65535\n",
      "2022-01-30 17:48:55: INFO     RS_SERVICE:\t[Heat: ON, Ctrl: ON] \t331.3°K -> 394.3°K +- 25.65K° \tKp = 500 @ Duty Cycle: 0/65535\n",
      "2022-01-30 17:49:01: INFO     RS_SERVICE:\t[Heat: ON, Ctrl: ON] \t331.3°K -> 394.3°K +- 25.65K° \tKp = 500 @ Duty Cycle: 0/65535\n",
      "2022-01-30 17:49:08: INFO     RS_SERVICE:\t[Heat: ON, Ctrl: ON] \t331.3°K -> 394.3°K +- 25.65K° \tKp = 500 @ Duty Cycle: 0/65535\n",
      "2022-01-30 17:49:15: INFO     RS_SERVICE:\t[Heat: ON, Ctrl: ON] \t330.2°K -> 394.3°K +- 25.65K° \tKp = 500 @ Duty Cycle: 0/65535\n",
      "2022-01-30 17:49:21: INFO     RS_SERVICE:\t[Heat: ON, Ctrl: ON] \t331.3°K -> 394.3°K +- 25.65K° \tKp = 500 @ Duty Cycle: 0/65535\n",
      "2022-01-30 17:49:28: INFO     RS_SERVICE:\t[Heat: ON, Ctrl: ON] \t331.3°K -> 394.3°K +- 25.65K° \tKp = 500 @ Duty Cycle: 0/65535\n",
      "2022-01-30 17:49:34: INFO     RS_SERVICE:\t[Heat: ON, Ctrl: ON] \t331.3°K -> 394.3°K +- 25.65K° \tKp = 500 @ Duty Cycle: 0/65535\n",
      "2022-01-30 17:49:41: INFO     RS_SERVICE:\t[Heat: ON, Ctrl: ON] \t331.3°K -> 394.3°K +- 25.65K° \tKp = 500 @ Duty Cycle: 0/65535\n",
      "2022-01-30 17:49:47: INFO     RS_SERVICE:\t[Heat: ON, Ctrl: ON] \t331.3°K -> 394.3°K +- 25.65K° \tKp = 500 @ Duty Cycle: 0/65535\n",
      "2022-01-30 17:49:54: INFO     RS_SERVICE:\t[Heat: ON, Ctrl: ON] \t331.2°K -> 394.3°K +- 25.65K° \tKp = 500 @ Duty Cycle: 0/65535\n",
      "2022-01-30 17:50:03: ERROR    An otherwise unresolved error occurred during packet streaming: unsupported operand type(s) for -: 'NoneType' and 'int'\n",
      "2022-01-30 17:50:03: ERROR    An otherwise unresolved error occurred during packet streaming: cannot convert 'NoneType' object to bytes\n",
      "2022-01-30 17:50:04: ERROR    An otherwise unresolved error occurred during packet streaming: cannot convert 'NoneType' object to bytes\n",
      "2022-01-30 17:50:04: ERROR    An otherwise unresolved error occurred during packet streaming: cannot convert 'NoneType' object to bytes\n",
      "2022-01-30 17:50:10: ERROR    An otherwise unresolved error occurred during packet streaming: cannot convert 'NoneType' object to bytes\n",
      "2022-01-30 17:50:10: ERROR    An otherwise unresolved error occurred during packet streaming: cannot convert 'NoneType' object to bytes\n",
      "2022-01-30 17:50:15: ERROR    An otherwise unresolved error occurred during packet streaming: cannot convert 'NoneType' object to bytes\n",
      "2022-01-30 17:50:15: ERROR    An otherwise unresolved error occurred during packet streaming: cannot convert 'NoneType' object to bytes\n"
     ]
    }
   ],
   "source": [
    "## Stream Telemetry:\n",
    "stream_data_ip_udp_serial()\n",
    "# Check for wireless telemetry in Wireshark. For parsing help, run: `pyenv exec python parse_pcap.py --help`"
   ]
  },
  {
   "cell_type": "markdown",
   "metadata": {},
   "source": []
  }
 ],
 "metadata": {
  "interpreter": {
   "hash": "8816a32dc6e032dd9374d27f75563e4313e5344332f9668033f6f3b340da094a"
  },
  "kernelspec": {
   "display_name": "Python 3.8.5 64-bit ('py_irisbackendv3': venv)",
   "name": "python385jvsc74a57bd0a0d03f56b6733f9c3d15c2bd39d66592601e401c4bc6b05629b467f37657415c"
  },
  "language_info": {
   "codemirror_mode": {
    "name": "ipython",
    "version": 3
   },
   "file_extension": ".py",
   "mimetype": "text/x-python",
   "name": "python",
   "nbconvert_exporter": "python",
   "pygments_lexer": "ipython3",
   "version": "3.8.5"
  },
  "metadata": {
   "interpreter": {
    "hash": "d816d07a47909b7024a3edf42b296ca58cf50e839b20a21cefa98c322fbbe616"
   }
  },
  "orig_nbformat": 2
 },
 "nbformat": 4,
 "nbformat_minor": 2
}