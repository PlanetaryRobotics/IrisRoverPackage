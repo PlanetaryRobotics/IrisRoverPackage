{
 "cells": [
  {
   "cell_type": "markdown",
   "metadata": {},
   "source": [
    "# **`Flight Rover Checkout Monitor + Interface`**\n"
   ]
  },
  {
   "cell_type": "markdown",
   "metadata": {},
   "source": [
    "## **`Setup`**"
   ]
  },
  {
   "cell_type": "code",
   "execution_count": 1,
   "metadata": {},
   "outputs": [],
   "source": [
    "## SETUP:\n",
    "\n",
    "from trans_tools import *\n",
    "from __command_aliases import get_command\n",
    "from IrisBackendv3.utils.basic import bytearray_to_spaced_hex as hexstr\n",
    "\n",
    "seq_num = 0x01\n",
    "\n",
    "cmd, param = 'ReportStatus', False\n",
    "\n",
    "# True - send command, # False - sniff only\n",
    "send_data_packet_to_wd_before_sniffing = True\n",
    "\n",
    "# overwriting = True\n"
   ]
  },
  {
   "cell_type": "markdown",
   "metadata": {},
   "source": [
    "## **`Command Overrides`**"
   ]
  },
  {
   "cell_type": "code",
   "execution_count": 2,
   "metadata": {},
   "outputs": [],
   "source": [
    "specific_param_override = True\n",
    "specific_cmd_name_override = 'ReportStatus'\n",
    "\n",
    "# specific_cmd_name_override = 'setup'\n",
    "# specific_cmd_name_override = 'power-on'\n",
    "\n",
    "# specific_cmd_name_override = 'vsa-off'\n",
    "# specific_cmd_name_override = 'vsa-on'\n",
    "\n",
    "# specific_cmd_name_override = '3v3-off'\n",
    "# specific_cmd_name_override = '3v3-on'\n",
    "\n",
    "\n",
    "# specific_cmd_name_override = 'power-off-herc'\n",
    "# specific_cmd_name_override = 'power-off-radio'\n",
    "# specific_cmd_name_override = 'power-off-fpga'\n",
    "# specific_cmd_name_override = 'power-off-motors'\n",
    "\n",
    "# specific_cmd_name_override = 'power-on-herc'\n",
    "# specific_cmd_name_override = 'power-on-radio'\n",
    "# specific_cmd_name_override = 'power-on-fpga'\n",
    "# specific_cmd_name_override = 'power-on-motors'\n",
    "\n",
    "# specific_cmd_name_override = 'reset-radio'\n",
    "# specific_cmd_name_override = 'reset-herc'\n",
    "# specific_cmd_name_override = 'reset-fpga'\n",
    "# specific_cmd_name_override = 'reset-motors'\n",
    "\n",
    "\n",
    "# specific_cmd_name_override = 'drive-fwd-200'\n",
    "\n",
    "# REGE_set = False\n",
    "# BE_set = False\n",
    "# CE_set = 'OFF' # 'OFF' 'ON' 'FORCE_HIGH'\n",
    "# BCE_set = 'OFF' # 'OFF' 'ON' 'FORCE_HIGH'\n",
    "# BL_set = 'OFF' # 'OFF' 'ON' 'PULSE_HIGH'\n",
    "\n",
    "# blimp_cmds: SetChargerEn , SetChargerPowerConnection , SetBatteryConnection\n",
    "#             SetBatteryControlEnable , SetBatteryLatch\n",
    "# specific_cmd_name_override = 'SetBatteryConnection'\n",
    "\n",
    "# blimp_inputs = [False, True, 'OFF', 'ON', 'FORCE_HIGH', 'FORCE_LOW', 'LATCH_BATT_OFF']\n",
    "# specific_param_override = False\n",
    "\n",
    "# if overwriting:\n",
    "cmd, param = specific_cmd_name_override, specific_param_override\n"
   ]
  },
  {
   "cell_type": "markdown",
   "metadata": {},
   "source": [
    "## **`Cmd : Param`**"
   ]
  },
  {
   "cell_type": "code",
   "execution_count": 3,
   "metadata": {},
   "outputs": [
    {
     "name": "stdout",
     "output_type": "stream",
     "text": [
      "power-on   :   True\n"
     ]
    }
   ],
   "source": [
    "print(cmd,'  :  ',param)"
   ]
  },
  {
   "cell_type": "markdown",
   "metadata": {},
   "source": [
    "## **`Settings`**"
   ]
  },
  {
   "cell_type": "code",
   "execution_count": 4,
   "metadata": {},
   "outputs": [],
   "source": [
    "## SETTINGS:\n",
    "\n",
    "serial_device = '/dev/ttyUSB0'\n",
    "ip=\"192.168.1.2\"\n",
    "port=8080\n",
    "\n",
    "settings['SAVE_FILE_PREFIX'] = 'iris__herc_wifi_testing__12_01f' # this is the prefix on all log files. make it something unique.\n",
    "load_cache()\n",
    "setup_logger(settings['SAVE_FILE_PREFIX']) # logs of stuff printed to console will be stored to `raw-console-logs`\n",
    "\n",
    "# IF ERROR - update last number in FILE_PREFIX"
   ]
  },
  {
   "cell_type": "markdown",
   "metadata": {},
   "source": [
    "## **`UART`**"
   ]
  },
  {
   "cell_type": "code",
   "execution_count": 5,
   "metadata": {},
   "outputs": [
    {
     "name": "stdout",
     "output_type": "stream",
     "text": [
      "DataPathway.WIRED Magic.WATCHDOG_COMMAND WatchDogInterface_PrepareForDeployment {'confirm': 'CONFIRM_PREP'}\n",
      "01 07 00 d9 ee ff 00 c0 01 10 60\n"
     ]
    }
   ],
   "source": [
    "pathway, magic, command_name, kwargs, telem_pathway = get_command(cmd, param)\n",
    "print(pathway, magic, command_name, kwargs)\n",
    "\n",
    "packet = build_command_packet(seq_num, pathway, magic, command_name, kwargs)\n",
    "packet_bytes = packet.encode()\n",
    "print(hexstr(packet_bytes))"
   ]
  },
  {
   "cell_type": "code",
   "execution_count": 6,
   "metadata": {},
   "outputs": [
    {
     "name": "stdout",
     "output_type": "stream",
     "text": [
      "\u001b[32mConnection Success!\u001b[0m\n"
     ]
    }
   ],
   "source": [
    "## Send Command:\n",
    "connect_serial(device = serial_device)\n",
    "if send_data_packet_to_wd_before_sniffing:\n",
    "    send_packet(packet, pathway, ip, port)"
   ]
  },
  {
   "cell_type": "markdown",
   "metadata": {},
   "source": [
    "## **`Telemetry`**"
   ]
  },
  {
   "cell_type": "code",
   "execution_count": 7,
   "metadata": {},
   "outputs": [
    {
     "name": "stderr",
     "output_type": "stream",
     "text": [
      "2021-12-01 08:44:06: INFO     > Command[#1: WatchDogInterface_PrepareForDeployment] -> NO_ERROR[0x0]\n",
      "2021-12-01 08:44:08: INFO     ICP[#0::646]: \t50 T\t- 0 E\t- 0 B\t- 0 C\n",
      "\t Latest Telemetry: Imu{XAcc}@463 = -12,\t Imu{YAcc}@463 = -21,\t Imu{ZAcc}@463 = 155,\t Imu{XAng}@463 = 63180,\t Imu{YAng}@463 = 62125,\t Imu{ZAng}@463 = 63084,\t ActiveRateGroup-RateGroupHiFreq{RgMaxTime}@15 = 1000,\t ActiveRateGroup-RateGroupMedFreq{RgMaxTime}@149 = 7000,\t GroundInterface{GiUplinkPktErrs}@468 = 0,\t GroundInterface{GiCmdsSent}@468 = 0,\t GroundInterface{GiCmdsUplinked}@238 = 0,\t GroundInterface{GiUplinkSeqNum}@238 = 0,\t GroundInterface{GiPacketsReceived}@238 = 0,\t GroundInterface{GiPacketsTransmitted}@238 = 0,\t ActiveRateGroup-RateGroupLowFreq{RgMaxTime}@249 = 16000,\t NetworkManager{Rssi}@465 = -1,\t NetworkManager{Snr}@465 = -1,\t NetworkManager{PktRecv}@465 = 0,\t NetworkManager{PktSent}@466 = 0,\t NetworkManager{WifiErrorStatus}@466 = TIMEOUT[389],\t NetworkManager{WifiStateStatus}@466 = UNINITIALIZED[0]\n",
      "2021-12-01 08:44:09: INFO     ICP[#1::637]: \t50 T\t- 0 E\t- 0 B\t- 0 C\n",
      "\t Latest Telemetry: GroundInterface{GiCmdsUplinked}@2615 = 0,\t GroundInterface{GiUplinkSeqNum}@2615 = 0,\t GroundInterface{GiPacketsReceived}@2615 = 0,\t GroundInterface{GiPacketsTransmitted}@2615 = 1,\t Imu{XAcc}@2840 = -12,\t Imu{YAcc}@2840 = -21,\t Imu{ZAcc}@2840 = 148,\t Imu{XAng}@2840 = 63180,\t Imu{YAng}@2840 = 62125,\t Imu{ZAng}@2840 = 63084,\t NetworkManager{Rssi}@2843 = -1,\t NetworkManager{Snr}@2843 = -1,\t NetworkManager{PktRecv}@2843 = 0,\t NetworkManager{PktSent}@2613 = 0,\t NetworkManager{WifiErrorStatus}@2613 = TIMEOUT[389],\t NetworkManager{WifiStateStatus}@2613 = UNINITIALIZED[0],\t GroundInterface{GiUplinkPktErrs}@2615 = 0,\t GroundInterface{GiCmdsSent}@2615 = 0,\t ActiveRateGroup-RateGroupLowFreq{RgMaxTime}@2396 = 703000\n",
      "2021-12-01 08:44:10: INFO     ICP[#2::643]: \t50 T\t- 0 E\t- 0 B\t- 0 C\n",
      "\t Latest Telemetry: NetworkManager{PktSent}@4982 = 0,\t NetworkManager{WifiErrorStatus}@4982 = TIMEOUT[389],\t NetworkManager{WifiStateStatus}@4982 = UNINITIALIZED[0],\t Imu{XAcc}@6209 = -16,\t Imu{YAcc}@6209 = -19,\t Imu{ZAcc}@6209 = 141,\t Imu{XAng}@6209 = 63180,\t Imu{YAng}@6209 = 62125,\t Imu{ZAng}@6209 = 63084,\t GroundInterface{GiUplinkPktErrs}@4984 = 0,\t GroundInterface{GiCmdsSent}@4984 = 0,\t GroundInterface{GiCmdsUplinked}@4984 = 0,\t GroundInterface{GiUplinkSeqNum}@4984 = 0,\t GroundInterface{GiPacketsReceived}@4984 = 0,\t GroundInterface{GiPacketsTransmitted}@4754 = 2,\t NetworkManager{Rssi}@4982 = -1,\t NetworkManager{Snr}@4982 = -1,\t NetworkManager{PktRecv}@4982 = 0\n",
      "2021-12-01 08:44:10: INFO     RS_MISSION:\t[Heat: OFF, Ctrl: ON] \t428.1°K -> 273.6°K +- 0.92K° \tKp = 500 @ Duty Cycle: 0/65535\n",
      "2021-12-01 08:44:16: INFO     RS_MISSION:\t[Heat: OFF, Ctrl: ON] \t428.1°K -> 273.6°K +- 0.92K° \tKp = 500 @ Duty Cycle: 0/65535\n",
      "2021-12-01 08:44:22: INFO     RS_MISSION:\t[Heat: OFF, Ctrl: ON] \t428.1°K -> 273.6°K +- 0.92K° \tKp = 500 @ Duty Cycle: 0/65535\n",
      "2021-12-01 08:44:28: INFO     RS_MISSION:\t[Heat: OFF, Ctrl: ON] \t398.6°K -> 273.6°K +- 0.92K° \tKp = 500 @ Duty Cycle: 0/65535\n"
     ]
    }
   ],
   "source": [
    "## Stream Telemetry:\n",
    "stream_data_ip_udp_serial()\n",
    "# Check for wireless telemetry in Wireshark. For parsing help, run: `pyenv exec python parse_pcap.py --help`"
   ]
  },
  {
   "cell_type": "markdown",
   "metadata": {},
   "source": []
  }
 ],
 "metadata": {
  "interpreter": {
   "hash": "8816a32dc6e032dd9374d27f75563e4313e5344332f9668033f6f3b340da094a"
  },
  "kernelspec": {
   "display_name": "Python 3.8.5 64-bit ('py_irisbackendv3')",
   "name": "python385jvsc74a57bd0a0d03f56b6733f9c3d15c2bd39d66592601e401c4bc6b05629b467f37657415c"
  },
  "language_info": {
   "codemirror_mode": {
    "name": "ipython",
    "version": 3
   },
   "file_extension": ".py",
   "mimetype": "text/x-python",
   "name": "python",
   "nbconvert_exporter": "python",
   "pygments_lexer": "ipython3",
   "version": "3.8.5"
  },
  "metadata": {
   "interpreter": {
    "hash": "d816d07a47909b7024a3edf42b296ca58cf50e839b20a21cefa98c322fbbe616"
   }
  },
  "orig_nbformat": 2
 },
 "nbformat": 4,
 "nbformat_minor": 2
}