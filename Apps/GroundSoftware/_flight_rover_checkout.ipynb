{
 "cells": [
  {
   "cell_type": "markdown",
   "metadata": {},
   "source": [
    "# **`Flight Rover Checkout Monitor + Interface`**\n"
   ]
  },
  {
   "cell_type": "markdown",
   "metadata": {},
   "source": [
    "## **`Setup`**"
   ]
  },
  {
   "cell_type": "code",
   "execution_count": 1,
   "metadata": {},
   "outputs": [],
   "source": [
    "## SETUP:\n",
    "\n",
    "from trans_tools import *\n",
    "from __command_aliases import get_command\n",
    "from IrisBackendv3.utils.basic import bytearray_to_spaced_hex as hexstr\n",
    "\n",
    "seq_num = 0x01\n",
    "\n",
    "cmd, param = 'ReportStatus', True\n",
    "\n",
    "# True - send command, # False - sniff only\n",
    "send_data_packet_to_wd_before_sniffing = True\n",
    "\n",
    "# overwriting = True\n"
   ]
  },
  {
   "cell_type": "markdown",
   "metadata": {},
   "source": [
    "## **`Command Overrides`**"
   ]
  },
  {
   "cell_type": "code",
   "execution_count": 2,
   "metadata": {},
   "outputs": [],
   "source": [
    "specific_param_override = True\n",
    "specific_cmd_name_override = 'ReportStatus'\n",
    "\n",
    "# specific_cmd_name_override = 'transit'\n",
    "# specific_cmd_name_override = 'setup'\n",
    "# specific_cmd_name_override = 'power-on'\n",
    "\n",
    "# specific_cmd_name_override = 'vsa-off'\n",
    "# specific_cmd_name_override = 'vsa-on'\n",
    "\n",
    "# specific_cmd_name_override = '3v3-off'\n",
    "# specific_cmd_name_override = '3v3-on'\n",
    "\n",
    "\n",
    "# specific_cmd_name_override = 'power-off-herc'\n",
    "# specific_cmd_name_override = 'power-off-radio'\n",
    "# specific_cmd_name_override = 'power-off-fpga'\n",
    "# specific_cmd_name_override = 'power-off-motors'\n",
    "\n",
    "# specific_cmd_name_override = 'power-on-herc'\n",
    "# specific_cmd_name_override = 'power-on-radio'\n",
    "# specific_cmd_name_override = 'power-on-fpga'\n",
    "# specific_cmd_name_override = 'power-on-motors'\n",
    "\n",
    "# specific_cmd_name_override = 'reset-radio'\n",
    "# specific_cmd_name_override = 'reset-herc'\n",
    "# specific_cmd_name_override = 'reset-fpga'\n",
    "# specific_cmd_name_override = 'reset-motors'\n",
    "\n",
    "\n",
    "# specific_cmd_name_override = 'drive-fwd-200'\n",
    "\n",
    "# REGE_set = False\n",
    "# BE_set = False\n",
    "# CE_set = 'OFF' # 'OFF' 'ON' 'FORCE_HIGH'\n",
    "# BCE_set = 'OFF' # 'OFF' 'ON' 'FORCE_HIGH'\n",
    "# BL_set = 'OFF' # 'OFF' 'ON' 'PULSE_HIGH'\n",
    "\n",
    "# blimp_cmds: SetChargerEn , SetChargerPowerConnection , SetBatteryConnection\n",
    "#             SetBatteryControlEnable , SetBatteryLatch\n",
    "# specific_cmd_name_override = 'SetBatteryConnection'\n",
    "\n",
    "# blimp_inputs = [False, True, 'OFF', 'ON', 'FORCE_HIGH', 'FORCE_LOW', 'LATCH_BATT_OFF']\n",
    "# specific_param_override = True\n",
    "\n",
    "# if overwriting:\n",
    "cmd, param = specific_cmd_name_override, specific_param_override\n"
   ]
  },
  {
   "cell_type": "markdown",
   "metadata": {},
   "source": [
    "## **`Cmd : Param`**"
   ]
  },
  {
   "cell_type": "code",
   "execution_count": 3,
   "metadata": {},
   "outputs": [
    {
     "name": "stdout",
     "output_type": "stream",
     "text": [
      "ReportStatus   :   True\n"
     ]
    }
   ],
   "source": [
    "print(cmd,'  :  ',param)"
   ]
  },
  {
   "cell_type": "markdown",
   "metadata": {},
   "source": [
    "## **`Settings`**"
   ]
  },
  {
   "cell_type": "code",
   "execution_count": 4,
   "metadata": {},
   "outputs": [],
   "source": [
    "## SETTINGS:\n",
    "\n",
    "serial_device = '/dev/ttyUSB0'\n",
    "ip=\"192.168.1.2\"\n",
    "port=8080\n",
    "\n",
    "settings['SAVE_FILE_PREFIX'] = 'iris__flight_checkout__12_01_21_a' # this is the prefix on all log files. make it something unique.\n",
    "load_cache()\n",
    "setup_logger(settings['SAVE_FILE_PREFIX']) # logs of stuff printed to console will be stored to `raw-console-logs`\n",
    "\n",
    "# IF ERROR - update last number in FILE_PREFIX"
   ]
  },
  {
   "cell_type": "markdown",
   "metadata": {},
   "source": [
    "## **`UART`**"
   ]
  },
  {
   "cell_type": "code",
   "execution_count": 5,
   "metadata": {},
   "outputs": [
    {
     "name": "stdout",
     "output_type": "stream",
     "text": [
      "DataPathway.WIRED Magic.WATCHDOG_COMMAND WatchDogInterface_RequestStatusReport {'confirm': 'CONFIRM_REQUEST'}\n",
      "01 07 00 ed ee ff 00 c0 f6 10 57\n"
     ]
    }
   ],
   "source": [
    "pathway, magic, command_name, kwargs, telem_pathway = get_command(cmd, param)\n",
    "print(pathway, magic, command_name, kwargs)\n",
    "\n",
    "packet = build_command_packet(seq_num, pathway, magic, command_name, kwargs)\n",
    "packet_bytes = packet.encode()\n",
    "print(hexstr(packet_bytes))"
   ]
  },
  {
   "cell_type": "code",
   "execution_count": 6,
   "metadata": {},
   "outputs": [
    {
     "name": "stdout",
     "output_type": "stream",
     "text": [
      "\u001b[32mConnection Success!\u001b[0m\n"
     ]
    }
   ],
   "source": [
    "## Send Command:\n",
    "connect_serial(device = serial_device)\n",
    "if send_data_packet_to_wd_before_sniffing:\n",
    "    send_packet(packet, pathway, ip, port)"
   ]
  },
  {
   "cell_type": "markdown",
   "metadata": {},
   "source": [
    "## **`Telemetry`**"
   ]
  },
  {
   "cell_type": "code",
   "execution_count": 7,
   "metadata": {},
   "outputs": [
    {
     "name": "stderr",
     "output_type": "stream",
     "text": [
      "2021-12-01 15:12:55: INFO     > Command[#246: WatchDogInterface_RequestStatusReport] -> NO_ERROR[0x0]\n",
      "2021-12-01 15:12:55: INFO     #0 [RS_KEEP_ALIVE + NOT_DEPLOYED] \tCHARGER: OFF \tBATTERIES: DISCONNECTED \tUART0: OFF \tUART1: INITIALIZED_&_ACTIVE\n",
      "1V2: BAD \t1V8: BAD \t2V5: 0.0 \t2V8: 0.0 \t3V3: BAD \t5V0: BAD \t24V: 0.00\n",
      "VBm: 0.00V \tVL: 0.00V \tVcc28: 0.00V \tVSA: 0.00V \tISA: 0.0mA\n",
      "HEATER [268K |274K |273K] \t is HEATING, Control: ENABLED \t@ 0.000W / 0.000W \tPeriod: 1.2ms\n",
      "Tbatt: 428.1K ± 0.0K \tTchrg: 0.0K ± 0.0K \tTblimp: 0.0K\n",
      "BATTERY MONITOR: 0.00V \t0.0mA \t0mAh \t\n",
      "       2V5    2V8    24V    VBm     VL  Vcc28    VSA    ISA       Tbatt     Tchrg\n",
      "ADC      0      0      0      0      0      0      0      0           0         0\n",
      "val  0.00V  0.00V  0.00V  0.00V  0.00V  0.00V  0.00V  0.0mA  428.1±0.0K  0.0±0.0K\n",
      "              HEAT  DEP  BSTAT  BE  LB  LS  LR  CE  REGE  VSAE  3V3_EN  H_ON  R_ON  F_ON  M_ON  H_RST  H_N_PRST  F_N_RST  R_N_RST  CAMSEL  BMSB\n",
      "GPIO (2=HiZ)     1    0      0   0   0   2   2   0     0     2       0     0     0     0     0      0         0        0        0       0     0\n",
      "Reset/Flag Events: []\n",
      " D5 00 08 08 00 00 02 00 00 18 00 00 00 00 00 00 00 00 00 00 C0 00 00 F4 01 34 21 FD 0C 56 0E 18 0D 10 27 00 00 00 00 00 00 00 00 00 00 00 00  .........................4!..V....'............\n",
      "2021-12-01 15:12:57: INFO     #1 [RS_KEEP_ALIVE + NOT_DEPLOYED] \tCHARGER: OFF \tBATTERIES: DISCONNECTED \tUART0: OFF \tUART1: INITIALIZED_&_ACTIVE\n",
      "1V2: BAD \t1V8: BAD \t2V5: 0.0 \t2V8: 0.0 \t3V3: BAD \t5V0: BAD \t24V: 0.00\n",
      "VBm: 0.00V \tVL: 0.00V \tVcc28: 0.00V \tVSA: 0.00V \tISA: 0.0mA\n",
      "HEATER [268K |274K |273K] \t is HEATING, Control: ENABLED \t@ 0.000W / 0.000W \tPeriod: 1.2ms\n",
      "Tbatt: 428.1K ± 0.0K \tTchrg: 0.0K ± 0.0K \tTblimp: 0.0K\n",
      "BATTERY MONITOR: 0.00V \t0.0mA \t0mAh \t\n",
      "       2V5    2V8    24V    VBm     VL  Vcc28    VSA    ISA       Tbatt     Tchrg\n",
      "ADC      0      0      0      0      0      0      0      0           0         0\n",
      "val  0.00V  0.00V  0.00V  0.00V  0.00V  0.00V  0.00V  0.0mA  428.1±0.0K  0.0±0.0K\n",
      "              HEAT  DEP  BSTAT  BE  LB  LS  LR  CE  REGE  VSAE  3V3_EN  H_ON  R_ON  F_ON  M_ON  H_RST  H_N_PRST  F_N_RST  R_N_RST  CAMSEL  BMSB\n",
      "GPIO (2=HiZ)     1    0      0   0   0   2   2   0     0     2       0     0     0     0     0      0         0        0        0       0     0\n",
      "Reset/Flag Events: []\n",
      " D5 00 08 08 00 01 02 00 00 18 00 00 00 00 00 00 00 00 00 00 C0 00 00 F4 01 34 21 FD 0C 56 0E 18 0D 10 27 00 00 00 00 00 00 00 00 00 00 00 00  .........................4!..V....'............\n",
      "2021-12-01 15:13:02: INFO     #2 [RS_KEEP_ALIVE + NOT_DEPLOYED] \tCHARGER: OFF \tBATTERIES: DISCONNECTED \tUART0: OFF \tUART1: INITIALIZED_&_ACTIVE\n",
      "1V2: BAD \t1V8: BAD \t2V5: 0.0 \t2V8: 0.0 \t3V3: BAD \t5V0: BAD \t24V: 0.41\n",
      "VBm: 1.77V \tVL: 24.81V \tVcc28: 26.10V \tVSA: 0.99V \tISA: 7.4mA\n",
      "HEATER [268K |274K |273K] \t is HEATING, Control: ENABLED \t@ 0.000W / 0.733W \tPeriod: 1.2ms\n",
      "Tbatt: 428.1K ± 0.0K \tTchrg: 0.0K ± 0.0K \tTblimp: 0.0K\n",
      "BATTERY MONITOR: 0.00V \t0.0mA \t0mAh \t\n",
      "       2V5    2V8    24V    VBm      VL   Vcc28    VSA    ISA       Tbatt     Tchrg\n",
      "ADC      0      0     64    264    3200    2944    128      2           1         0\n",
      "val  0.00V  0.00V  0.41V  1.77V  24.81V  26.10V  0.99V  7.4mA  428.1±0.0K  0.0±0.0K\n",
      "              HEAT  DEP  BSTAT  BE  LB  LS  LR  CE  REGE  VSAE  3V3_EN  H_ON  R_ON  F_ON  M_ON  H_RST  H_N_PRST  F_N_RST  R_N_RST  CAMSEL  BMSB\n",
      "GPIO (2=HiZ)     1    0      0   0   0   2   2   0     0     2       0     0     0     0     0      0         0        0        0       0     0\n",
      "Reset/Flag Events: []\n",
      " D5 00 08 18 00 02 02 00 00 18 00 00 00 00 00 64 00 41 40 08 C1 00 B8 F4 01 34 21 FD 0C 56 0E 18 0D 10 27 00 00 00 00 00 00 00 00 00 00 00 00  ...............d.A@......4!..V....'............\n",
      "2021-12-01 15:13:07: ERROR    An otherwise unresolved error occurred during packet streaming: device reports readiness to read but returned no data (device disconnected or multiple access on port?)\n",
      "2021-12-01 15:13:07: ERROR    An otherwise unresolved error occurred during packet streaming: device reports readiness to read but returned no data (device disconnected or multiple access on port?)\n",
      "2021-12-01 15:13:07: ERROR    An otherwise unresolved error occurred during packet streaming: device reports readiness to read but returned no data (device disconnected or multiple access on port?)\n",
      "2021-12-01 15:13:07: ERROR    An otherwise unresolved error occurred during packet streaming: device reports readiness to read but returned no data (device disconnected or multiple access on port?)\n",
      "2021-12-01 15:13:07: ERROR    An otherwise unresolved error occurred during packet streaming: device reports readiness to read but returned no data (device disconnected or multiple access on port?)\n",
      "2021-12-01 15:13:07: ERROR    An otherwise unresolved error occurred during packet streaming: device reports readiness to read but returned no data (device disconnected or multiple access on port?)\n",
      "2021-12-01 15:13:07: ERROR    An otherwise unresolved error occurred during packet streaming: device reports readiness to read but returned no data (device disconnected or multiple access on port?)\n",
      "2021-12-01 15:13:07: ERROR    An otherwise unresolved error occurred during packet streaming: device reports readiness to read but returned no data (device disconnected or multiple access on port?)\n",
      "2021-12-01 15:13:07: ERROR    An otherwise unresolved error occurred during packet streaming: device reports readiness to read but returned no data (device disconnected or multiple access on port?)\n",
      "2021-12-01 15:13:07: ERROR    An otherwise unresolved error occurred during packet streaming: device reports readiness to read but returned no data (device disconnected or multiple access on port?)\n",
      "2021-12-01 15:13:07: ERROR    An otherwise unresolved error occurred during packet streaming: device reports readiness to read but returned no data (device disconnected or multiple access on port?)\n",
      "2021-12-01 15:13:07: ERROR    An otherwise unresolved error occurred during packet streaming: device reports readiness to read but returned no data (device disconnected or multiple access on port?)\n",
      "2021-12-01 15:13:07: ERROR    An otherwise unresolved error occurred during packet streaming: device reports readiness to read but returned no data (device disconnected or multiple access on port?)\n",
      "2021-12-01 15:13:07: ERROR    An otherwise unresolved error occurred during packet streaming: device reports readiness to read but returned no data (device disconnected or multiple access on port?)\n",
      "2021-12-01 15:13:07: ERROR    An otherwise unresolved error occurred during packet streaming: device reports readiness to read but returned no data (device disconnected or multiple access on port?)\n",
      "2021-12-01 15:13:07: ERROR    An otherwise unresolved error occurred during packet streaming: device reports readiness to read but returned no data (device disconnected or multiple access on port?)\n",
      "2021-12-01 15:13:07: ERROR    An otherwise unresolved error occurred during packet streaming: device reports readiness to read but returned no data (device disconnected or multiple access on port?)\n",
      "2021-12-01 15:13:07: ERROR    An otherwise unresolved error occurred during packet streaming: device reports readiness to read but returned no data (device disconnected or multiple access on port?)\n",
      "2021-12-01 15:13:07: ERROR    An otherwise unresolved error occurred during packet streaming: device reports readiness to read but returned no data (device disconnected or multiple access on port?)\n",
      "2021-12-01 15:13:07: ERROR    An otherwise unresolved error occurred during packet streaming: device reports readiness to read but returned no data (device disconnected or multiple access on port?)\n",
      "2021-12-01 15:13:07: ERROR    An otherwise unresolved error occurred during packet streaming: device reports readiness to read but returned no data (device disconnected or multiple access on port?)\n",
      "2021-12-01 15:13:07: ERROR    An otherwise unresolved error occurred during packet streaming: device reports readiness to read but returned no data (device disconnected or multiple access on port?)\n",
      "2021-12-01 15:13:07: ERROR    An otherwise unresolved error occurred during packet streaming: device reports readiness to read but returned no data (device disconnected or multiple access on port?)\n",
      "2021-12-01 15:13:07: ERROR    An otherwise unresolved error occurred during packet streaming: device reports readiness to read but returned no data (device disconnected or multiple access on port?)\n",
      "2021-12-01 15:13:07: ERROR    An otherwise unresolved error occurred during packet streaming: device reports readiness to read but returned no data (device disconnected or multiple access on port?)\n",
      "2021-12-01 15:13:07: ERROR    An otherwise unresolved error occurred during packet streaming: device reports readiness to read but returned no data (device disconnected or multiple access on port?)\n",
      "2021-12-01 15:13:07: ERROR    An otherwise unresolved error occurred during packet streaming: device reports readiness to read but returned no data (device disconnected or multiple access on port?)\n",
      "2021-12-01 15:13:07: ERROR    An otherwise unresolved error occurred during packet streaming: device reports readiness to read but returned no data (device disconnected or multiple access on port?)\n",
      "2021-12-01 15:13:07: ERROR    An otherwise unresolved error occurred during packet streaming: device reports readiness to read but returned no data (device disconnected or multiple access on port?)\n",
      "2021-12-01 15:13:07: ERROR    An otherwise unresolved error occurred during packet streaming: device reports readiness to read but returned no data (device disconnected or multiple access on port?)\n",
      "2021-12-01 15:13:07: ERROR    An otherwise unresolved error occurred during packet streaming: device reports readiness to read but returned no data (device disconnected or multiple access on port?)\n",
      "2021-12-01 15:13:07: ERROR    An otherwise unresolved error occurred during packet streaming: device reports readiness to read but returned no data (device disconnected or multiple access on port?)\n",
      "2021-12-01 15:13:07: ERROR    An otherwise unresolved error occurred during packet streaming: device reports readiness to read but returned no data (device disconnected or multiple access on port?)\n",
      "2021-12-01 15:13:07: ERROR    An otherwise unresolved error occurred during packet streaming: device reports readiness to read but returned no data (device disconnected or multiple access on port?)\n",
      "2021-12-01 15:13:07: ERROR    An otherwise unresolved error occurred during packet streaming: device reports readiness to read but returned no data (device disconnected or multiple access on port?)\n",
      "2021-12-01 15:13:07: ERROR    An otherwise unresolved error occurred during packet streaming: device reports readiness to read but returned no data (device disconnected or multiple access on port?)\n",
      "2021-12-01 15:13:07: ERROR    An otherwise unresolved error occurred during packet streaming: device reports readiness to read but returned no data (device disconnected or multiple access on port?)\n",
      "2021-12-01 15:13:07: ERROR    An otherwise unresolved error occurred during packet streaming: device reports readiness to read but returned no data (device disconnected or multiple access on port?)\n",
      "2021-12-01 15:13:07: ERROR    An otherwise unresolved error occurred during packet streaming: device reports readiness to read but returned no data (device disconnected or multiple access on port?)\n",
      "2021-12-01 15:13:07: ERROR    An otherwise unresolved error occurred during packet streaming: device reports readiness to read but returned no data (device disconnected or multiple access on port?)\n",
      "2021-12-01 15:13:07: ERROR    An otherwise unresolved error occurred during packet streaming: device reports readiness to read but returned no data (device disconnected or multiple access on port?)\n",
      "2021-12-01 15:13:07: ERROR    An otherwise unresolved error occurred during packet streaming: device reports readiness to read but returned no data (device disconnected or multiple access on port?)\n",
      "2021-12-01 15:13:07: ERROR    An otherwise unresolved error occurred during packet streaming: device reports readiness to read but returned no data (device disconnected or multiple access on port?)\n",
      "2021-12-01 15:13:07: ERROR    An otherwise unresolved error occurred during packet streaming: device reports readiness to read but returned no data (device disconnected or multiple access on port?)\n",
      "2021-12-01 15:13:07: ERROR    An otherwise unresolved error occurred during packet streaming: device reports readiness to read but returned no data (device disconnected or multiple access on port?)\n",
      "2021-12-01 15:13:07: ERROR    An otherwise unresolved error occurred during packet streaming: device reports readiness to read but returned no data (device disconnected or multiple access on port?)\n",
      "2021-12-01 15:13:07: ERROR    An otherwise unresolved error occurred during packet streaming: device reports readiness to read but returned no data (device disconnected or multiple access on port?)\n",
      "2021-12-01 15:13:07: ERROR    An otherwise unresolved error occurred during packet streaming: device reports readiness to read but returned no data (device disconnected or multiple access on port?)\n",
      "2021-12-01 15:13:07: ERROR    An otherwise unresolved error occurred during packet streaming: device reports readiness to read but returned no data (device disconnected or multiple access on port?)\n",
      "2021-12-01 15:13:07: ERROR    An otherwise unresolved error occurred during packet streaming: device reports readiness to read but returned no data (device disconnected or multiple access on port?)\n",
      "2021-12-01 15:13:07: ERROR    An otherwise unresolved error occurred during packet streaming: device reports readiness to read but returned no data (device disconnected or multiple access on port?)\n",
      "2021-12-01 15:13:07: ERROR    An otherwise unresolved error occurred during packet streaming: device reports readiness to read but returned no data (device disconnected or multiple access on port?)\n",
      "2021-12-01 15:13:07: ERROR    An otherwise unresolved error occurred during packet streaming: device reports readiness to read but returned no data (device disconnected or multiple access on port?)\n",
      "2021-12-01 15:13:07: ERROR    An otherwise unresolved error occurred during packet streaming: device reports readiness to read but returned no data (device disconnected or multiple access on port?)\n",
      "2021-12-01 15:13:07: ERROR    An otherwise unresolved error occurred during packet streaming: device reports readiness to read but returned no data (device disconnected or multiple access on port?)\n",
      "2021-12-01 15:13:07: ERROR    An otherwise unresolved error occurred during packet streaming: device reports readiness to read but returned no data (device disconnected or multiple access on port?)\n",
      "2021-12-01 15:13:07: ERROR    An otherwise unresolved error occurred during packet streaming: device reports readiness to read but returned no data (device disconnected or multiple access on port?)\n",
      "2021-12-01 15:13:07: ERROR    An otherwise unresolved error occurred during packet streaming: device reports readiness to read but returned no data (device disconnected or multiple access on port?)\n",
      "2021-12-01 15:13:07: ERROR    An otherwise unresolved error occurred during packet streaming: device reports readiness to read but returned no data (device disconnected or multiple access on port?)\n",
      "2021-12-01 15:13:07: ERROR    An otherwise unresolved error occurred during packet streaming: device reports readiness to read but returned no data (device disconnected or multiple access on port?)\n",
      "2021-12-01 15:13:07: ERROR    An otherwise unresolved error occurred during packet streaming: device reports readiness to read but returned no data (device disconnected or multiple access on port?)\n",
      "2021-12-01 15:13:07: ERROR    An otherwise unresolved error occurred during packet streaming: device reports readiness to read but returned no data (device disconnected or multiple access on port?)\n",
      "2021-12-01 15:13:07: ERROR    An otherwise unresolved error occurred during packet streaming: device reports readiness to read but returned no data (device disconnected or multiple access on port?)\n",
      "2021-12-01 15:13:07: ERROR    An otherwise unresolved error occurred during packet streaming: device reports readiness to read but returned no data (device disconnected or multiple access on port?)\n",
      "2021-12-01 15:13:07: ERROR    An otherwise unresolved error occurred during packet streaming: device reports readiness to read but returned no data (device disconnected or multiple access on port?)\n",
      "2021-12-01 15:13:07: ERROR    An otherwise unresolved error occurred during packet streaming: device reports readiness to read but returned no data (device disconnected or multiple access on port?)\n",
      "2021-12-01 15:13:07: ERROR    An otherwise unresolved error occurred during packet streaming: device reports readiness to read but returned no data (device disconnected or multiple access on port?)\n",
      "2021-12-01 15:13:07: ERROR    An otherwise unresolved error occurred during packet streaming: device reports readiness to read but returned no data (device disconnected or multiple access on port?)\n",
      "2021-12-01 15:13:07: ERROR    An otherwise unresolved error occurred during packet streaming: device reports readiness to read but returned no data (device disconnected or multiple access on port?)\n",
      "2021-12-01 15:13:07: ERROR    An otherwise unresolved error occurred during packet streaming: device reports readiness to read but returned no data (device disconnected or multiple access on port?)\n",
      "2021-12-01 15:13:07: ERROR    An otherwise unresolved error occurred during packet streaming: device reports readiness to read but returned no data (device disconnected or multiple access on port?)\n",
      "2021-12-01 15:13:07: ERROR    An otherwise unresolved error occurred during packet streaming: device reports readiness to read but returned no data (device disconnected or multiple access on port?)\n",
      "2021-12-01 15:13:07: ERROR    An otherwise unresolved error occurred during packet streaming: device reports readiness to read but returned no data (device disconnected or multiple access on port?)\n",
      "2021-12-01 15:13:07: ERROR    An otherwise unresolved error occurred during packet streaming: device reports readiness to read but returned no data (device disconnected or multiple access on port?)\n",
      "2021-12-01 15:13:07: ERROR    An otherwise unresolved error occurred during packet streaming: device reports readiness to read but returned no data (device disconnected or multiple access on port?)\n",
      "2021-12-01 15:13:07: ERROR    An otherwise unresolved error occurred during packet streaming: device reports readiness to read but returned no data (device disconnected or multiple access on port?)\n",
      "2021-12-01 15:13:07: ERROR    An otherwise unresolved error occurred during packet streaming: device reports readiness to read but returned no data (device disconnected or multiple access on port?)\n",
      "2021-12-01 15:13:07: ERROR    An otherwise unresolved error occurred during packet streaming: device reports readiness to read but returned no data (device disconnected or multiple access on port?)\n",
      "2021-12-01 15:13:07: ERROR    An otherwise unresolved error occurred during packet streaming: device reports readiness to read but returned no data (device disconnected or multiple access on port?)\n",
      "2021-12-01 15:13:07: ERROR    An otherwise unresolved error occurred during packet streaming: device reports readiness to read but returned no data (device disconnected or multiple access on port?)\n",
      "2021-12-01 15:13:07: ERROR    An otherwise unresolved error occurred during packet streaming: device reports readiness to read but returned no data (device disconnected or multiple access on port?)\n",
      "2021-12-01 15:13:07: ERROR    An otherwise unresolved error occurred during packet streaming: device reports readiness to read but returned no data (device disconnected or multiple access on port?)\n",
      "2021-12-01 15:13:07: ERROR    An otherwise unresolved error occurred during packet streaming: device reports readiness to read but returned no data (device disconnected or multiple access on port?)\n",
      "2021-12-01 15:13:07: ERROR    An otherwise unresolved error occurred during packet streaming: device reports readiness to read but returned no data (device disconnected or multiple access on port?)\n",
      "2021-12-01 15:13:07: ERROR    An otherwise unresolved error occurred during packet streaming: device reports readiness to read but returned no data (device disconnected or multiple access on port?)\n",
      "2021-12-01 15:13:07: ERROR    An otherwise unresolved error occurred during packet streaming: device reports readiness to read but returned no data (device disconnected or multiple access on port?)\n",
      "2021-12-01 15:13:07: ERROR    An otherwise unresolved error occurred during packet streaming: device reports readiness to read but returned no data (device disconnected or multiple access on port?)\n",
      "2021-12-01 15:13:07: ERROR    An otherwise unresolved error occurred during packet streaming: device reports readiness to read but returned no data (device disconnected or multiple access on port?)\n",
      "2021-12-01 15:13:07: ERROR    An otherwise unresolved error occurred during packet streaming: device reports readiness to read but returned no data (device disconnected or multiple access on port?)\n",
      "2021-12-01 15:13:07: ERROR    An otherwise unresolved error occurred during packet streaming: device reports readiness to read but returned no data (device disconnected or multiple access on port?)\n",
      "2021-12-01 15:13:07: ERROR    An otherwise unresolved error occurred during packet streaming: device reports readiness to read but returned no data (device disconnected or multiple access on port?)\n",
      "2021-12-01 15:13:07: ERROR    An otherwise unresolved error occurred during packet streaming: device reports readiness to read but returned no data (device disconnected or multiple access on port?)\n",
      "2021-12-01 15:13:07: ERROR    An otherwise unresolved error occurred during packet streaming: device reports readiness to read but returned no data (device disconnected or multiple access on port?)\n",
      "2021-12-01 15:13:07: ERROR    An otherwise unresolved error occurred during packet streaming: device reports readiness to read but returned no data (device disconnected or multiple access on port?)\n",
      "2021-12-01 15:13:07: ERROR    An otherwise unresolved error occurred during packet streaming: device reports readiness to read but returned no data (device disconnected or multiple access on port?)\n",
      "2021-12-01 15:13:07: ERROR    An otherwise unresolved error occurred during packet streaming: device reports readiness to read but returned no data (device disconnected or multiple access on port?)\n",
      "2021-12-01 15:13:07: ERROR    An otherwise unresolved error occurred during packet streaming: device reports readiness to read but returned no data (device disconnected or multiple access on port?)\n",
      "2021-12-01 15:13:07: ERROR    An otherwise unresolved error occurred during packet streaming: device reports readiness to read but returned no data (device disconnected or multiple access on port?)\n",
      "2021-12-01 15:13:07: ERROR    An otherwise unresolved error occurred during packet streaming: device reports readiness to read but returned no data (device disconnected or multiple access on port?)\n",
      "2021-12-01 15:13:07: ERROR    An otherwise unresolved error occurred during packet streaming: device reports readiness to read but returned no data (device disconnected or multiple access on port?)\n",
      "2021-12-01 15:13:07: ERROR    An otherwise unresolved error occurred during packet streaming: device reports readiness to read but returned no data (device disconnected or multiple access on port?)\n",
      "2021-12-01 15:13:07: ERROR    An otherwise unresolved error occurred during packet streaming: device reports readiness to read but returned no data (device disconnected or multiple access on port?)\n",
      "2021-12-01 15:13:07: ERROR    An otherwise unresolved error occurred during packet streaming: device reports readiness to read but returned no data (device disconnected or multiple access on port?)\n",
      "2021-12-01 15:13:07: ERROR    An otherwise unresolved error occurred during packet streaming: device reports readiness to read but returned no data (device disconnected or multiple access on port?)\n",
      "2021-12-01 15:13:07: ERROR    An otherwise unresolved error occurred during packet streaming: device reports readiness to read but returned no data (device disconnected or multiple access on port?)\n",
      "2021-12-01 15:13:07: ERROR    An otherwise unresolved error occurred during packet streaming: device reports readiness to read but returned no data (device disconnected or multiple access on port?)\n",
      "2021-12-01 15:13:07: ERROR    An otherwise unresolved error occurred during packet streaming: device reports readiness to read but returned no data (device disconnected or multiple access on port?)\n",
      "2021-12-01 15:13:07: ERROR    An otherwise unresolved error occurred during packet streaming: device reports readiness to read but returned no data (device disconnected or multiple access on port?)\n",
      "2021-12-01 15:13:07: ERROR    An otherwise unresolved error occurred during packet streaming: device reports readiness to read but returned no data (device disconnected or multiple access on port?)\n",
      "2021-12-01 15:13:07: ERROR    An otherwise unresolved error occurred during packet streaming: device reports readiness to read but returned no data (device disconnected or multiple access on port?)\n",
      "2021-12-01 15:13:07: ERROR    An otherwise unresolved error occurred during packet streaming: device reports readiness to read but returned no data (device disconnected or multiple access on port?)\n",
      "2021-12-01 15:13:07: ERROR    An otherwise unresolved error occurred during packet streaming: device reports readiness to read but returned no data (device disconnected or multiple access on port?)\n",
      "2021-12-01 15:13:07: ERROR    An otherwise unresolved error occurred during packet streaming: device reports readiness to read but returned no data (device disconnected or multiple access on port?)\n",
      "2021-12-01 15:13:07: ERROR    An otherwise unresolved error occurred during packet streaming: device reports readiness to read but returned no data (device disconnected or multiple access on port?)\n",
      "2021-12-01 15:13:07: ERROR    An otherwise unresolved error occurred during packet streaming: device reports readiness to read but returned no data (device disconnected or multiple access on port?)\n",
      "2021-12-01 15:13:07: ERROR    An otherwise unresolved error occurred during packet streaming: device reports readiness to read but returned no data (device disconnected or multiple access on port?)\n",
      "2021-12-01 15:13:07: ERROR    An otherwise unresolved error occurred during packet streaming: device reports readiness to read but returned no data (device disconnected or multiple access on port?)\n",
      "2021-12-01 15:13:07: ERROR    An otherwise unresolved error occurred during packet streaming: device reports readiness to read but returned no data (device disconnected or multiple access on port?)\n",
      "2021-12-01 15:13:07: ERROR    An otherwise unresolved error occurred during packet streaming: device reports readiness to read but returned no data (device disconnected or multiple access on port?)\n",
      "2021-12-01 15:13:07: ERROR    An otherwise unresolved error occurred during packet streaming: device reports readiness to read but returned no data (device disconnected or multiple access on port?)\n",
      "2021-12-01 15:13:07: ERROR    An otherwise unresolved error occurred during packet streaming: device reports readiness to read but returned no data (device disconnected or multiple access on port?)\n",
      "2021-12-01 15:13:07: ERROR    An otherwise unresolved error occurred during packet streaming: device reports readiness to read but returned no data (device disconnected or multiple access on port?)\n",
      "2021-12-01 15:13:07: ERROR    An otherwise unresolved error occurred during packet streaming: device reports readiness to read but returned no data (device disconnected or multiple access on port?)\n",
      "2021-12-01 15:13:07: ERROR    An otherwise unresolved error occurred during packet streaming: device reports readiness to read but returned no data (device disconnected or multiple access on port?)\n",
      "2021-12-01 15:13:07: ERROR    An otherwise unresolved error occurred during packet streaming: device reports readiness to read but returned no data (device disconnected or multiple access on port?)\n",
      "2021-12-01 15:13:07: ERROR    An otherwise unresolved error occurred during packet streaming: device reports readiness to read but returned no data (device disconnected or multiple access on port?)\n",
      "2021-12-01 15:13:07: ERROR    An otherwise unresolved error occurred during packet streaming: device reports readiness to read but returned no data (device disconnected or multiple access on port?)\n",
      "2021-12-01 15:13:07: ERROR    An otherwise unresolved error occurred during packet streaming: device reports readiness to read but returned no data (device disconnected or multiple access on port?)\n",
      "2021-12-01 15:13:07: ERROR    An otherwise unresolved error occurred during packet streaming: device reports readiness to read but returned no data (device disconnected or multiple access on port?)\n",
      "2021-12-01 15:13:07: ERROR    An otherwise unresolved error occurred during packet streaming: device reports readiness to read but returned no data (device disconnected or multiple access on port?)\n",
      "2021-12-01 15:13:07: ERROR    An otherwise unresolved error occurred during packet streaming: device reports readiness to read but returned no data (device disconnected or multiple access on port?)\n",
      "2021-12-01 15:13:07: ERROR    An otherwise unresolved error occurred during packet streaming: device reports readiness to read but returned no data (device disconnected or multiple access on port?)\n",
      "2021-12-01 15:13:07: ERROR    An otherwise unresolved error occurred during packet streaming: device reports readiness to read but returned no data (device disconnected or multiple access on port?)\n",
      "2021-12-01 15:13:07: ERROR    An otherwise unresolved error occurred during packet streaming: device reports readiness to read but returned no data (device disconnected or multiple access on port?)\n",
      "2021-12-01 15:13:07: ERROR    An otherwise unresolved error occurred during packet streaming: device reports readiness to read but returned no data (device disconnected or multiple access on port?)\n",
      "2021-12-01 15:13:07: ERROR    An otherwise unresolved error occurred during packet streaming: device reports readiness to read but returned no data (device disconnected or multiple access on port?)\n",
      "2021-12-01 15:13:07: ERROR    An otherwise unresolved error occurred during packet streaming: device reports readiness to read but returned no data (device disconnected or multiple access on port?)\n",
      "2021-12-01 15:13:07: ERROR    An otherwise unresolved error occurred during packet streaming: device reports readiness to read but returned no data (device disconnected or multiple access on port?)\n",
      "2021-12-01 15:13:07: ERROR    An otherwise unresolved error occurred during packet streaming: device reports readiness to read but returned no data (device disconnected or multiple access on port?)\n",
      "2021-12-01 15:13:07: ERROR    An otherwise unresolved error occurred during packet streaming: device reports readiness to read but returned no data (device disconnected or multiple access on port?)\n",
      "2021-12-01 15:13:07: ERROR    An otherwise unresolved error occurred during packet streaming: device reports readiness to read but returned no data (device disconnected or multiple access on port?)\n",
      "2021-12-01 15:13:07: ERROR    An otherwise unresolved error occurred during packet streaming: device reports readiness to read but returned no data (device disconnected or multiple access on port?)\n",
      "2021-12-01 15:13:07: ERROR    An otherwise unresolved error occurred during packet streaming: device reports readiness to read but returned no data (device disconnected or multiple access on port?)\n",
      "2021-12-01 15:13:07: ERROR    An otherwise unresolved error occurred during packet streaming: device reports readiness to read but returned no data (device disconnected or multiple access on port?)\n",
      "2021-12-01 15:13:07: ERROR    An otherwise unresolved error occurred during packet streaming: device reports readiness to read but returned no data (device disconnected or multiple access on port?)\n",
      "2021-12-01 15:13:07: ERROR    An otherwise unresolved error occurred during packet streaming: device reports readiness to read but returned no data (device disconnected or multiple access on port?)\n",
      "2021-12-01 15:13:07: ERROR    An otherwise unresolved error occurred during packet streaming: device reports readiness to read but returned no data (device disconnected or multiple access on port?)\n",
      "2021-12-01 15:13:07: ERROR    An otherwise unresolved error occurred during packet streaming: device reports readiness to read but returned no data (device disconnected or multiple access on port?)\n",
      "2021-12-01 15:13:07: ERROR    An otherwise unresolved error occurred during packet streaming: device reports readiness to read but returned no data (device disconnected or multiple access on port?)\n",
      "2021-12-01 15:13:07: ERROR    An otherwise unresolved error occurred during packet streaming: device reports readiness to read but returned no data (device disconnected or multiple access on port?)\n",
      "2021-12-01 15:13:07: ERROR    An otherwise unresolved error occurred during packet streaming: device reports readiness to read but returned no data (device disconnected or multiple access on port?)\n",
      "2021-12-01 15:13:07: ERROR    An otherwise unresolved error occurred during packet streaming: device reports readiness to read but returned no data (device disconnected or multiple access on port?)\n",
      "2021-12-01 15:13:07: ERROR    An otherwise unresolved error occurred during packet streaming: device reports readiness to read but returned no data (device disconnected or multiple access on port?)\n",
      "2021-12-01 15:13:07: ERROR    An otherwise unresolved error occurred during packet streaming: device reports readiness to read but returned no data (device disconnected or multiple access on port?)\n",
      "2021-12-01 15:13:07: ERROR    An otherwise unresolved error occurred during packet streaming: device reports readiness to read but returned no data (device disconnected or multiple access on port?)\n",
      "2021-12-01 15:13:07: ERROR    An otherwise unresolved error occurred during packet streaming: device reports readiness to read but returned no data (device disconnected or multiple access on port?)\n",
      "2021-12-01 15:13:07: ERROR    An otherwise unresolved error occurred during packet streaming: device reports readiness to read but returned no data (device disconnected or multiple access on port?)\n",
      "2021-12-01 15:13:07: ERROR    An otherwise unresolved error occurred during packet streaming: device reports readiness to read but returned no data (device disconnected or multiple access on port?)\n",
      "2021-12-01 15:13:07: ERROR    An otherwise unresolved error occurred during packet streaming: device reports readiness to read but returned no data (device disconnected or multiple access on port?)\n",
      "2021-12-01 15:13:07: ERROR    An otherwise unresolved error occurred during packet streaming: device reports readiness to read but returned no data (device disconnected or multiple access on port?)\n",
      "2021-12-01 15:13:07: ERROR    An otherwise unresolved error occurred during packet streaming: device reports readiness to read but returned no data (device disconnected or multiple access on port?)\n",
      "2021-12-01 15:13:07: ERROR    An otherwise unresolved error occurred during packet streaming: device reports readiness to read but returned no data (device disconnected or multiple access on port?)\n",
      "2021-12-01 15:13:07: ERROR    An otherwise unresolved error occurred during packet streaming: device reports readiness to read but returned no data (device disconnected or multiple access on port?)\n",
      "2021-12-01 15:13:07: ERROR    An otherwise unresolved error occurred during packet streaming: device reports readiness to read but returned no data (device disconnected or multiple access on port?)\n",
      "2021-12-01 15:13:07: ERROR    An otherwise unresolved error occurred during packet streaming: device reports readiness to read but returned no data (device disconnected or multiple access on port?)\n",
      "2021-12-01 15:13:07: ERROR    An otherwise unresolved error occurred during packet streaming: device reports readiness to read but returned no data (device disconnected or multiple access on port?)\n",
      "2021-12-01 15:13:07: ERROR    An otherwise unresolved error occurred during packet streaming: device reports readiness to read but returned no data (device disconnected or multiple access on port?)\n",
      "2021-12-01 15:13:07: ERROR    An otherwise unresolved error occurred during packet streaming: device reports readiness to read but returned no data (device disconnected or multiple access on port?)\n",
      "2021-12-01 15:13:07: ERROR    An otherwise unresolved error occurred during packet streaming: device reports readiness to read but returned no data (device disconnected or multiple access on port?)\n",
      "2021-12-01 15:13:07: ERROR    An otherwise unresolved error occurred during packet streaming: device reports readiness to read but returned no data (device disconnected or multiple access on port?)\n",
      "2021-12-01 15:13:07: ERROR    An otherwise unresolved error occurred during packet streaming: device reports readiness to read but returned no data (device disconnected or multiple access on port?)\n",
      "2021-12-01 15:13:07: ERROR    An otherwise unresolved error occurred during packet streaming: device reports readiness to read but returned no data (device disconnected or multiple access on port?)\n",
      "2021-12-01 15:13:07: ERROR    An otherwise unresolved error occurred during packet streaming: device reports readiness to read but returned no data (device disconnected or multiple access on port?)\n",
      "2021-12-01 15:13:07: ERROR    An otherwise unresolved error occurred during packet streaming: device reports readiness to read but returned no data (device disconnected or multiple access on port?)\n",
      "2021-12-01 15:13:07: ERROR    An otherwise unresolved error occurred during packet streaming: device reports readiness to read but returned no data (device disconnected or multiple access on port?)\n",
      "2021-12-01 15:13:07: ERROR    An otherwise unresolved error occurred during packet streaming: device reports readiness to read but returned no data (device disconnected or multiple access on port?)\n",
      "2021-12-01 15:13:07: ERROR    An otherwise unresolved error occurred during packet streaming: device reports readiness to read but returned no data (device disconnected or multiple access on port?)\n",
      "2021-12-01 15:13:07: ERROR    An otherwise unresolved error occurred during packet streaming: device reports readiness to read but returned no data (device disconnected or multiple access on port?)\n",
      "2021-12-01 15:13:07: ERROR    An otherwise unresolved error occurred during packet streaming: device reports readiness to read but returned no data (device disconnected or multiple access on port?)\n",
      "2021-12-01 15:13:07: ERROR    An otherwise unresolved error occurred during packet streaming: device reports readiness to read but returned no data (device disconnected or multiple access on port?)\n",
      "2021-12-01 15:13:07: ERROR    An otherwise unresolved error occurred during packet streaming: device reports readiness to read but returned no data (device disconnected or multiple access on port?)\n",
      "2021-12-01 15:13:07: ERROR    An otherwise unresolved error occurred during packet streaming: device reports readiness to read but returned no data (device disconnected or multiple access on port?)\n",
      "2021-12-01 15:13:07: ERROR    An otherwise unresolved error occurred during packet streaming: device reports readiness to read but returned no data (device disconnected or multiple access on port?)\n",
      "2021-12-01 15:13:07: ERROR    An otherwise unresolved error occurred during packet streaming: device reports readiness to read but returned no data (device disconnected or multiple access on port?)\n",
      "2021-12-01 15:13:07: ERROR    An otherwise unresolved error occurred during packet streaming: device reports readiness to read but returned no data (device disconnected or multiple access on port?)\n",
      "2021-12-01 15:13:07: ERROR    An otherwise unresolved error occurred during packet streaming: device reports readiness to read but returned no data (device disconnected or multiple access on port?)\n",
      "2021-12-01 15:13:07: ERROR    An otherwise unresolved error occurred during packet streaming: device reports readiness to read but returned no data (device disconnected or multiple access on port?)\n",
      "2021-12-01 15:13:07: ERROR    An otherwise unresolved error occurred during packet streaming: device reports readiness to read but returned no data (device disconnected or multiple access on port?)\n",
      "2021-12-01 15:13:07: ERROR    An otherwise unresolved error occurred during packet streaming: device reports readiness to read but returned no data (device disconnected or multiple access on port?)\n",
      "2021-12-01 15:13:07: ERROR    An otherwise unresolved error occurred during packet streaming: device reports readiness to read but returned no data (device disconnected or multiple access on port?)\n",
      "2021-12-01 15:13:07: ERROR    An otherwise unresolved error occurred during packet streaming: device reports readiness to read but returned no data (device disconnected or multiple access on port?)\n"
     ]
    }
   ],
   "source": [
    "## Stream Telemetry:\n",
    "stream_data_ip_udp_serial()\n",
    "# Check for wireless telemetry in Wireshark. For parsing help, run: `pyenv exec python parse_pcap.py --help`"
   ]
  },
  {
   "cell_type": "markdown",
   "metadata": {},
   "source": []
  }
 ],
 "metadata": {
  "interpreter": {
   "hash": "8816a32dc6e032dd9374d27f75563e4313e5344332f9668033f6f3b340da094a"
  },
  "kernelspec": {
   "display_name": "Python 3.8.5 64-bit ('py_irisbackendv3')",
   "name": "python385jvsc74a57bd0a0d03f56b6733f9c3d15c2bd39d66592601e401c4bc6b05629b467f37657415c"
  },
  "language_info": {
   "name": "python",
   "version": ""
  },
  "metadata": {
   "interpreter": {
    "hash": "d816d07a47909b7024a3edf42b296ca58cf50e839b20a21cefa98c322fbbe616"
   }
  },
  "orig_nbformat": 2
 },
 "nbformat": 4,
 "nbformat_minor": 2
}