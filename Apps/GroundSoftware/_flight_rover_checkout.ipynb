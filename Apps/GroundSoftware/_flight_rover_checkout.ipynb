{
 "cells": [
  {
   "cell_type": "markdown",
   "metadata": {},
   "source": [
    "# **`Flight Rover Checkout Monitor + Interface`**\n"
   ]
  },
  {
   "cell_type": "markdown",
   "metadata": {},
   "source": [
    "## **`Setup`**"
   ]
  },
  {
   "cell_type": "code",
   "execution_count": 1,
   "metadata": {},
   "outputs": [],
   "source": [
    "## SETUP:\n",
    "\n",
    "from trans_tools import *\n",
    "from __command_aliases import get_command\n",
    "from IrisBackendv3.utils.basic import bytearray_to_spaced_hex as hexstr\n",
    "\n",
    "seq_num = 0x01\n",
    "\n",
    "cmd, param = 'ReportStatus', False\n",
    "\n",
    "# True - send command, # False - sniff only\n",
    "send_data_packet_to_wd_before_sniffing = True\n",
    "\n",
    "# overwriting = True\n"
   ]
  },
  {
   "cell_type": "markdown",
   "metadata": {},
   "source": [
    "## **`Command Overrides`**"
   ]
  },
  {
   "cell_type": "code",
   "execution_count": 2,
   "metadata": {},
   "outputs": [],
   "source": [
    "specific_param_override = True\n",
    "specific_cmd_name_override = 'ReportStatus'\n",
    "\n",
    "# specific_cmd_name_override = 'setup'\n",
    "specific_cmd_name_override = 'power-on'\n",
    "# specific_cmd_name_override = 'wifi-mode'\n",
    "\n",
    "# specific_cmd_name_override = 'vsa-off'\n",
    "# specific_cmd_name_override = 'vsa-on'\n",
    "\n",
    "# specific_cmd_name_override = '3v3-off'\n",
    "# specific_cmd_name_override = '3v3-on'\n",
    "\n",
    "\n",
    "# specific_cmd_name_override = 'power-off-herc'\n",
    "# specific_cmd_name_override = 'power-off-radio'\n",
    "# specific_cmd_name_override = 'power-off-fpga'\n",
    "# specific_cmd_name_override = 'power-off-motors'\n",
    "\n",
    "# specific_cmd_name_override = 'power-on-herc'\n",
    "# specific_cmd_name_override = 'power-on-radio'\n",
    "# specific_cmd_name_override = 'power-on-fpga'\n",
    "# specific_cmd_name_override = 'power-on-motors'\n",
    "\n",
    "# specific_cmd_name_override = 'reset-radio'\n",
    "# specific_cmd_name_override = 'reset-herc'\n",
    "# specific_cmd_name_override = 'reset-fpga'\n",
    "# specific_cmd_name_override = 'reset-motors'\n",
    "\n",
    "\n",
    "# specific_cmd_name_override = 'drive-fwd-200'\n",
    "\n",
    "# REGE_set = False\n",
    "# BE_set = False\n",
    "# CE_set = 'OFF' # 'OFF' 'ON' 'FORCE_HIGH'\n",
    "# BCE_set = 'OFF' # 'OFF' 'ON' 'FORCE_HIGH'\n",
    "# BL_set = 'OFF' # 'OFF' 'ON' 'PULSE_HIGH'\n",
    "\n",
    "# blimp_cmds: SetChargerEn , SetChargerPowerConnection , SetBatteryConnection\n",
    "#             SetBatteryControlEnable , SetBatteryLatch\n",
    "# specific_cmd_name_override = 'SetBatteryConnection'\n",
    "\n",
    "# blimp_inputs = [False, True, 'OFF', 'ON', 'FORCE_HIGH', 'FORCE_LOW', 'LATCH_BATT_OFF']\n",
    "# specific_param_override = False\n",
    "\n",
    "# if overwriting:\n",
    "cmd, param = specific_cmd_name_override, specific_param_override\n"
   ]
  },
  {
   "cell_type": "markdown",
   "metadata": {},
   "source": [
    "## **`Cmd : Param`**"
   ]
  },
  {
   "cell_type": "code",
   "execution_count": 3,
   "metadata": {},
   "outputs": [
    {
     "name": "stdout",
     "output_type": "stream",
     "text": [
      "ReportStatus   :   True\n"
     ]
    }
   ],
   "source": [
    "print(cmd,'  :  ',param)"
   ]
  },
  {
   "cell_type": "markdown",
   "metadata": {},
   "source": [
    "## **`Settings`**"
   ]
  },
  {
   "cell_type": "code",
   "execution_count": 4,
   "metadata": {},
   "outputs": [],
   "source": [
    "## SETTINGS:\n",
    "\n",
    "serial_device = '/dev/ttyUSB0'\n",
    "ip=\"192.168.1.2\"\n",
    "port=8080\n",
    "\n",
    "settings['SAVE_FILE_PREFIX'] = 'iris__herc_wifi_testing__12_01e' # this is the prefix on all log files. make it something unique.\n",
    "load_cache()\n",
    "setup_logger(settings['SAVE_FILE_PREFIX']) # logs of stuff printed to console will be stored to `raw-console-logs`\n",
    "\n",
    "# IF ERROR - update last number in FILE_PREFIX"
   ]
  },
  {
   "cell_type": "markdown",
   "metadata": {},
   "source": [
    "## **`UART`**"
   ]
  },
  {
   "cell_type": "code",
   "execution_count": 5,
   "metadata": {},
   "outputs": [
    {
     "name": "stdout",
     "output_type": "stream",
     "text": [
      "DataPathway.WIRED Magic.WATCHDOG_COMMAND WatchDogInterface_RequestStatusReport {'confirm': 'CONFIRM_REQUEST'}\n",
      "01 07 00 ed ee ff 00 c0 f6 10 57\n"
     ]
    }
   ],
   "source": [
    "pathway, magic, command_name, kwargs, telem_pathway = get_command(cmd, param)\n",
    "print(pathway, magic, command_name, kwargs)\n",
    "\n",
    "packet = build_command_packet(seq_num, pathway, magic, command_name, kwargs)\n",
    "packet_bytes = packet.encode()\n",
    "print(hexstr(packet_bytes))"
   ]
  },
  {
   "cell_type": "code",
   "execution_count": 6,
   "metadata": {},
   "outputs": [
    {
     "name": "stdout",
     "output_type": "stream",
     "text": [
      "\u001b[32mConnection Success!\u001b[0m\n"
     ]
    }
   ],
   "source": [
    "## Send Command:\n",
    "connect_serial(device = serial_device)\n",
    "if send_data_packet_to_wd_before_sniffing:\n",
    "    send_packet(packet, pathway, ip, port)"
   ]
  },
  {
   "cell_type": "markdown",
   "metadata": {},
   "source": [
    "## **`Telemetry`**"
   ]
  },
  {
   "cell_type": "code",
   "execution_count": 7,
   "metadata": {},
   "outputs": [
    {
     "name": "stderr",
     "output_type": "stream",
     "text": [
      "2021-12-01 06:30:38: INFO     > Command[#246: WatchDogInterface_RequestStatusReport] -> NO_ERROR[0x0]\n",
      "2021-12-01 06:30:38: INFO     #48 [RS_SERVICE + NOT_DEPLOYED] \tCHARGER: CHARGING \tBATTERIES: LATCHED_CONNECTED \tUART0: OFF \tUART1: INITIALIZED_&_ACTIVE\n",
      "1V2: GOOD \t1V8: BAD \t2V5: 0.0 \t2V8: 0.0 \t3V3: BAD \t5V0: GOOD \t24V: 0.41\n",
      "VBm: 3.32V \tVL: 24.31V \tVcc28: 26.66V \tVSA: 22.82V \tISA: 55.6mA\n",
      "HEATER [268K |274K |273K] \t is HEATING, Control: ENABLED \t@ 0.000W / 0.724W \tPeriod: 1.2ms\n",
      "Tbatt: 428.1K ± 0.0K \tTchrg: 428.1K ± 0.0K \tTblimp: 0.0K\n",
      "BATTERY MONITOR: 0.00V \t0.0mA \t0mAh \t\n",
      "       2V5    2V8    24V    VBm      VL   Vcc28     VSA     ISA       Tbatt       Tchrg\n",
      "ADC      0      0     64    496    3136    3008    2944      15           1          24\n",
      "val  0.00V  0.00V  0.41V  3.32V  24.31V  26.66V  22.82V  55.6mA  428.1±0.0K  428.1±0.0K\n",
      "              HEAT  DEP  BSTAT  BE  LB  LS  LR  CE  REGE  VSAE  3V3_EN  H_ON  R_ON  F_ON  M_ON  H_RST  H_N_PRST  F_N_RST  R_N_RST  CAMSEL  BMSB\n",
      "GPIO (2=HiZ)     1    0      0   1   0   2   2   0     0     1       1     1     1     0     0      1         1        0        1       0     0\n",
      "Reset/Flag Events: [HERCULES_RESET, HERCULES_UNRESET, HERCULES_POWER_ON, RADIO_RESET, RADIO_UNRESET, RADIO_POWER_ON, 3V3_EN_POWER_ON, 24V_EN_POWER_ON]\n",
      " D5 9E 04 18 00 30 62 D8 06 18 EE 00 22 00 00 E2 01 F7 81 0F C1 00 BC F4 01 34 21 FD 0C 56 0E 18 0D 10 27 00 00 00 00 00 00 00 00 00 00 00 00  .....0b.....\"............4!..V....'............\n",
      "2021-12-01 06:30:42: INFO     RS_SERVICE:\t[Heat: ON, Ctrl: ON] \t428.1°K -> 273.6°K +- 0.92K° \tKp = 500 @ Duty Cycle: 0/65535\n",
      "2021-12-01 06:30:48: INFO     RS_SERVICE:\t[Heat: ON, Ctrl: ON] \t337.6°K -> 273.6°K +- 0.92K° \tKp = 500 @ Duty Cycle: 0/65535\n",
      "2021-12-01 06:30:54: INFO     RS_SERVICE:\t[Heat: ON, Ctrl: ON] \t428.1°K -> 273.6°K +- 0.92K° \tKp = 500 @ Duty Cycle: 0/65535\n",
      "2021-12-01 06:31:00: INFO     RS_SERVICE:\t[Heat: ON, Ctrl: ON] \t428.1°K -> 273.6°K +- 0.92K° \tKp = 500 @ Duty Cycle: 0/65535\n",
      "2021-12-01 06:31:06: INFO     RS_SERVICE:\t[Heat: ON, Ctrl: ON] \t397.4°K -> 273.6°K +- 0.92K° \tKp = 500 @ Duty Cycle: 0/65535\n",
      "2021-12-01 06:31:12: INFO     RS_SERVICE:\t[Heat: ON, Ctrl: ON] \t422.3°K -> 273.6°K +- 0.92K° \tKp = 500 @ Duty Cycle: 0/65535\n",
      "2021-12-01 06:31:17: INFO     RS_SERVICE:\t[Heat: ON, Ctrl: ON] \t332.3°K -> 273.6°K +- 0.92K° \tKp = 500 @ Duty Cycle: 0/65535\n",
      "2021-12-01 06:31:23: INFO     RS_SERVICE:\t[Heat: ON, Ctrl: ON] \t428.1°K -> 273.6°K +- 0.92K° \tKp = 500 @ Duty Cycle: 0/65535\n",
      "2021-12-01 06:31:29: INFO     RS_SERVICE:\t[Heat: ON, Ctrl: ON] \t330.5°K -> 273.6°K +- 0.92K° \tKp = 500 @ Duty Cycle: 0/65535\n",
      "2021-12-01 06:31:35: INFO     RS_SERVICE:\t[Heat: ON, Ctrl: ON] \t428.1°K -> 273.6°K +- 0.92K° \tKp = 500 @ Duty Cycle: 0/65535\n",
      "2021-12-01 06:31:41: INFO     RS_SERVICE:\t[Heat: ON, Ctrl: ON] \t428.1°K -> 273.6°K +- 0.92K° \tKp = 500 @ Duty Cycle: 0/65535\n",
      "2021-12-01 06:31:47: INFO     RS_SERVICE:\t[Heat: ON, Ctrl: ON] \t428.1°K -> 273.6°K +- 0.92K° \tKp = 500 @ Duty Cycle: 0/65535\n",
      "2021-12-01 06:31:53: INFO     RS_SERVICE:\t[Heat: ON, Ctrl: ON] \t428.1°K -> 273.6°K +- 0.92K° \tKp = 500 @ Duty Cycle: 0/65535\n",
      "2021-12-01 06:31:59: INFO     RS_SERVICE:\t[Heat: ON, Ctrl: ON] \t428.1°K -> 273.6°K +- 0.92K° \tKp = 500 @ Duty Cycle: 0/65535\n",
      "2021-12-01 06:32:05: INFO     RS_SERVICE:\t[Heat: ON, Ctrl: ON] \t428.1°K -> 273.6°K +- 0.92K° \tKp = 500 @ Duty Cycle: 0/65535\n",
      "2021-12-01 06:32:11: INFO     RS_SERVICE:\t[Heat: ON, Ctrl: ON] \t428.1°K -> 273.6°K +- 0.92K° \tKp = 500 @ Duty Cycle: 0/65535\n",
      "2021-12-01 06:32:16: INFO     RS_SERVICE:\t[Heat: ON, Ctrl: ON] \t428.1°K -> 273.6°K +- 0.92K° \tKp = 500 @ Duty Cycle: 0/65535\n",
      "2021-12-01 06:32:22: INFO     RS_SERVICE:\t[Heat: ON, Ctrl: ON] \t332.4°K -> 273.6°K +- 0.92K° \tKp = 500 @ Duty Cycle: 0/65535\n",
      "2021-12-01 06:32:28: INFO     RS_SERVICE:\t[Heat: ON, Ctrl: ON] \t428.1°K -> 273.6°K +- 0.92K° \tKp = 500 @ Duty Cycle: 0/65535\n",
      "2021-12-01 06:32:34: INFO     RS_SERVICE:\t[Heat: ON, Ctrl: ON] \t428.1°K -> 273.6°K +- 0.92K° \tKp = 500 @ Duty Cycle: 0/65535\n",
      "2021-12-01 06:32:40: INFO     RS_SERVICE:\t[Heat: ON, Ctrl: ON] \t428.1°K -> 273.6°K +- 0.92K° \tKp = 500 @ Duty Cycle: 0/65535\n",
      "2021-12-01 06:32:46: INFO     RS_SERVICE:\t[Heat: ON, Ctrl: ON] \t357.7°K -> 273.6°K +- 0.92K° \tKp = 500 @ Duty Cycle: 0/65535\n",
      "2021-12-01 06:32:52: INFO     RS_SERVICE:\t[Heat: ON, Ctrl: ON] \t334.5°K -> 273.6°K +- 0.92K° \tKp = 500 @ Duty Cycle: 0/65535\n",
      "2021-12-01 06:32:58: INFO     RS_SERVICE:\t[Heat: ON, Ctrl: ON] \t347.4°K -> 273.6°K +- 0.92K° \tKp = 500 @ Duty Cycle: 0/65535\n",
      "2021-12-01 06:33:04: INFO     RS_SERVICE:\t[Heat: ON, Ctrl: ON] \t428.1°K -> 273.6°K +- 0.92K° \tKp = 500 @ Duty Cycle: 0/65535\n",
      "2021-12-01 06:33:10: INFO     RS_SERVICE:\t[Heat: ON, Ctrl: ON] \t428.1°K -> 273.6°K +- 0.92K° \tKp = 500 @ Duty Cycle: 0/65535\n",
      "2021-12-01 06:33:15: INFO     RS_SERVICE:\t[Heat: ON, Ctrl: ON] \t334.2°K -> 273.6°K +- 0.92K° \tKp = 500 @ Duty Cycle: 0/65535\n",
      "2021-12-01 06:33:21: INFO     RS_SERVICE:\t[Heat: ON, Ctrl: ON] \t428.1°K -> 273.6°K +- 0.92K° \tKp = 500 @ Duty Cycle: 0/65535\n",
      "2021-12-01 06:33:27: INFO     RS_SERVICE:\t[Heat: ON, Ctrl: ON] \t428.1°K -> 273.6°K +- 0.92K° \tKp = 500 @ Duty Cycle: 0/65535\n",
      "2021-12-01 06:33:33: INFO     RS_SERVICE:\t[Heat: ON, Ctrl: ON] \t399.5°K -> 273.6°K +- 0.92K° \tKp = 500 @ Duty Cycle: 0/65535\n",
      "2021-12-01 06:33:39: INFO     RS_SERVICE:\t[Heat: ON, Ctrl: ON] \t358.8°K -> 273.6°K +- 0.92K° \tKp = 500 @ Duty Cycle: 0/65535\n",
      "2021-12-01 06:33:45: INFO     RS_SERVICE:\t[Heat: ON, Ctrl: ON] \t407.0°K -> 273.6°K +- 0.92K° \tKp = 500 @ Duty Cycle: 0/65535\n",
      "2021-12-01 06:33:51: INFO     RS_SERVICE:\t[Heat: ON, Ctrl: ON] \t428.1°K -> 273.6°K +- 0.92K° \tKp = 500 @ Duty Cycle: 0/65535\n",
      "2021-12-01 06:33:57: INFO     RS_SERVICE:\t[Heat: ON, Ctrl: ON] \t428.1°K -> 273.6°K +- 0.92K° \tKp = 500 @ Duty Cycle: 0/65535\n",
      "2021-12-01 06:34:03: INFO     RS_SERVICE:\t[Heat: ON, Ctrl: ON] \t384.0°K -> 273.6°K +- 0.92K° \tKp = 500 @ Duty Cycle: 0/65535\n",
      "2021-12-01 06:34:08: INFO     RS_SERVICE:\t[Heat: ON, Ctrl: ON] \t428.1°K -> 273.6°K +- 0.92K° \tKp = 500 @ Duty Cycle: 0/65535\n",
      "2021-12-01 06:34:14: INFO     RS_SERVICE:\t[Heat: ON, Ctrl: ON] \t417.4°K -> 273.6°K +- 0.92K° \tKp = 500 @ Duty Cycle: 0/65535\n",
      "2021-12-01 06:34:20: INFO     RS_SERVICE:\t[Heat: ON, Ctrl: ON] \t428.1°K -> 273.6°K +- 0.92K° \tKp = 500 @ Duty Cycle: 0/65535\n",
      "2021-12-01 06:34:26: INFO     RS_SERVICE:\t[Heat: ON, Ctrl: ON] \t428.1°K -> 273.6°K +- 0.92K° \tKp = 500 @ Duty Cycle: 0/65535\n",
      "2021-12-01 06:34:32: INFO     RS_SERVICE:\t[Heat: ON, Ctrl: ON] \t342.0°K -> 273.6°K +- 0.92K° \tKp = 500 @ Duty Cycle: 0/65535\n",
      "2021-12-01 06:34:38: INFO     RS_SERVICE:\t[Heat: ON, Ctrl: ON] \t428.1°K -> 273.6°K +- 0.92K° \tKp = 500 @ Duty Cycle: 0/65535\n",
      "2021-12-01 06:34:44: INFO     RS_SERVICE:\t[Heat: ON, Ctrl: ON] \t428.1°K -> 273.6°K +- 0.92K° \tKp = 500 @ Duty Cycle: 0/65535\n",
      "2021-12-01 06:34:50: INFO     RS_SERVICE:\t[Heat: ON, Ctrl: ON] \t428.1°K -> 273.6°K +- 0.92K° \tKp = 500 @ Duty Cycle: 0/65535\n",
      "2021-12-01 06:34:56: INFO     RS_SERVICE:\t[Heat: ON, Ctrl: ON] \t364.2°K -> 273.6°K +- 0.92K° \tKp = 500 @ Duty Cycle: 0/65535\n",
      "2021-12-01 06:35:02: INFO     RS_SERVICE:\t[Heat: ON, Ctrl: ON] \t428.1°K -> 273.6°K +- 0.92K° \tKp = 500 @ Duty Cycle: 0/65535\n",
      "2021-12-01 06:35:07: INFO     RS_SERVICE:\t[Heat: ON, Ctrl: ON] \t380.9°K -> 273.6°K +- 0.92K° \tKp = 500 @ Duty Cycle: 0/65535\n",
      "2021-12-01 06:35:13: INFO     RS_SERVICE:\t[Heat: ON, Ctrl: ON] \t428.1°K -> 273.6°K +- 0.92K° \tKp = 500 @ Duty Cycle: 0/65535\n",
      "2021-12-01 06:35:19: INFO     RS_SERVICE:\t[Heat: ON, Ctrl: ON] \t428.1°K -> 273.6°K +- 0.92K° \tKp = 500 @ Duty Cycle: 0/65535\n",
      "2021-12-01 06:35:25: INFO     RS_SERVICE:\t[Heat: ON, Ctrl: ON] \t428.1°K -> 273.6°K +- 0.92K° \tKp = 500 @ Duty Cycle: 0/65535\n",
      "2021-12-01 06:35:31: INFO     RS_SERVICE:\t[Heat: ON, Ctrl: ON] \t428.1°K -> 273.6°K +- 0.92K° \tKp = 500 @ Duty Cycle: 0/65535\n",
      "2021-12-01 06:35:37: INFO     RS_SERVICE:\t[Heat: ON, Ctrl: ON] \t428.1°K -> 273.6°K +- 0.92K° \tKp = 500 @ Duty Cycle: 0/65535\n",
      "2021-12-01 06:35:43: INFO     RS_SERVICE:\t[Heat: ON, Ctrl: ON] \t428.1°K -> 273.6°K +- 0.92K° \tKp = 500 @ Duty Cycle: 0/65535\n",
      "2021-12-01 06:35:49: INFO     RS_SERVICE:\t[Heat: ON, Ctrl: ON] \t428.1°K -> 273.6°K +- 0.92K° \tKp = 500 @ Duty Cycle: 0/65535\n",
      "2021-12-01 06:35:55: INFO     RS_SERVICE:\t[Heat: ON, Ctrl: ON] \t428.1°K -> 273.6°K +- 0.92K° \tKp = 500 @ Duty Cycle: 0/65535\n",
      "2021-12-01 06:36:01: INFO     RS_SERVICE:\t[Heat: ON, Ctrl: ON] \t428.1°K -> 273.6°K +- 0.92K° \tKp = 500 @ Duty Cycle: 0/65535\n",
      "2021-12-01 06:36:06: INFO     RS_SERVICE:\t[Heat: ON, Ctrl: ON] \t428.1°K -> 273.6°K +- 0.92K° \tKp = 500 @ Duty Cycle: 0/65535\n",
      "2021-12-01 06:36:12: INFO     RS_SERVICE:\t[Heat: ON, Ctrl: ON] \t428.1°K -> 273.6°K +- 0.92K° \tKp = 500 @ Duty Cycle: 0/65535\n",
      "2021-12-01 06:36:18: INFO     RS_SERVICE:\t[Heat: ON, Ctrl: ON] \t428.1°K -> 273.6°K +- 0.92K° \tKp = 500 @ Duty Cycle: 0/65535\n",
      "2021-12-01 06:36:24: INFO     RS_SERVICE:\t[Heat: ON, Ctrl: ON] \t428.1°K -> 273.6°K +- 0.92K° \tKp = 500 @ Duty Cycle: 0/65535\n",
      "2021-12-01 06:36:30: INFO     RS_SERVICE:\t[Heat: ON, Ctrl: ON] \t428.1°K -> 273.6°K +- 0.92K° \tKp = 500 @ Duty Cycle: 0/65535\n",
      "2021-12-01 06:36:36: INFO     RS_SERVICE:\t[Heat: ON, Ctrl: ON] \t345.0°K -> 273.6°K +- 0.92K° \tKp = 500 @ Duty Cycle: 0/65535\n",
      "2021-12-01 06:36:42: INFO     RS_SERVICE:\t[Heat: ON, Ctrl: ON] \t343.3°K -> 273.6°K +- 0.92K° \tKp = 500 @ Duty Cycle: 0/65535\n",
      "2021-12-01 06:36:48: INFO     RS_SERVICE:\t[Heat: ON, Ctrl: ON] \t397.4°K -> 273.6°K +- 0.92K° \tKp = 500 @ Duty Cycle: 0/65535\n",
      "2021-12-01 06:36:54: INFO     RS_SERVICE:\t[Heat: ON, Ctrl: ON] \t428.1°K -> 273.6°K +- 0.92K° \tKp = 500 @ Duty Cycle: 0/65535\n",
      "2021-12-01 06:37:00: INFO     RS_SERVICE:\t[Heat: ON, Ctrl: ON] \t428.1°K -> 273.6°K +- 0.92K° \tKp = 500 @ Duty Cycle: 0/65535\n",
      "2021-12-01 06:37:05: INFO     RS_SERVICE:\t[Heat: ON, Ctrl: ON] \t428.1°K -> 273.6°K +- 0.92K° \tKp = 500 @ Duty Cycle: 0/65535\n",
      "2021-12-01 06:37:11: INFO     RS_SERVICE:\t[Heat: ON, Ctrl: ON] \t428.1°K -> 273.6°K +- 0.92K° \tKp = 500 @ Duty Cycle: 0/65535\n",
      "2021-12-01 06:37:17: INFO     RS_SERVICE:\t[Heat: ON, Ctrl: ON] \t364.5°K -> 273.6°K +- 0.92K° \tKp = 500 @ Duty Cycle: 0/65535\n",
      "2021-12-01 06:37:23: INFO     RS_SERVICE:\t[Heat: ON, Ctrl: ON] \t428.1°K -> 273.6°K +- 0.92K° \tKp = 500 @ Duty Cycle: 0/65535\n",
      "2021-12-01 06:37:29: INFO     RS_SERVICE:\t[Heat: ON, Ctrl: ON] \t428.1°K -> 273.6°K +- 0.92K° \tKp = 500 @ Duty Cycle: 0/65535\n",
      "2021-12-01 06:37:35: INFO     RS_SERVICE:\t[Heat: ON, Ctrl: ON] \t428.1°K -> 273.6°K +- 0.92K° \tKp = 500 @ Duty Cycle: 0/65535\n",
      "2021-12-01 06:37:41: INFO     RS_SERVICE:\t[Heat: ON, Ctrl: ON] \t338.3°K -> 273.6°K +- 0.92K° \tKp = 500 @ Duty Cycle: 0/65535\n",
      "2021-12-01 06:37:47: INFO     RS_SERVICE:\t[Heat: ON, Ctrl: ON] \t428.1°K -> 273.6°K +- 0.92K° \tKp = 500 @ Duty Cycle: 0/65535\n",
      "2021-12-01 06:37:53: INFO     RS_SERVICE:\t[Heat: ON, Ctrl: ON] \t428.1°K -> 273.6°K +- 0.92K° \tKp = 500 @ Duty Cycle: 0/65535\n",
      "2021-12-01 06:37:59: INFO     RS_SERVICE:\t[Heat: ON, Ctrl: ON] \t428.1°K -> 273.6°K +- 0.92K° \tKp = 500 @ Duty Cycle: 0/65535\n",
      "2021-12-01 06:38:04: INFO     RS_SERVICE:\t[Heat: ON, Ctrl: ON] \t428.1°K -> 273.6°K +- 0.92K° \tKp = 500 @ Duty Cycle: 0/65535\n",
      "2021-12-01 06:38:10: INFO     RS_SERVICE:\t[Heat: ON, Ctrl: ON] \t428.1°K -> 273.6°K +- 0.92K° \tKp = 500 @ Duty Cycle: 0/65535\n",
      "2021-12-01 06:38:16: INFO     RS_SERVICE:\t[Heat: ON, Ctrl: ON] \t428.1°K -> 273.6°K +- 0.92K° \tKp = 500 @ Duty Cycle: 0/65535\n",
      "2021-12-01 06:38:22: INFO     RS_SERVICE:\t[Heat: ON, Ctrl: ON] \t387.3°K -> 273.6°K +- 0.92K° \tKp = 500 @ Duty Cycle: 0/65535\n",
      "2021-12-01 06:38:28: INFO     RS_SERVICE:\t[Heat: ON, Ctrl: ON] \t428.1°K -> 273.6°K +- 0.92K° \tKp = 500 @ Duty Cycle: 0/65535\n",
      "2021-12-01 06:38:34: INFO     RS_SERVICE:\t[Heat: ON, Ctrl: ON] \t428.1°K -> 273.6°K +- 0.92K° \tKp = 500 @ Duty Cycle: 0/65535\n",
      "2021-12-01 06:38:40: INFO     RS_SERVICE:\t[Heat: ON, Ctrl: ON] \t428.1°K -> 273.6°K +- 0.92K° \tKp = 500 @ Duty Cycle: 0/65535\n",
      "2021-12-01 06:38:46: INFO     RS_SERVICE:\t[Heat: ON, Ctrl: ON] \t428.1°K -> 273.6°K +- 0.92K° \tKp = 500 @ Duty Cycle: 0/65535\n",
      "2021-12-01 06:38:52: INFO     RS_SERVICE:\t[Heat: ON, Ctrl: ON] \t428.1°K -> 273.6°K +- 0.92K° \tKp = 500 @ Duty Cycle: 0/65535\n",
      "2021-12-01 06:38:58: INFO     RS_SERVICE:\t[Heat: ON, Ctrl: ON] \t428.1°K -> 273.6°K +- 0.92K° \tKp = 500 @ Duty Cycle: 0/65535\n",
      "2021-12-01 06:39:03: INFO     RS_SERVICE:\t[Heat: ON, Ctrl: ON] \t428.1°K -> 273.6°K +- 0.92K° \tKp = 500 @ Duty Cycle: 0/65535\n",
      "2021-12-01 06:39:09: INFO     RS_SERVICE:\t[Heat: ON, Ctrl: ON] \t428.1°K -> 273.6°K +- 0.92K° \tKp = 500 @ Duty Cycle: 0/65535\n",
      "2021-12-01 06:39:15: INFO     RS_SERVICE:\t[Heat: ON, Ctrl: ON] \t428.1°K -> 273.6°K +- 0.92K° \tKp = 500 @ Duty Cycle: 0/65535\n"
     ]
    }
   ],
   "source": [
    "## Stream Telemetry:\n",
    "stream_data_ip_udp_serial()\n",
    "# Check for wireless telemetry in Wireshark. For parsing help, run: `pyenv exec python parse_pcap.py --help`"
   ]
  },
  {
   "cell_type": "markdown",
   "metadata": {},
   "source": []
  },
  {
   "cell_type": "markdown",
   "metadata": {},
   "source": []
  }
 ],
 "metadata": {
  "interpreter": {
   "hash": "8816a32dc6e032dd9374d27f75563e4313e5344332f9668033f6f3b340da094a"
  },
  "kernelspec": {
   "display_name": "Python 3.8.5 64-bit ('py_irisbackendv3')",
   "name": "python385jvsc74a57bd0a0d03f56b6733f9c3d15c2bd39d66592601e401c4bc6b05629b467f37657415c"
  },
  "language_info": {
   "codemirror_mode": {
    "name": "ipython",
    "version": 3
   },
   "file_extension": ".py",
   "mimetype": "text/x-python",
   "name": "python",
   "nbconvert_exporter": "python",
   "pygments_lexer": "ipython3",
   "version": "3.8.5"
  },
  "metadata": {
   "interpreter": {
    "hash": "d816d07a47909b7024a3edf42b296ca58cf50e839b20a21cefa98c322fbbe616"
   }
  },
  "orig_nbformat": 2
 },
 "nbformat": 4,
 "nbformat_minor": 2
}