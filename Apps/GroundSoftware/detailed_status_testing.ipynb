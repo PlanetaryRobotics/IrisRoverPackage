{
 "cells": [
  {
   "cell_type": "code",
   "execution_count": 1,
   "metadata": {},
   "outputs": [],
   "source": [
    "from termcolor import cprint"
   ]
  },
  {
   "cell_type": "code",
   "execution_count": 2,
   "metadata": {},
   "outputs": [
    {
     "data": {
      "text/plain": [
       "[47, 47, 47, 47]"
      ]
     },
     "execution_count": 2,
     "metadata": {},
     "output_type": "execute_result"
    }
   ],
   "source": [
    "# Test packets from WD:\n",
    "tps = [\n",
    "    b\"\\xd5\\x04\\x08\\x18\\x00\\x03\\x03\\n\\x00\\x18\\x00\\x00\\x00\\x00\\x00`\\x00B\\x80\\x0f\\xc1\\x00\\xb8\\xf4\\x014!\\xfd\\x0cV\\x0e\\x18\\r\\x10'\\x00\\x00\\x00\\x00\\x00\\x00\\x00\\x00\\x00\\x00\\x00\\x00\",\n",
    "    b\"\\xd5\\x04\\x08\\x18\\x00\\x04\\x03\\n\\x00\\x18\\x00\\x00\\x00\\x00\\x00`\\x00B\\x80\\x0f\\xc1\\x00\\xb8\\xf4\\x014!\\xfd\\x0cV\\x0e\\x18\\r\\x10'\\x00\\x00\\x00\\x00\\x00\\x00\\x00\\x00\\x00\\x00\\x00\\x00\",\n",
    "    b\"\\xd5\\x04\\x08\\x18\\x00\\x05\\x03\\n\\x00\\x18\\x00\\x00\\x00\\x00\\x00`\\x00B\\x80\\x0f\\xc1\\x00\\xb8\\xf4\\x014!\\xfd\\x0cV\\x0e\\x18\\r\\x10'\\x00\\x00\\x00\\x00\\x00\\x00\\x00\\x00\\x00\\x00\\x00\\x00\",\n",
    "    b\"\\xd5\\x04\\x08\\x18\\x00\\x06\\x03\\n\\x00\\x18\\x00\\x00\\x00\\x00\\x00\\xe0\\x00B\\x80\\x0f\\xc1\\x00\\xb8\\xf4\\x014!\\xfd\\x0cV\\x0e\\x18\\r\\x10'\\x00\\x00\\x00\\x00\\x00\\x00\\x00\\x00\\x00\\x00\\x00\\x00\"\n",
    "]\n",
    "[len(tp) for tp in tps]"
   ]
  },
  {
   "cell_type": "code",
   "execution_count": 3,
   "metadata": {},
   "outputs": [],
   "source": [
    "def byte_to_binstr(B):\n",
    "    # Convert to bin string:\n",
    "    binstr = bin(B)[2:]\n",
    "    # Pad with appropriate number of zeros:\n",
    "    binstr = '0' * (8-len(binstr)) + binstr\n",
    "    return binstr\n",
    "\n",
    "def bytes_to_binstr(Bs):\n",
    "    return '0b '+' '.join(byte_to_binstr(b) for b in Bs)"
   ]
  },
  {
   "cell_type": "code",
   "execution_count": 4,
   "metadata": {},
   "outputs": [
    {
     "name": "stdout",
     "output_type": "stream",
     "text": [
      "\n",
      "Test Packet 0: \n",
      "0b 11010101 00000100 00001000 00011000 00000000 00000011 00000011 00001010 00000000 00011000 00000000 00000000 00000000 00000000 00000000 01100000 00000000 01000010 10000000 00001111 11000001 00000000 10111000 11110100 00000001 00110100 00100001 11111101 00001100 01010110 00001110 00011000 00001101 00010000 00100111 00000000 00000000 00000000 00000000 00000000 00000000 00000000 00000000 00000000 00000000 00000000 00000000\n",
      "0000  D5 04 08 18 00 03 03 0A 00 18 00 00 00 00 00 60  ...............`\n",
      "0010  00 42 80 0F C1 00 B8 F4 01 34 21 FD 0C 56 0E 18  .B.......4!..V..\n",
      "0020  0D 10 27 00 00 00 00 00 00 00 00 00 00 00 00     ..'............\n",
      "\n",
      "Test Packet 1: \n",
      "0b 11010101 00000100 00001000 00011000 00000000 00000100 00000011 00001010 00000000 00011000 00000000 00000000 00000000 00000000 00000000 01100000 00000000 01000010 10000000 00001111 11000001 00000000 10111000 11110100 00000001 00110100 00100001 11111101 00001100 01010110 00001110 00011000 00001101 00010000 00100111 00000000 00000000 00000000 00000000 00000000 00000000 00000000 00000000 00000000 00000000 00000000 00000000\n",
      "0000  D5 04 08 18 00 04 03 0A 00 18 00 00 00 00 00 60  ...............`\n",
      "0010  00 42 80 0F C1 00 B8 F4 01 34 21 FD 0C 56 0E 18  .B.......4!..V..\n",
      "0020  0D 10 27 00 00 00 00 00 00 00 00 00 00 00 00     ..'............\n",
      "\n",
      "Test Packet 2: \n",
      "0b 11010101 00000100 00001000 00011000 00000000 00000101 00000011 00001010 00000000 00011000 00000000 00000000 00000000 00000000 00000000 01100000 00000000 01000010 10000000 00001111 11000001 00000000 10111000 11110100 00000001 00110100 00100001 11111101 00001100 01010110 00001110 00011000 00001101 00010000 00100111 00000000 00000000 00000000 00000000 00000000 00000000 00000000 00000000 00000000 00000000 00000000 00000000\n",
      "0000  D5 04 08 18 00 05 03 0A 00 18 00 00 00 00 00 60  ...............`\n",
      "0010  00 42 80 0F C1 00 B8 F4 01 34 21 FD 0C 56 0E 18  .B.......4!..V..\n",
      "0020  0D 10 27 00 00 00 00 00 00 00 00 00 00 00 00     ..'............\n",
      "\n",
      "Test Packet 3: \n",
      "0b 11010101 00000100 00001000 00011000 00000000 00000110 00000011 00001010 00000000 00011000 00000000 00000000 00000000 00000000 00000000 11100000 00000000 01000010 10000000 00001111 11000001 00000000 10111000 11110100 00000001 00110100 00100001 11111101 00001100 01010110 00001110 00011000 00001101 00010000 00100111 00000000 00000000 00000000 00000000 00000000 00000000 00000000 00000000 00000000 00000000 00000000 00000000\n",
      "0000  D5 04 08 18 00 06 03 0A 00 18 00 00 00 00 00 E0  ................\n",
      "0010  00 42 80 0F C1 00 B8 F4 01 34 21 FD 0C 56 0E 18  .B.......4!..V..\n",
      "0020  0D 10 27 00 00 00 00 00 00 00 00 00 00 00 00     ..'............\n"
     ]
    }
   ],
   "source": [
    "from scapy.utils import hexdump\n",
    "for i,tp in enumerate(tps):\n",
    "    print(f'\\nTest Packet {i}: ')\n",
    "    print(bytes_to_binstr(tp))\n",
    "    hexdump(tp)"
   ]
  },
  {
   "cell_type": "code",
   "execution_count": 18,
   "metadata": {},
   "outputs": [
    {
     "name": "stdout",
     "output_type": "stream",
     "text": [
      "Test Packet 0: \n",
      "#3 [RS_KEEP_ALIVE + NOT_DEPLOYED] \tCHARGER: OFF \tBATTERIES: TEMP_CONNECTED \tUART0: OFF \tUART1: INITIALIZED_&_ACTIVE\n",
      "1V2: BAD \t1V8: BAD \t2V5: 0.0 \t2V8: 0.0 \t3V3: BAD \t5V0: BAD \t24V: 0.41\n",
      "VBm: 3.32V \tVL: 23.82V \tVcc28: 26.10V \tVSA: 1.98V \tISA: 7.4mA\n",
      "HEATER [268K |274K |273K] \t is HEATING, Control: ENABLED \t@ 0.000W / 0.695W \tPeriod: 1.2ms\n",
      "Tbatt: 428.1K ± 0.0K \tTchrg: 428.1K ± 0.0K \tTblimp: 0.0K\n",
      " D5 04 08 18 00 03 03 0A 00 18 00 00 00 00 00 60 00 42 80 0F C1 00 B8 F4 01 34 21 FD 0C 56 0E 18 0D 10 27 00 00 00 00 00 00 00 00 00 00 00 00  ...............`.B.......4!..V....'............\n",
      "Test Packet 1: \n",
      "#4 [RS_KEEP_ALIVE + NOT_DEPLOYED] \tCHARGER: OFF \tBATTERIES: TEMP_CONNECTED \tUART0: OFF \tUART1: INITIALIZED_&_ACTIVE\n",
      "1V2: BAD \t1V8: BAD \t2V5: 0.0 \t2V8: 0.0 \t3V3: BAD \t5V0: BAD \t24V: 0.41\n",
      "VBm: 3.32V \tVL: 23.82V \tVcc28: 26.10V \tVSA: 1.98V \tISA: 7.4mA\n",
      "HEATER [268K |274K |273K] \t is HEATING, Control: ENABLED \t@ 0.000W / 0.695W \tPeriod: 1.2ms\n",
      "Tbatt: 428.1K ± 0.0K \tTchrg: 428.1K ± 0.0K \tTblimp: 0.0K\n",
      " D5 04 08 18 00 04 03 0A 00 18 00 00 00 00 00 60 00 42 80 0F C1 00 B8 F4 01 34 21 FD 0C 56 0E 18 0D 10 27 00 00 00 00 00 00 00 00 00 00 00 00  ...............`.B.......4!..V....'............\n",
      "Test Packet 2: \n",
      "#5 [RS_KEEP_ALIVE + NOT_DEPLOYED] \tCHARGER: OFF \tBATTERIES: TEMP_CONNECTED \tUART0: OFF \tUART1: INITIALIZED_&_ACTIVE\n",
      "1V2: BAD \t1V8: BAD \t2V5: 0.0 \t2V8: 0.0 \t3V3: BAD \t5V0: BAD \t24V: 0.41\n",
      "VBm: 3.32V \tVL: 23.82V \tVcc28: 26.10V \tVSA: 1.98V \tISA: 7.4mA\n",
      "HEATER [268K |274K |273K] \t is HEATING, Control: ENABLED \t@ 0.000W / 0.695W \tPeriod: 1.2ms\n",
      "Tbatt: 428.1K ± 0.0K \tTchrg: 428.1K ± 0.0K \tTblimp: 0.0K\n",
      " D5 04 08 18 00 05 03 0A 00 18 00 00 00 00 00 60 00 42 80 0F C1 00 B8 F4 01 34 21 FD 0C 56 0E 18 0D 10 27 00 00 00 00 00 00 00 00 00 00 00 00  ...............`.B.......4!..V....'............\n",
      "Test Packet 3: \n",
      "#6 [RS_KEEP_ALIVE + NOT_DEPLOYED] \tCHARGER: OFF \tBATTERIES: TEMP_CONNECTED \tUART0: OFF \tUART1: INITIALIZED_&_ACTIVE\n",
      "1V2: BAD \t1V8: BAD \t2V5: 0.0 \t2V8: 0.0 \t3V3: BAD \t5V0: BAD \t24V: 0.41\n",
      "VBm: 3.32V \tVL: 23.82V \tVcc28: 26.10V \tVSA: 1.98V \tISA: 7.4mA\n",
      "HEATER [268K |274K |273K] \t is HEATING, Control: ENABLED \t@ 0.000W / 0.695W \tPeriod: 1.2ms\n",
      "Tbatt: 428.1K ± 0.0K \tTchrg: 428.1K ± 0.0K \tTblimp: 0.0K\n",
      " D5 04 08 18 00 06 03 0A 00 18 00 00 00 00 00 E0 00 42 80 0F C1 00 B8 F4 01 34 21 FD 0C 56 0E 18 0D 10 27 00 00 00 00 00 00 00 00 00 00 00 00  .................B.......4!..V....'............\n"
     ]
    }
   ],
   "source": [
    "from trans_tools import *\n",
    "for i,tp in enumerate(tps):\n",
    "    print(f'Test Packet {i}: ')\n",
    "    packet = parse_packet(tp)\n",
    "    print(packet)"
   ]
  },
  {
   "cell_type": "code",
   "execution_count": 6,
   "metadata": {},
   "outputs": [
    {
     "name": "stdout",
     "output_type": "stream",
     "text": [
      "\u001b[32mPASSED!\u001b[0m\n",
      "\u001b[32mPASSED!\u001b[0m\n"
     ]
    }
   ],
   "source": [
    "def create_adc_sample(val: int, n_top: int, n_bot: int, n_adc_bits: int = 12):\n",
    "    # Make `val` at most `n_adc_bits` bits long:\n",
    "    val = val & ((1<<n_adc_bits)-1)\n",
    "    # Keep only the top `n_top` bits:\n",
    "    val = val >> (n_adc_bits-n_top)\n",
    "    # Keep only the bottom `n_bot` bits:\n",
    "    val = val & ((1<<n_bot)-1)\n",
    "    return val\n",
    "\n",
    "# test: `create_adc_sample`\n",
    "def test_top_selection():\n",
    "    # Make sure it can accurately select the indicated number of top bits and \n",
    "    # only the top bits for a wide range of number bitlengths:\n",
    "    for n_bits in range(1,65):\n",
    "        for n_top in range(1,n_bits):\n",
    "            # Create a test value that's `n_bits` long with 1s only in the top `n_top` bits:\n",
    "            x = ((1<<n_top)-1) << (n_bits-n_top)\n",
    "            val = create_adc_sample(x, n_top, n_bot = n_bits, n_adc_bits = n_bits)\n",
    "            # Make sure the right number of bits were selected:\n",
    "            assert len(bin(val))-2 == n_top, f\"{x=}={bin(x)}, {n_top=}, {n_bits=}, {val=}={bin(val)}\"\n",
    "            # Make sure they actually came from the top (are all 1s):\n",
    "            assert sum(int(b) for b in bin(x)[2:]) == n_top, f\"{x=}, {n_top=}, {n_bits=}, {val=}={bin(val)}\"\n",
    "            \n",
    "test_top_selection()\n",
    "cprint('PASSED!', 'green')\n",
    "\n",
    "def test_bottom_selection():\n",
    "    # Make sure it can accurately select the indicated number of bottom bits and \n",
    "    # only the bottom bits for a wide range of number bitlengths:\n",
    "    for n_bits in range(1,65):\n",
    "        for n_bot in range(1,n_bits):\n",
    "            # Create a test value with all 1s for the bottom `n_bot` bits:\n",
    "            x = (1<<n_bot) - 1\n",
    "            val = create_adc_sample(x, n_top = n_bits, n_bot = n_bot, n_adc_bits = n_bits)\n",
    "            # Make sure the right number of bits were selected:\n",
    "            assert len(bin(val))-2 == n_bot, f\"{x=}={bin(x)}, {n_bot=}, {n_bits=}, {val=}={bin(val)}\"\n",
    "            # Make sure they actually came from the top (are all 1s):\n",
    "            assert sum(int(b) for b in bin(x)[2:]) == n_bot, f\"{x=}, {n_bot=}, {n_bits=}, {val=}={bin(val)}\"\n",
    "            \n",
    "test_bottom_selection()\n",
    "cprint('PASSED!', 'green')"
   ]
  },
  {
   "cell_type": "code",
   "execution_count": 7,
   "metadata": {},
   "outputs": [],
   "source": [
    "# Make a reference test packet (where true input values are known):\n"
   ]
  },
  {
   "cell_type": "code",
   "execution_count": 8,
   "metadata": {},
   "outputs": [],
   "source": [
    "from trans_tools import *"
   ]
  },
  {
   "cell_type": "code",
   "execution_count": 9,
   "metadata": {},
   "outputs": [
    {
     "data": {
      "text/plain": [
       "b'\\xd5\\x80\\x00\\x00\\x00\\x00\\x00\\x00\\x00\\x00\\x00\\x00\\x00\\x00\\x00\\x00\\x00\\x00\\x00\\x00\\x00\\x00\\x00\\x00\\x00\\x00\\x00\\x00\\x00\\x00\\x00\\x00\\x00\\x00\\x00\\x00\\x00\\x00\\x00\\x00\\x00\\x00\\x00\\x00\\x00\\x00\\x00'"
      ]
     },
     "execution_count": 9,
     "metadata": {},
     "output_type": "execute_result"
    }
   ],
   "source": [
    "N_PACKET_BYTES: int = 46 # total # of bytes in detailed status packet\n",
    "test_val = 1\n",
    "packet_bytes = b'\\xD5' + (test_val<<(8-1)).to_bytes(1, 'little') + b'\\x00' * (N_PACKET_BYTES-1)\n",
    "packet_bytes"
   ]
  },
  {
   "cell_type": "code",
   "execution_count": 10,
   "metadata": {},
   "outputs": [
    {
     "name": "stdout",
     "output_type": "stream",
     "text": [
      "#0 [RS_INIT + NOT_DEPLOYED] \tCHARGER: OFF \tBATTERIES: DISCONNECTED \tUART0: OFF \tUART1: OFF\n",
      "1V2: BAD \t1V8: BAD \t2V5: 0.0 \t2V8: 0.0 \t3V3: BAD \t5V0: GOOD \t24V: 0.00\n",
      "VBm: 0.00V \tVL: 0.00V \tVcc28: 0.00V \tVSA: 0.00V \tISA: 0.0mA\n",
      "HEATER [428K |428K |428K] \t is NOT_HEATING, Control: DISABLED \t@ nanW / nanW \tPeriod: 0.0ms\n",
      "Tbatt: 428.1K ± 0.0K \tTchrg: 428.1K ± 0.0K \tTblimp: 0.0K\n",
      " D5 80 00 00 00 00 00 00 00 00 00 00 00 00 00 00 00 00 00 00 00 00 00 00 00 00 00 00 00 00 00 00 00 00 00 00 00 00 00 00 00 00 00 00 00 00 00  ...............................................\n"
     ]
    }
   ],
   "source": [
    "# Decode the packet:\n",
    "packet = parse_packet(packet_bytes)\n",
    "print(packet)"
   ]
  },
  {
   "cell_type": "code",
   "execution_count": 11,
   "metadata": {},
   "outputs": [],
   "source": [
    "from collections import OrderedDict\n",
    "# Fields to test:\n",
    "# Each field has the following entries: (n_bits, is_adc_val, n_upper_adc_bits, n_lower_adc_bits)\n",
    "FIELDS_TO_TEST: OrderedDict = OrderedDict([ # Added a couple extra fields (a-e) for sanity checking the packing\n",
    "        ('a', (4, False, 0,0)),\n",
    "        ('b', (4, False, 0,0)),\n",
    "        ('c', (4, False, 0,0)),\n",
    "        ('d', (3, False, 0,0)),\n",
    "        ('e', (9, False, 0,0)),\n",
    "        ('Io_ChargingStatus1', (1, False, 0,0)),\n",
    "        ('Io_ChargingStatus2', (1, False, 0,0)),\n",
    "        ('Io_BatteryConnectionStatus', (1, False, 0,0)),\n",
    "        ('Io_BatteryLatchStatus', (1, False, 0,0)),\n",
    "        ('Io_1V2PowerGood', (1, False, 0,0)),\n",
    "        ('Io_1V8PowerGood', (1, False, 0,0)),\n",
    "        ('Io_3V3PowerGood', (1, False, 0,0)),\n",
    "        ('Io_5V0PowerGood', (1, False, 0,0)),\n",
    "        ('Watchdog_State', (8, False, 0,0)),\n",
    "        ('Watchdog_DeploymentStatus', (2, False, 0,0)),\n",
    "        ('Watchdog_Uart0State', (1, False, 0,0)),\n",
    "        ('Watchdog_Uart1State', (1, False, 0,0)),\n",
    "        ('Adc_BatteryTempRaw', (12, True, 12,12)),\n",
    "        ('Watchdog_DetailedHeartbeatSequenceNumber', (8, False, 0,0)),\n",
    "        ('Watchdog_DigitalOutputStates', (32, False, 0,0)),\n",
    "        ('Watchdog_ResetLogs', (40, False, 0,0)),\n",
    "        ('Adc_LanderVoltageRaw', (7, True, 7,12)),\n",
    "        ('Adc_BatteryChargingTempRaw', (9, True, 9,12)),\n",
    "        ('Adc_FullSystemVoltageRaw', (5, True, 5,12)),\n",
    "        ('Adc_FullSystemCurrentRaw', (9, True, 12,9)),\n",
    "        ('Adc_SwitchedBatteryVoltageRaw', (9, True, 9,12)),\n",
    "        ('Adc_Vcc24VoltageRaw', (7, True, 7,12)),\n",
    "        ('Heater_ControlEnabled', (1, False, 0,0)),\n",
    "        ('Heater_IsHeating', (1, False, 0,0)),\n",
    "        ('Adc_2V5VoltageRaw', (5, True, 5,12)),\n",
    "        ('Adc_2V8VoltageRaw', (5, True, 5,12)),\n",
    "        ('Adc_Vcc28VoltageRaw', (6, True, 6,12)),\n",
    "        ('Heater_Kp', (16, False, 0,0)),\n",
    "        ('Heater_PwmLimit_DutyCycleCounter', (16, False, 0,0)),\n",
    "        ('Heater_SetpointValue', (16, False, 0,0)),\n",
    "        ('Heater_OnValue', (16, False, 0,0)),\n",
    "        ('Heater_OffValue', (16, False, 0,0)),\n",
    "        ('Heater_DutyCyclePeriodCycles', (16, False, 0,0)),\n",
    "        ('Heater_DutyCycleCounter', (16, False, 0,0)),\n",
    "        ('I2C_BatteryChargeRaw', (16, False, 0,0)),\n",
    "        ('I2C_BatteryVoltageRaw', (16, False, 0,0)),\n",
    "        ('I2C_BatteryCurrentRaw', (16, False, 0,0)),\n",
    "        ('I2C_FuelGaugeTempRaw', (16, False, 0,0)),\n",
    "        ('I2C_BatteryChargeTelemRaw', (8, False, 0,0)),\n",
    "        ('I2C_BatteryCurrentTelemRaw', (8, False, 0,0))\n",
    "    ])"
   ]
  },
  {
   "cell_type": "code",
   "execution_count": 12,
   "metadata": {},
   "outputs": [
    {
     "name": "stdout",
     "output_type": "stream",
     "text": [
      "0b 00100001 11000011 11110000 00000010 00000101 11110001 10000000 00001111 11111111 00110011 10101010 00001111 00000000 00000000 00000000 00000000 00000000 11111111 11111010 01111111 01110101 11111101 00111110 11111111 11111011 00001011 00001010 00001101 00001100 00001111 00001110 10111011 10101010 11011101 11001100 11111111 11101110 00000001 11110000 00000000 00000000 00000000 00000000 00000000 00000000 00000000 00000000 00000000 01011011\n",
      "0b 00100001 11000011 11110000 00000010 00000101 11110001 10000000 00001111 11111111 00110011 10101010 00001111 00000000 00000000 00000000 00000000 00000000 11111111 11111010 01111111 01110101 11111101 00111110 11111111 11111011 00001011 00001010 00001101 00001100 00001111 00001110 10111011 10101010 11011101 11001100 11111111 11101110 00000001 11110000 00000000 00000000 00000000 00000000 00000000 00000000 00000000 00000000 00000000 01011011\n",
      "\u001b[32mPASSED!\u001b[0m\n"
     ]
    }
   ],
   "source": [
    "N_PACKET_BYTES: int = math.ceil(sum(n for n, *_ in FIELDS_TO_TEST.values())/8) # total # of bytes in detailed status packet\n",
    "def create_bitfield(test_vals: Dict[str,int]):\n",
    "    x: int = 0\n",
    "    idx_bit_head: int = 0\n",
    "    for field_name, (n_bits, is_adc_val, n_upper_adc_bits, n_lower_adc_bits) in FIELDS_TO_TEST.items():\n",
    "        field_val = test_vals[field_name]\n",
    "        if is_adc_val:\n",
    "            field_val = create_adc_sample(field_val, n_upper_adc_bits, n_lower_adc_bits)\n",
    "        x |= field_val << idx_bit_head\n",
    "        idx_bit_head += n_bits\n",
    "    return x.to_bytes(N_PACKET_BYTES, 'little')\n",
    "\n",
    "# Test `create_bitfield` against a couple packets which were compiled on an MSP430:\n",
    "# Create a dict with all fields from FIELDS_TO_TEST and a default value of 0:\n",
    "blank_vals = dict((f,0) for f in FIELDS_TO_TEST.keys())\n",
    "# Create pairs of test tuples of input values into MSP430 struct and output byte streams:\n",
    "test_pairs: List[Tuple[ Dict[str,int], bytes ]] = [\n",
    "    ({**blank_vals, 'a':1,'b':2,'c':3, 'd':4, 'e':0b111100001, 'Io_ChargingStatus2':1, 'Adc_BatteryTempRaw':0b100000001111},b'!\\xc3\\xf0\\x02\\x00\\xf0\\x80\\x00\\x00\\x00\\x00\\x00\\x00\\x00\\x00\\x00\\x00\\x00\\x00\\x00\\x00\\x00\\x00\\x00\\x00\\x00\\x00\\x00\\x00\\x00\\x00\\x00\\x00\\x00\\x00\\x00\\x00\\x00\\x00\\x00\\x00\\x00\\x00\\x00\\x00\\x00\\x00\\x00\\x00'),\n",
    "    ({**blank_vals, 'a':1,'b':2,'c':3, 'd':4, 'e':0b111100001, 'Io_ChargingStatus2':1, 'Adc_BatteryTempRaw':0b100000001111, 'Adc_LanderVoltageRaw':0b111111101101},b'!\\xc3\\xf0\\x02\\x00\\xf0\\x80\\x00\\x00\\x00\\x00\\x00\\x00\\x00\\x00\\x00\\x00\\x7f\\x00\\x00\\x00\\x00\\x00\\x00\\x00\\x00\\x00\\x00\\x00\\x00\\x00\\x00\\x00\\x00\\x00\\x00\\x00\\x00\\x00\\x00\\x00\\x00\\x00\\x00\\x00\\x00\\x00\\x00\\x00'),\n",
    "    ({**blank_vals, 'a':1,'b':2,'c':3, 'd':4, 'e':0b111100001, 'Io_ChargingStatus2':1, 'Adc_BatteryTempRaw':0b100000001111, 'Adc_LanderVoltageRaw': 0b111111101101, 'Adc_BatteryChargingTempRaw': 0b111110101011, 'Adc_FullSystemVoltageRaw': 0b111110101011, 'Adc_FullSystemCurrentRaw': 0b111110101011, 'Adc_SwitchedBatteryVoltageRaw': 0b111110101011, 'Adc_Vcc24VoltageRaw': 0b111110101011, 'Adc_2V5VoltageRaw': 0b111110101011, 'Adc_2V8VoltageRaw': 0b111110101011, 'Adc_Vcc28VoltageRaw': 0b111110101011},b'!\\xc3\\xf0\\x02\\x00\\xf0\\x80\\x00\\x00\\x00\\x00\\x00\\x00\\x00\\x00\\x00\\x00\\xff\\xfa\\x7fu\\xfd>\\xff\\xfb\\x00\\x00\\x00\\x00\\x00\\x00\\x00\\x00\\x00\\x00\\x00\\x00\\x00\\x00\\x00\\x00\\x00\\x00\\x00\\x00\\x00\\x00\\x00\\x00'),\n",
    "    ({**blank_vals, 'a':1,'b':2,'c':3, 'd':4, 'e':0b111100001, 'Io_ChargingStatus2':1, 'Adc_BatteryTempRaw':0b100000001111, 'Adc_LanderVoltageRaw': 0b111111101101, 'Adc_BatteryChargingTempRaw': 0b111110101011, 'Adc_FullSystemVoltageRaw': 0b111110101011, 'Adc_FullSystemCurrentRaw': 0b111110101011, 'Adc_SwitchedBatteryVoltageRaw': 0b111110101011, 'Adc_Vcc24VoltageRaw': 0b111110101011, 'Adc_2V5VoltageRaw': 0b111110101011, 'Adc_2V8VoltageRaw': 0b111110101011, 'Adc_Vcc28VoltageRaw': 0b111110101011,\n",
    "        'Watchdog_State': 5,\n",
    "        'Watchdog_DeploymentStatus': 1,\n",
    "        'Watchdog_DetailedHeartbeatSequenceNumber': 15,\n",
    "        'Watchdog_DigitalOutputStates': 0b00001111101010100011001111111111,\n",
    "        'Heater_Kp': 0x0A0B,\n",
    "        'Heater_PwmLimit_DutyCycleCounter': 0x0C0D,\n",
    "        'Heater_SetpointValue': 0x0E0F,\n",
    "        'Heater_OnValue': 0xAABB,\n",
    "        'Heater_OffValue': 0xCCDD,\n",
    "        'Heater_DutyCyclePeriodCycles': 0xEEFF,\n",
    "        'Heater_DutyCycleCounter': 0xF001,\n",
    "        'I2C_BatteryCurrentTelemRaw': 0x5B},\n",
    "        b'!\\xc3\\xf0\\x02\\x05\\xf1\\x80\\x0f\\xff3\\xaa\\x0f\\x00\\x00\\x00\\x00\\x00\\xff\\xfa\\x7fu\\xfd>\\xff\\xfb\\x0b\\n\\r\\x0c\\x0f\\x0e\\xbb\\xaa\\xdd\\xcc\\xff\\xee\\x01\\xf0\\x00\\x00\\x00\\x00\\x00\\x00\\x00\\x00\\x00['\n",
    "     )\n",
    "]\n",
    "\n",
    "# Print the last test packet for visual inspection:\n",
    "print(bytes_to_binstr(test_pairs[-1][1]))\n",
    "print(bytes_to_binstr(create_bitfield(test_pairs[-1][0])))\n",
    "\n",
    "for tp in test_pairs:\n",
    "    assert tp[1] == create_bitfield(tp[0])\n",
    "cprint('PASSED!', 'green')\n",
    "\n"
   ]
  },
  {
   "cell_type": "code",
   "execution_count": 13,
   "metadata": {},
   "outputs": [],
   "source": [
    "from collections import OrderedDict\n",
    "# Fields to test:\n",
    "# Each field has the following entries: (n_bits, is_adc_val, n_upper_adc_bits, n_lower_adc_bits)\n",
    "FIELDS_TO_TEST: OrderedDict = OrderedDict([\n",
    "        ('Io_ChargingStatus1', (1, False, 0,0)),\n",
    "        ('Io_ChargingStatus2', (1, False, 0,0)),\n",
    "        ('Io_BatteryConnectionStatus', (1, False, 0,0)),\n",
    "        ('Io_BatteryLatchStatus', (1, False, 0,0)),\n",
    "        ('Io_1V2PowerGood', (1, False, 0,0)),\n",
    "        ('Io_1V8PowerGood', (1, False, 0,0)),\n",
    "        ('Io_3V3PowerGood', (1, False, 0,0)),\n",
    "        ('Io_5V0PowerGood', (1, False, 0,0)),\n",
    "        ('Watchdog_State', (8, False, 0,0)),\n",
    "        ('Watchdog_DeploymentStatus', (2, False, 0,0)),\n",
    "        ('Watchdog_Uart0State', (1, False, 0,0)),\n",
    "        ('Watchdog_Uart1State', (1, False, 0,0)),\n",
    "        ('Adc_BatteryTempRaw', (12, True, 12,12)),\n",
    "        ('Watchdog_DetailedHeartbeatSequenceNumber', (8, False, 0,0)),\n",
    "        ('Watchdog_DigitalOutputStates', (32, False, 0,0)),\n",
    "        ('Watchdog_ResetLogs', (40, False, 0,0)),\n",
    "        ('Adc_LanderVoltageRaw', (7, True, 7,12)),\n",
    "        ('Adc_BatteryChargingTempRaw', (9, True, 9,12)),\n",
    "        ('Adc_FullSystemVoltageRaw', (5, True, 5,12)),\n",
    "        ('Adc_FullSystemCurrentRaw', (9, True, 12,9)),\n",
    "        ('Adc_SwitchedBatteryVoltageRaw', (9, True, 9,12)),\n",
    "        ('Adc_Vcc24VoltageRaw', (7, True, 7,12)),\n",
    "        ('Heater_ControlEnabled', (1, False, 0,0)),\n",
    "        ('Heater_IsHeating', (1, False, 0,0)),\n",
    "        ('Adc_2V5VoltageRaw', (5, True, 5,12)),\n",
    "        ('Adc_2V8VoltageRaw', (5, True, 5,12)),\n",
    "        ('Adc_Vcc28VoltageRaw', (6, True, 6,12)),\n",
    "        ('Heater_Kp', (16, False, 0,0)),\n",
    "        ('Heater_PwmLimit_DutyCycleCounter', (16, False, 0,0)),\n",
    "        ('Heater_SetpointValue', (16, False, 0,0)),\n",
    "        ('Heater_OnValue', (16, False, 0,0)),\n",
    "        ('Heater_OffValue', (16, False, 0,0)),\n",
    "        ('Heater_DutyCyclePeriodCycles', (16, False, 0,0)),\n",
    "        ('Heater_DutyCycleCounter', (16, False, 0,0)),\n",
    "        ('I2C_BatteryChargeRaw', (16, False, 0,0)),\n",
    "        ('I2C_BatteryVoltageRaw', (16, False, 0,0)),\n",
    "        ('I2C_BatteryCurrentRaw', (16, False, 0,0)),\n",
    "        ('I2C_FuelGaugeTempRaw', (16, False, 0,0)),\n",
    "        ('I2C_BatteryChargeTelemRaw', (8, False, 0,0)),\n",
    "        ('I2C_BatteryCurrentTelemRaw', (8, False, 0,0))\n",
    "    ])"
   ]
  },
  {
   "cell_type": "code",
   "execution_count": 14,
   "metadata": {},
   "outputs": [
    {
     "name": "stdout",
     "output_type": "stream",
     "text": [
      "Testing field Io_ChargingStatus1 with 1b at idx_bit_head=0 -> 0B+0b\n",
      "Testing field Io_ChargingStatus2 with 1b at idx_bit_head=1 -> 0B+1b\n",
      "Testing field Io_BatteryConnectionStatus with 1b at idx_bit_head=2 -> 0B+2b\n",
      "Testing field Io_BatteryLatchStatus with 1b at idx_bit_head=3 -> 0B+3b\n",
      "Testing field Io_1V2PowerGood with 1b at idx_bit_head=4 -> 0B+4b\n",
      "Testing field Io_1V8PowerGood with 1b at idx_bit_head=5 -> 0B+5b\n",
      "Testing field Io_3V3PowerGood with 1b at idx_bit_head=6 -> 0B+6b\n",
      "Testing field Io_5V0PowerGood with 1b at idx_bit_head=7 -> 0B+7b\n",
      "Testing field Watchdog_State with 8b at idx_bit_head=8 -> 1B+0b\n",
      "Testing field Watchdog_DeploymentStatus with 2b at idx_bit_head=16 -> 2B+0b\n",
      "Testing field Watchdog_Uart0State with 1b at idx_bit_head=18 -> 2B+2b\n",
      "Testing field Watchdog_Uart1State with 1b at idx_bit_head=19 -> 2B+3b\n",
      "Testing field Adc_BatteryTempRaw with 12b at idx_bit_head=20 -> 2B+4b\n",
      "Testing field Watchdog_DetailedHeartbeatSequenceNumber with 8b at idx_bit_head=32 -> 4B+0b\n",
      "Testing field Watchdog_DigitalOutputStates with 32b at idx_bit_head=40 -> 5B+0b\n",
      "Testing field Watchdog_ResetLogs with 40b at idx_bit_head=72 -> 9B+0b\n",
      "Testing field Adc_LanderVoltageRaw with 7b at idx_bit_head=112 -> 14B+0b\n",
      "Testing field Adc_BatteryChargingTempRaw with 9b at idx_bit_head=119 -> 14B+7b\n",
      "Testing field Adc_FullSystemVoltageRaw with 5b at idx_bit_head=128 -> 16B+0b\n",
      "Testing field Adc_FullSystemCurrentRaw with 9b at idx_bit_head=133 -> 16B+5b\n",
      "Testing field Adc_SwitchedBatteryVoltageRaw with 9b at idx_bit_head=142 -> 17B+6b\n",
      "Testing field Adc_Vcc24VoltageRaw with 7b at idx_bit_head=151 -> 18B+7b\n",
      "Testing field Heater_ControlEnabled with 1b at idx_bit_head=158 -> 19B+6b\n",
      "Testing field Heater_IsHeating with 1b at idx_bit_head=159 -> 19B+7b\n",
      "Testing field Adc_2V5VoltageRaw with 5b at idx_bit_head=160 -> 20B+0b\n",
      "Testing field Adc_2V8VoltageRaw with 5b at idx_bit_head=165 -> 20B+5b\n",
      "Testing field Adc_Vcc28VoltageRaw with 6b at idx_bit_head=170 -> 21B+2b\n",
      "Testing field Heater_Kp with 16b at idx_bit_head=176 -> 22B+0b\n",
      "Testing field Heater_PwmLimit_DutyCycleCounter with 16b at idx_bit_head=192 -> 24B+0b\n",
      "Testing field Heater_SetpointValue with 16b at idx_bit_head=208 -> 26B+0b\n",
      "Testing field Heater_OnValue with 16b at idx_bit_head=224 -> 28B+0b\n",
      "Testing field Heater_OffValue with 16b at idx_bit_head=240 -> 30B+0b\n",
      "Testing field Heater_DutyCyclePeriodCycles with 16b at idx_bit_head=256 -> 32B+0b\n",
      "Testing field Heater_DutyCycleCounter with 16b at idx_bit_head=272 -> 34B+0b\n",
      "Testing field I2C_BatteryChargeRaw with 16b at idx_bit_head=288 -> 36B+0b\n",
      "Testing field I2C_BatteryVoltageRaw with 16b at idx_bit_head=304 -> 38B+0b\n",
      "Testing field I2C_BatteryCurrentRaw with 16b at idx_bit_head=320 -> 40B+0b\n",
      "Testing field I2C_FuelGaugeTempRaw with 16b at idx_bit_head=336 -> 42B+0b\n",
      "Testing field I2C_BatteryChargeTelemRaw with 8b at idx_bit_head=352 -> 44B+0b\n",
      "Testing field I2C_BatteryCurrentTelemRaw with 8b at idx_bit_head=360 -> 45B+0b\n",
      "\u001b[32mPASSED!\u001b[0m\n"
     ]
    }
   ],
   "source": [
    "## Make sure all possible values for each field are extracted correctly:\n",
    "\n",
    "import random\n",
    "N_PACKET_BYTES: int = math.ceil(sum(n for n, *_ in FIELDS_TO_TEST.values())/8) # total # of bytes in detailed status packet\n",
    "\n",
    "# Create a dict with all fields from FIELDS_TO_TEST and a default value of 0:\n",
    "blank_vals = dict((f,0) for f in FIELDS_TO_TEST.keys())\n",
    "\n",
    "print_test_packet_bits: bool = False\n",
    "idx_bit_head = 0 # index of bit in the test packet at which to start inserting the value\n",
    "for test_field_name, (test_field_bits, is_adc_val, n_upper_adc_bits, n_lower_adc_bits) in [*FIELDS_TO_TEST.items()]:\n",
    "    idx_byte_head = idx_bit_head // 8 # index of the byte this starts after\n",
    "    idx_bit_head_in_byte = idx_bit_head % 8 # how many bits into the byte this starts\n",
    "    total_val_bytes_spanned = math.ceil((idx_bit_head_in_byte + test_field_bits)/8) # total number of bytes this value will span\n",
    "    print(f\"Testing field {test_field_name} with {test_field_bits}b at {idx_bit_head=} -> {idx_byte_head}B+{idx_bit_head_in_byte}b\")\n",
    "    \n",
    "    ## Make a test packet for all possible values for the field:\n",
    "    if is_adc_val:\n",
    "        test_vals = range(0, 1<<12) # go up to ADC max num of bits even if field truncates\n",
    "    elif test_field_bits > 12:\n",
    "        # Sample only 2^12 points from the entire valid range:\n",
    "        test_vals = random.sample(range(0, 1<<test_field_bits), 1<<12)\n",
    "    else:\n",
    "        test_vals = range(0, 1<<test_field_bits)\n",
    "    for test_val in test_vals:\n",
    "        # Start with a packet of all zeros:\n",
    "        # Create a dict with all fields 0 except `test_field_name`, which has the specified test value:\n",
    "        test_vals = {**blank_vals, test_field_name: test_val}\n",
    "        # Create bitfield packet and add the `DetailedStatus` flag at the start:\n",
    "        packet_bytes = b'\\xD5' + create_bitfield(test_vals)\n",
    "        \n",
    "        # Print the bits of the compiled packet:\n",
    "        if print_test_packet_bits:\n",
    "            print(bytes_to_binstr(packet_bytes))\n",
    "        \n",
    "        ## Decode the packet:\n",
    "        packet = parse_packet(packet_bytes)\n",
    "        \n",
    "        # Ensure only the designated field can have a non-zero value and that its value is correct:\n",
    "        for checking_field_name in packet.BITFIELD_ALLOCATIONS.keys():\n",
    "            checking_field_val = getattr(packet.custom_payload, checking_field_name)\n",
    "            \n",
    "            if checking_field_name == test_field_name:\n",
    "                if is_adc_val:\n",
    "                    # Cut off any bits as necessary for transmission:\n",
    "                    expected_val = create_adc_sample(test_val, n_upper_adc_bits, n_lower_adc_bits)\n",
    "                    # Shift back out to full scale:\n",
    "                    expected_val = expected_val << (12 - n_upper_adc_bits)\n",
    "                elif test_field_name in ['I2C_BatteryChargeRaw', 'I2C_BatteryVoltageRaw', 'I2C_BatteryCurrentRaw', 'I2C_FuelGaugeTempRaw']:\n",
    "                    # Flip endianness since these values are actually uint8_t[2] not uint16_t\n",
    "                    expected_val = test_val\n",
    "                    expected_val = int.from_bytes(expected_val.to_bytes(2, 'little'), 'big')\n",
    "                else:\n",
    "                    expected_val = test_val\n",
    "            else:\n",
    "                expected_val = 0\n",
    "            \n",
    "            err_msg = f\"testing {checking_field_name=}, {checking_field_val=} <-> {test_field_name=}, {test_val=} => {expected_val=}\"\n",
    "            assert checking_field_val == expected_val, err_msg\n",
    "    \n",
    "    # Advance the bit head:\n",
    "    idx_bit_head += test_field_bits\n",
    "    \n",
    "cprint('PASSED!', 'green')\n"
   ]
  },
  {
   "cell_type": "code",
   "execution_count": 15,
   "metadata": {},
   "outputs": [],
   "source": [
    "# {d: getattr(packet.custom_payload, d) for d in dir(packet.custom_payload)}"
   ]
  },
  {
   "cell_type": "code",
   "execution_count": 16,
   "metadata": {},
   "outputs": [
    {
     "name": "stdout",
     "output_type": "stream",
     "text": [
      "0b 11010101 00000100 00000000 00000000 00000000 00000000 00000000 00000000 00000000 00000000 00000000 00000000 00000000 00000000 00000000 00000000 00000000 00000000 00000000 00000000 00000000 00000000 00000000 00000000 00000000 00000000 00000000 00000000 00000000 00000000 00000000 00000000 00000000 00000000 00000000 00000000 00000000 00000000 00000000 00000000 00000000 00000000 00000000 00000000 00000000 00000000 00000000\n",
      "0000  D5 04 00 00 00 00 00 00 00 00 00 00 00 00 00 00  ................\n",
      "0010  00 00 00 00 00 00 00 00 00 00 00 00 00 00 00 00  ................\n",
      "0020  00 00 00 00 00 00 00 00 00 00 00 00 00 00 00     ...............\n"
     ]
    }
   ],
   "source": [
    "N_PACKET_BYTES: int = 46 # total # of bytes in detailed status packet\n",
    "\n",
    "# Start with a packet of all zeros:\n",
    "packet_bytes = bytearray(b'\\x00' * N_PACKET_BYTES)\n",
    "\n",
    "idx_bit_head = 5\n",
    "idx_byte_head = idx_bit_head // 8\n",
    "\n",
    "test_val = 1\n",
    "insert_val = test_val << (7 - idx_bit_head % 8)\n",
    "\n",
    "packet_bytes[idx_byte_head] = insert_val\n",
    "\n",
    "# Add the `DetailedStatus` flag at the beginning:\n",
    "packet_bytes = b'\\xD5' + packet_bytes\n",
    "\n",
    "print(bytes_to_binstr(packet_bytes))\n",
    "hexdump(packet_bytes)"
   ]
  },
  {
   "cell_type": "code",
   "execution_count": 17,
   "metadata": {},
   "outputs": [
    {
     "data": {
      "text/plain": [
       "'0b 00001000 00000000'"
      ]
     },
     "execution_count": 17,
     "metadata": {},
     "output_type": "execute_result"
    }
   ],
   "source": [
    "n_bits = 12\n",
    "n_bytes = math.ceil(n_bits / 8)\n",
    "n_bits_in_final_byte = n_bits % 8\n",
    "\n",
    "test_val = 1<<(n_bits-1)\n",
    "\n",
    "bs = test_val.to_bytes(n_bytes, 'little')\n",
    "bits_list = [byte_to_binstr(b) for b in bs]\n",
    "bits_list[-1] = bits_list[-1][-n_bits_in_final_byte:]\n",
    "Bs = int(''.join(bits_list),2).to_bytes(n_bytes, byteorder='little')\n",
    "bytes_to_binstr(Bs)\n"
   ]
  }
 ],
 "metadata": {
  "interpreter": {
   "hash": "5a3ee3e6a7ae85fe39552a4ea1c06b3f5fa77ca54a573c93ded039a6a08d9870"
  },
  "kernelspec": {
   "display_name": "Python 3.8.5 64-bit ('py_irisbackendv3': pyenv)",
   "language": "python",
   "name": "python3"
  },
  "language_info": {
   "codemirror_mode": {
    "name": "ipython",
    "version": 3
   },
   "file_extension": ".py",
   "mimetype": "text/x-python",
   "name": "python",
   "nbconvert_exporter": "python",
   "pygments_lexer": "ipython3",
   "version": "3.8.5"
  },
  "orig_nbformat": 4
 },
 "nbformat": 4,
 "nbformat_minor": 2
}
