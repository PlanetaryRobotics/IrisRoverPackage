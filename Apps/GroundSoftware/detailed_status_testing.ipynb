{
 "cells": [
  {
   "cell_type": "code",
   "execution_count": 3,
   "metadata": {},
   "outputs": [
    {
     "data": {
      "text/plain": [
       "[47, 47, 47, 47]"
      ]
     },
     "execution_count": 3,
     "metadata": {},
     "output_type": "execute_result"
    }
   ],
   "source": [
    "# Test packets from WD:\n",
    "tps = [\n",
    "    b\"\\xd5\\x04\\x08\\x18\\x00\\x03\\x03\\n\\x00\\x18\\x00\\x00\\x00\\x00\\x00`\\x00B\\x80\\x0f\\xc1\\x00\\xb8\\xf4\\x014!\\xfd\\x0cV\\x0e\\x18\\r\\x10'\\x00\\x00\\x00\\x00\\x00\\x00\\x00\\x00\\x00\\x00\\x00\\x00\",\n",
    "    b\"\\xd5\\x04\\x08\\x18\\x00\\x04\\x03\\n\\x00\\x18\\x00\\x00\\x00\\x00\\x00`\\x00B\\x80\\x0f\\xc1\\x00\\xb8\\xf4\\x014!\\xfd\\x0cV\\x0e\\x18\\r\\x10'\\x00\\x00\\x00\\x00\\x00\\x00\\x00\\x00\\x00\\x00\\x00\\x00\",\n",
    "    b\"\\xd5\\x04\\x08\\x18\\x00\\x05\\x03\\n\\x00\\x18\\x00\\x00\\x00\\x00\\x00`\\x00B\\x80\\x0f\\xc1\\x00\\xb8\\xf4\\x014!\\xfd\\x0cV\\x0e\\x18\\r\\x10'\\x00\\x00\\x00\\x00\\x00\\x00\\x00\\x00\\x00\\x00\\x00\\x00\",\n",
    "    b\"\\xd5\\x04\\x08\\x18\\x00\\x06\\x03\\n\\x00\\x18\\x00\\x00\\x00\\x00\\x00\\xe0\\x00B\\x80\\x0f\\xc1\\x00\\xb8\\xf4\\x014!\\xfd\\x0cV\\x0e\\x18\\r\\x10'\\x00\\x00\\x00\\x00\\x00\\x00\\x00\\x00\\x00\\x00\\x00\\x00\"\n",
    "]\n",
    "[len(tp) for tp in tps]"
   ]
  },
  {
   "cell_type": "code",
   "execution_count": 6,
   "metadata": {},
   "outputs": [
    {
     "name": "stdout",
     "output_type": "stream",
     "text": [
      "Test Packet 0: \n",
      "0000  D5 04 08 18 00 03 03 0A 00 18 00 00 00 00 00 60  ...............`\n",
      "0010  00 42 80 0F C1 00 B8 F4 01 34 21 FD 0C 56 0E 18  .B.......4!..V..\n",
      "0020  0D 10 27 00 00 00 00 00 00 00 00 00 00 00 00     ..'............\n",
      "Test Packet 1: \n",
      "0000  D5 04 08 18 00 04 03 0A 00 18 00 00 00 00 00 60  ...............`\n",
      "0010  00 42 80 0F C1 00 B8 F4 01 34 21 FD 0C 56 0E 18  .B.......4!..V..\n",
      "0020  0D 10 27 00 00 00 00 00 00 00 00 00 00 00 00     ..'............\n",
      "Test Packet 2: \n",
      "0000  D5 04 08 18 00 05 03 0A 00 18 00 00 00 00 00 60  ...............`\n",
      "0010  00 42 80 0F C1 00 B8 F4 01 34 21 FD 0C 56 0E 18  .B.......4!..V..\n",
      "0020  0D 10 27 00 00 00 00 00 00 00 00 00 00 00 00     ..'............\n",
      "Test Packet 3: \n",
      "0000  D5 04 08 18 00 06 03 0A 00 18 00 00 00 00 00 E0  ................\n",
      "0010  00 42 80 0F C1 00 B8 F4 01 34 21 FD 0C 56 0E 18  .B.......4!..V..\n",
      "0020  0D 10 27 00 00 00 00 00 00 00 00 00 00 00 00     ..'............\n"
     ]
    }
   ],
   "source": [
    "# from scapy.utils import hexdump\n",
    "# for i,tp in enumerate(tps):\n",
    "#     print(f'Test Packet {i}: ')\n",
    "#     hexdump(tp)"
   ]
  },
  {
   "cell_type": "code",
   "execution_count": 7,
   "metadata": {},
   "outputs": [
    {
     "name": "stdout",
     "output_type": "stream",
     "text": [
      "Test Packet 0: \n",
      "#3 [RS_KEEP_ALIVE + NOT_DEPLOYED] \tCHARGER: OFF \tBATTERIES: DISCONNECTED \tUART0: OFF \tUART1: INITIALIZED_&_ACTIVE\n",
      "1V2: BAD \t1V8: GOOD \t2V5: 0.0 \t2V8: 0.2 \t3V3: BAD \t5V0: BAD \t24V: 23.17\n",
      "VBm: 95.88V \tVL: 11.91V \tVcc28: 31.77V \tVSA: 7.94V \tISA: 151837.1mA\n",
      "HEATER [268K |274K |273K] \tControl: DISABLED, is : HEATING \t@ 0.000W / 0.395W \tPeriod: 1.2ms\n",
      "Tbatt: 428.1K ± 0.0K \tTchrg: 428.1K ± 0.0K \tTblimp: 0.0K\n",
      "BATTERY MONITOR: 0.00V \t0.0mA \t0mAh \t\n",
      "GPIO (2=HiZ): {'V_LANDER_REG_EN': 0, 'HEATER': 0, 'DEPLOYMENT': 0, 'FPGA_KICK_AKA_CAM_SELECT': 1, 'LATCH_BATT': 1, '3V3_EN': 0, 'HERCULES_ON': 0, 'FPGA_ON': 0, 'MOTOR_ON': 0, 'CHRG_EN': 0, 'BATTERY_EN': 0, 'V_SYS_ALL_EN': 2, 'HERCULES_N_RST': 0, 'HERCULES_N_PORRST': 0, 'FPGA_N_RST': 0, 'RADIO_N_RST': 1, 'RADIO_ON': 0, 'BMS_BOOT': 0, 'LATCH_SET': 1, 'LATCH_RESET': 0, 'BATT_STAT': 1} \n",
      "Resets: {'RABI__NO_RESET': 0, 'RABI__HERCULES_RESET': 0, 'RABI__HERCULES_UNRESET': 0, 'RABI__HERCULES_POWER_ON': 0, 'RABI__HERCULES_POWER_OFF': 0, 'RABI__RADIO_RESET': 0, 'RABI__RADIO_UNRESET': 0, 'RABI__RADIO_POWER_ON': 0, 'RABI__RADIO_POWER_OFF': 0, 'RABI__CAM_FPGA_RESET': 0, 'RABI__CAM_FPGA_UNRESET': 0, 'RABI__CAM_FPGA_POWER_ON': 0, 'RABI__CAM_FPGA_POWER_OFF': 0, 'RABI__ALL_MOTORS_POWER_ON': 0, 'RABI__ALL_MOTORS_POWER_OFF': 0, 'RABI__3V3_EN_RESET': 0, 'RABI__3V3_EN_UNRESET': 0, 'RABI__3V3_EN_POWER_ON': 0, 'RABI__3V3_EN_POWER_OFF': 0, 'RABI__24V_EN_RESET': 0, 'RABI__24V_EN_UNRESET': 0, 'RABI__24V_EN_POWER_ON': 0, 'RABI__24V_EN_POWER_OFF': 0, 'RABI__HDRM_DEPLOY_SIGNAL_POWER_OFF': 0, 'RABI__FPGA_CAM_0_SELECT': 0, 'RABI__FPGA_CAM_1_SELECT': 0, 'RABI__BATTERY_CHARGE_START': 0, 'RABI__BATTERY_CHARGE_STOP': 0, 'RABI__RS422_UART_ENABLE': 0, 'RABI__RS422_UART_DISABLE': 0, 'RABI__AUTO_HEATER_CONTROLLER_ENABLE': 0, 'RABI__AUTO_HEATER_CONTROLLER_DISABLE': 0, 'RABI__HERCULES_WATCHDOG_ENABLE': 0, 'RABI__HERCULES_WATCHDOG_DISABLE': 0, 'RABI__BATTERIES_ENABLE': 0, 'RABI__BATTERIES_DISABLE': 0, 'RABI__HDRM_DEPLOY_SIGNAL_POWER_ON': 0, 'RABI__HERCULES_WATCHDOG_RESET': 0}\n",
      "\n",
      "\n",
      "Test Packet 1: \n",
      "#4 [RS_KEEP_ALIVE + NOT_DEPLOYED] \tCHARGER: OFF \tBATTERIES: DISCONNECTED \tUART0: OFF \tUART1: INITIALIZED_&_ACTIVE\n",
      "1V2: BAD \t1V8: GOOD \t2V5: 0.0 \t2V8: 0.2 \t3V3: BAD \t5V0: BAD \t24V: 23.17\n",
      "VBm: 95.88V \tVL: 11.91V \tVcc28: 31.77V \tVSA: 7.94V \tISA: 151837.1mA\n",
      "HEATER [268K |274K |273K] \tControl: DISABLED, is : HEATING \t@ 0.000W / 0.395W \tPeriod: 1.2ms\n",
      "Tbatt: 428.1K ± 0.0K \tTchrg: 428.1K ± 0.0K \tTblimp: 0.0K\n",
      "BATTERY MONITOR: 0.00V \t0.0mA \t0mAh \t\n",
      "GPIO (2=HiZ): {'V_LANDER_REG_EN': 0, 'HEATER': 0, 'DEPLOYMENT': 0, 'FPGA_KICK_AKA_CAM_SELECT': 1, 'LATCH_BATT': 1, '3V3_EN': 0, 'HERCULES_ON': 0, 'FPGA_ON': 0, 'MOTOR_ON': 0, 'CHRG_EN': 0, 'BATTERY_EN': 0, 'V_SYS_ALL_EN': 2, 'HERCULES_N_RST': 0, 'HERCULES_N_PORRST': 0, 'FPGA_N_RST': 0, 'RADIO_N_RST': 1, 'RADIO_ON': 0, 'BMS_BOOT': 0, 'LATCH_SET': 1, 'LATCH_RESET': 0, 'BATT_STAT': 1} \n",
      "Resets: {'RABI__NO_RESET': 0, 'RABI__HERCULES_RESET': 0, 'RABI__HERCULES_UNRESET': 0, 'RABI__HERCULES_POWER_ON': 0, 'RABI__HERCULES_POWER_OFF': 0, 'RABI__RADIO_RESET': 0, 'RABI__RADIO_UNRESET': 0, 'RABI__RADIO_POWER_ON': 0, 'RABI__RADIO_POWER_OFF': 0, 'RABI__CAM_FPGA_RESET': 0, 'RABI__CAM_FPGA_UNRESET': 0, 'RABI__CAM_FPGA_POWER_ON': 0, 'RABI__CAM_FPGA_POWER_OFF': 0, 'RABI__ALL_MOTORS_POWER_ON': 0, 'RABI__ALL_MOTORS_POWER_OFF': 0, 'RABI__3V3_EN_RESET': 0, 'RABI__3V3_EN_UNRESET': 0, 'RABI__3V3_EN_POWER_ON': 0, 'RABI__3V3_EN_POWER_OFF': 0, 'RABI__24V_EN_RESET': 0, 'RABI__24V_EN_UNRESET': 0, 'RABI__24V_EN_POWER_ON': 0, 'RABI__24V_EN_POWER_OFF': 0, 'RABI__HDRM_DEPLOY_SIGNAL_POWER_OFF': 0, 'RABI__FPGA_CAM_0_SELECT': 0, 'RABI__FPGA_CAM_1_SELECT': 0, 'RABI__BATTERY_CHARGE_START': 0, 'RABI__BATTERY_CHARGE_STOP': 0, 'RABI__RS422_UART_ENABLE': 0, 'RABI__RS422_UART_DISABLE': 0, 'RABI__AUTO_HEATER_CONTROLLER_ENABLE': 0, 'RABI__AUTO_HEATER_CONTROLLER_DISABLE': 0, 'RABI__HERCULES_WATCHDOG_ENABLE': 0, 'RABI__HERCULES_WATCHDOG_DISABLE': 0, 'RABI__BATTERIES_ENABLE': 0, 'RABI__BATTERIES_DISABLE': 0, 'RABI__HDRM_DEPLOY_SIGNAL_POWER_ON': 0, 'RABI__HERCULES_WATCHDOG_RESET': 0}\n",
      "\n",
      "\n",
      "Test Packet 2: \n",
      "#5 [RS_KEEP_ALIVE + NOT_DEPLOYED] \tCHARGER: OFF \tBATTERIES: DISCONNECTED \tUART0: OFF \tUART1: INITIALIZED_&_ACTIVE\n",
      "1V2: BAD \t1V8: GOOD \t2V5: 0.0 \t2V8: 0.2 \t3V3: BAD \t5V0: BAD \t24V: 23.17\n",
      "VBm: 95.88V \tVL: 11.91V \tVcc28: 31.77V \tVSA: 7.94V \tISA: 151837.1mA\n",
      "HEATER [268K |274K |273K] \tControl: DISABLED, is : HEATING \t@ 0.000W / 0.395W \tPeriod: 1.2ms\n",
      "Tbatt: 428.1K ± 0.0K \tTchrg: 428.1K ± 0.0K \tTblimp: 0.0K\n",
      "BATTERY MONITOR: 0.00V \t0.0mA \t0mAh \t\n",
      "GPIO (2=HiZ): {'V_LANDER_REG_EN': 0, 'HEATER': 0, 'DEPLOYMENT': 0, 'FPGA_KICK_AKA_CAM_SELECT': 1, 'LATCH_BATT': 1, '3V3_EN': 0, 'HERCULES_ON': 0, 'FPGA_ON': 0, 'MOTOR_ON': 0, 'CHRG_EN': 0, 'BATTERY_EN': 0, 'V_SYS_ALL_EN': 2, 'HERCULES_N_RST': 0, 'HERCULES_N_PORRST': 0, 'FPGA_N_RST': 0, 'RADIO_N_RST': 1, 'RADIO_ON': 0, 'BMS_BOOT': 0, 'LATCH_SET': 1, 'LATCH_RESET': 0, 'BATT_STAT': 1} \n",
      "Resets: {'RABI__NO_RESET': 0, 'RABI__HERCULES_RESET': 0, 'RABI__HERCULES_UNRESET': 0, 'RABI__HERCULES_POWER_ON': 0, 'RABI__HERCULES_POWER_OFF': 0, 'RABI__RADIO_RESET': 0, 'RABI__RADIO_UNRESET': 0, 'RABI__RADIO_POWER_ON': 0, 'RABI__RADIO_POWER_OFF': 0, 'RABI__CAM_FPGA_RESET': 0, 'RABI__CAM_FPGA_UNRESET': 0, 'RABI__CAM_FPGA_POWER_ON': 0, 'RABI__CAM_FPGA_POWER_OFF': 0, 'RABI__ALL_MOTORS_POWER_ON': 0, 'RABI__ALL_MOTORS_POWER_OFF': 0, 'RABI__3V3_EN_RESET': 0, 'RABI__3V3_EN_UNRESET': 0, 'RABI__3V3_EN_POWER_ON': 0, 'RABI__3V3_EN_POWER_OFF': 0, 'RABI__24V_EN_RESET': 0, 'RABI__24V_EN_UNRESET': 0, 'RABI__24V_EN_POWER_ON': 0, 'RABI__24V_EN_POWER_OFF': 0, 'RABI__HDRM_DEPLOY_SIGNAL_POWER_OFF': 0, 'RABI__FPGA_CAM_0_SELECT': 0, 'RABI__FPGA_CAM_1_SELECT': 0, 'RABI__BATTERY_CHARGE_START': 0, 'RABI__BATTERY_CHARGE_STOP': 0, 'RABI__RS422_UART_ENABLE': 0, 'RABI__RS422_UART_DISABLE': 0, 'RABI__AUTO_HEATER_CONTROLLER_ENABLE': 0, 'RABI__AUTO_HEATER_CONTROLLER_DISABLE': 0, 'RABI__HERCULES_WATCHDOG_ENABLE': 0, 'RABI__HERCULES_WATCHDOG_DISABLE': 0, 'RABI__BATTERIES_ENABLE': 0, 'RABI__BATTERIES_DISABLE': 0, 'RABI__HDRM_DEPLOY_SIGNAL_POWER_ON': 0, 'RABI__HERCULES_WATCHDOG_RESET': 0}\n",
      "\n",
      "\n",
      "Test Packet 3: \n",
      "#6 [RS_KEEP_ALIVE + NOT_DEPLOYED] \tCHARGER: OFF \tBATTERIES: DISCONNECTED \tUART0: OFF \tUART1: INITIALIZED_&_ACTIVE\n",
      "1V2: BAD \t1V8: GOOD \t2V5: 0.0 \t2V8: 0.2 \t3V3: BAD \t5V0: BAD \t24V: 23.17\n",
      "VBm: 95.88V \tVL: 27.79V \tVcc28: 31.77V \tVSA: 7.94V \tISA: 151837.1mA\n",
      "HEATER [268K |274K |273K] \tControl: DISABLED, is : HEATING \t@ 0.000W / 0.975W \tPeriod: 1.2ms\n",
      "Tbatt: 428.1K ± 0.0K \tTchrg: 428.1K ± 0.0K \tTblimp: 0.0K\n",
      "BATTERY MONITOR: 0.00V \t0.0mA \t0mAh \t\n",
      "GPIO (2=HiZ): {'V_LANDER_REG_EN': 0, 'HEATER': 0, 'DEPLOYMENT': 0, 'FPGA_KICK_AKA_CAM_SELECT': 1, 'LATCH_BATT': 1, '3V3_EN': 0, 'HERCULES_ON': 0, 'FPGA_ON': 0, 'MOTOR_ON': 0, 'CHRG_EN': 0, 'BATTERY_EN': 0, 'V_SYS_ALL_EN': 2, 'HERCULES_N_RST': 0, 'HERCULES_N_PORRST': 0, 'FPGA_N_RST': 0, 'RADIO_N_RST': 1, 'RADIO_ON': 0, 'BMS_BOOT': 0, 'LATCH_SET': 1, 'LATCH_RESET': 0, 'BATT_STAT': 1} \n",
      "Resets: {'RABI__NO_RESET': 0, 'RABI__HERCULES_RESET': 0, 'RABI__HERCULES_UNRESET': 0, 'RABI__HERCULES_POWER_ON': 0, 'RABI__HERCULES_POWER_OFF': 0, 'RABI__RADIO_RESET': 0, 'RABI__RADIO_UNRESET': 0, 'RABI__RADIO_POWER_ON': 0, 'RABI__RADIO_POWER_OFF': 0, 'RABI__CAM_FPGA_RESET': 0, 'RABI__CAM_FPGA_UNRESET': 0, 'RABI__CAM_FPGA_POWER_ON': 0, 'RABI__CAM_FPGA_POWER_OFF': 0, 'RABI__ALL_MOTORS_POWER_ON': 0, 'RABI__ALL_MOTORS_POWER_OFF': 0, 'RABI__3V3_EN_RESET': 0, 'RABI__3V3_EN_UNRESET': 0, 'RABI__3V3_EN_POWER_ON': 0, 'RABI__3V3_EN_POWER_OFF': 0, 'RABI__24V_EN_RESET': 0, 'RABI__24V_EN_UNRESET': 0, 'RABI__24V_EN_POWER_ON': 0, 'RABI__24V_EN_POWER_OFF': 0, 'RABI__HDRM_DEPLOY_SIGNAL_POWER_OFF': 0, 'RABI__FPGA_CAM_0_SELECT': 0, 'RABI__FPGA_CAM_1_SELECT': 0, 'RABI__BATTERY_CHARGE_START': 0, 'RABI__BATTERY_CHARGE_STOP': 0, 'RABI__RS422_UART_ENABLE': 0, 'RABI__RS422_UART_DISABLE': 0, 'RABI__AUTO_HEATER_CONTROLLER_ENABLE': 0, 'RABI__AUTO_HEATER_CONTROLLER_DISABLE': 0, 'RABI__HERCULES_WATCHDOG_ENABLE': 0, 'RABI__HERCULES_WATCHDOG_DISABLE': 0, 'RABI__BATTERIES_ENABLE': 0, 'RABI__BATTERIES_DISABLE': 0, 'RABI__HDRM_DEPLOY_SIGNAL_POWER_ON': 0, 'RABI__HERCULES_WATCHDOG_RESET': 0}\n",
      "\n",
      "\n"
     ]
    }
   ],
   "source": [
    "# from trans_tools import *\n",
    "# for i,tp in enumerate(tps):\n",
    "#     print(f'Test Packet {i}: ')\n",
    "#     packet = parse_packet(tp)\n",
    "#     print(packet)"
   ]
  },
  {
   "cell_type": "code",
   "execution_count": 5,
   "metadata": {},
   "outputs": [
    {
     "name": "stdout",
     "output_type": "stream",
     "text": [
      "Target hex: 0x1234567\n",
      "Transmitted hex: b'gE#\\x01'\n"
     ]
    }
   ],
   "source": [
    "# Test case for Digital outputs where output bits follow a pattern of counting \n",
    "# up in quartets (arbitrary, just to be easily recognizable and non-palindromic):\n",
    "outs = '0000 0001 0010 0011 0100 0101 0110 0111'.replace(' ','') # i.e. 0x1234567\n",
    "assert bin(int(outs, base=2)) == '0b1001000110100010101100111' # sanity check\n",
    "\n",
    "print(f\"Target hex: {hex(int(outs, base=2))}\")\n",
    "msg = int(outs, base=2).to_bytes(4, 'little') # as it would be sent from WD\n",
    "print(f\"Transmitted hex: {msg}\")\n",
    "\n",
    "start = b'\\x00' * 5 # There are 40 bits = 5B before DigitalOutputStates starts\n",
    "end = b'\\x00' * 37 # 296b=37B after DigitalOutputStates\n"
   ]
  },
  {
   "cell_type": "code",
   "execution_count": 7,
   "metadata": {},
   "outputs": [
    {
     "data": {
      "text/plain": [
       "b'\\x04\\x03\\x02\\x01'"
      ]
     },
     "execution_count": 7,
     "metadata": {},
     "output_type": "execute_result"
    }
   ],
   "source": [
    "import bitstruct\n",
    "# original data\n",
    "x = 0x01020304\n",
    "data = x.to_bytes(4, \"little\")\n",
    "data"
   ]
  },
  {
   "cell_type": "code",
   "execution_count": 8,
   "metadata": {},
   "outputs": [
    {
     "data": {
      "text/plain": [
       "['0x4030201']"
      ]
     },
     "execution_count": 8,
     "metadata": {},
     "output_type": "execute_result"
    }
   ],
   "source": [
    "# in decode\n",
    "bs = bitstruct.unpack(\"u32\", data)\n",
    "[hex(b) for b in bs]"
   ]
  },
  {
   "cell_type": "code",
   "execution_count": 13,
   "metadata": {},
   "outputs": [
    {
     "data": {
      "text/plain": [
       "'0x1020304'"
      ]
     },
     "execution_count": 13,
     "metadata": {},
     "output_type": "execute_result"
    }
   ],
   "source": [
    "# in l2b_flip_endianness\n",
    "import struct\n",
    "big_val = struct.unpack('>L', struct.pack('<L', bs[0]))[0]\n",
    "hex(big_val)"
   ]
  },
  {
   "cell_type": "code",
   "execution_count": 14,
   "metadata": {},
   "outputs": [
    {
     "data": {
      "text/plain": [
       "b'\\x01\\x02\\x03\\x04'"
      ]
     },
     "execution_count": 14,
     "metadata": {},
     "output_type": "execute_result"
    }
   ],
   "source": [
    "# in Watchdog_DigitalOutputStates_Dict(self)\n",
    "data2 = big_val.to_bytes(4, 'big')\n",
    "data2"
   ]
  },
  {
   "cell_type": "code",
   "execution_count": 15,
   "metadata": {},
   "outputs": [
    {
     "data": {
      "text/plain": [
       "['0x1', '0x2', '0x3', '0x4']"
      ]
     },
     "execution_count": 15,
     "metadata": {},
     "output_type": "execute_result"
    }
   ],
   "source": [
    "# In BitfieldStruct.unpack, decode as bytes for visual ease\n",
    "bitfield_values = bitstruct.unpack('u8u8u8u8', data2)\n",
    "[hex(b) for b in bitfield_values]"
   ]
  }
 ],
 "metadata": {
  "interpreter": {
   "hash": "5a3ee3e6a7ae85fe39552a4ea1c06b3f5fa77ca54a573c93ded039a6a08d9870"
  },
  "kernelspec": {
   "display_name": "Python 3.8.5 64-bit ('py_irisbackendv3': pyenv)",
   "language": "python",
   "name": "python3"
  },
  "language_info": {
   "codemirror_mode": {
    "name": "ipython",
    "version": 3
   },
   "file_extension": ".py",
   "mimetype": "text/x-python",
   "name": "python",
   "nbconvert_exporter": "python",
   "pygments_lexer": "ipython3",
   "version": "3.8.5"
  },
  "orig_nbformat": 4
 },
 "nbformat": 4,
 "nbformat_minor": 2
}
