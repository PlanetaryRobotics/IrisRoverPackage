{
 "metadata": {
  "language_info": {
   "codemirror_mode": {
    "name": "ipython",
    "version": 3
   },
   "file_extension": ".py",
   "mimetype": "text/x-python",
   "name": "python",
   "nbconvert_exporter": "python",
   "pygments_lexer": "ipython3",
   "version": "3.8.5"
  },
  "orig_nbformat": 2,
  "kernelspec": {
   "name": "python385jvsc74a57bd08816a32dc6e032dd9374d27f75563e4313e5344332f9668033f6f3b340da094a",
   "display_name": "Python 3.8.5 64-bit ('py_irisbackendv3': pyenv)"
  },
  "metadata": {
   "interpreter": {
    "hash": "8816a32dc6e032dd9374d27f75563e4313e5344332f9668033f6f3b340da094a"
   }
  }
 },
 "nbformat": 4,
 "nbformat_minor": 2,
 "cells": [
  {
   "cell_type": "code",
   "execution_count": 22,
   "metadata": {},
   "outputs": [
    {
     "output_type": "stream",
     "name": "stdout",
     "text": [
      "((b'\\x00\\x08', '<'), {'magic': <Magic.MISSING: 3203395310>, 'pathway': <DataPathway.NONE: -1>, 'source': <DataSource.NONE: -1>, 'amcc_ack': False, 'rover_ack': False, 'uplink_times': None})\n('IrisBackendv3.codec.payload', 'PayloadCollection')\n('builtins', 'getattr')\n('IrisBackendv3.codec.payload', 'CommandPayload')\n('IrisBackendv3.codec.magic', 'Magic')\n('IrisBackendv3.codec.metadata', 'DataPathway')\n('IrisBackendv3.codec.metadata', 'DataSource')\n"
     ]
    },
    {
     "output_type": "execute_result",
     "data": {
      "text/plain": [
       "False"
      ]
     },
     "metadata": {},
     "execution_count": 22
    }
   ],
   "source": [
    "## Payload Collection Serialization Testing.\n",
    "from typing import List, ClassVar, Set\n",
    "\n",
    "from IrisBackendv3.data_standards import DataStandards\n",
    "from IrisBackendv3.data_standards.logging import logger as DsLogger\n",
    "from IrisBackendv3.codec.settings import set_codec_standards\n",
    "\n",
    "from IrisBackendv3.codec.payload import PayloadCollection, CommandPayload\n",
    "\n",
    "# Setup some basic Data Standards:\n",
    "DsLogger.setLevel('CRITICAL')\n",
    "standards = DataStandards.build_standards()\n",
    "set_codec_standards(standards)\n",
    "\n",
    "# Grab a basic NoOp command:\n",
    "module, command = standards.global_command_lookup('CommandDispatcher_Cmdnoop')\n",
    "\n",
    "# Make a payload containing two of them.\n",
    "pc = PayloadCollection.make_empty()\n",
    "pc.CommandPayload.extend([\n",
    "    CommandPayload(\n",
    "        module_id=module.ID,\n",
    "        command_id=command.ID,\n",
    "        args=dict()\n",
    "    ),\n",
    "    CommandPayload(\n",
    "        module_id=module.ID,\n",
    "        command_id=command.ID,\n",
    "        args=dict()\n",
    "    )\n",
    "])\n",
    "\n",
    "import json, pickle\n",
    "decoder, data, state = pc.CommandPayload[0].__reduce__()\n",
    "print((data,state))\n",
    "b = pickle.dumps(pc)\n",
    "\n",
    "\n",
    "# TODO: Consider also signing pickles\n",
    "import IrisBackendv3.codec.magic\n",
    "import builtins, io\n",
    "class IrisRestrictedUnpickler(pickle.Unpickler):\n",
    "    \"\"\"\n",
    "    Safe Unpickling implementation which controls what gets unpickled with a custom `Unpickler.find_class()`, which is called whenever a global (i.e., a class or a function) is requested. This only allows safe builtins and a selection of pre-approved and pre-imported Iris modules to be loaded.\n",
    "\n",
    "    This is used as a security layer for any pickles sent over the internal Iris Backend IPC network. Pickles are only sent over IPC in the first place to allow any classes which are already set up for being cached as pickles (think `DataStandards`) to also be sent over IPC.\n",
    "    \n",
    "    Note: even though this should offer a secure way to transfer pickles over a network, as a matter of principle, **pickles should still never be sent over an open network**.\n",
    "\n",
    "    Note: careful consideration should be given when adding any iris module to `approved_iris_modules` to ensure there are no ways for it to be used to allow remote code execution (i.e. modules should only contain basic containers which don't have any functions, lambdas, etc as attributes).\n",
    "\"\"\"\n",
    "\n",
    "    safe_builtins: ClassVar[Set[str]] = {\n",
    "        'range',\n",
    "        'complex',\n",
    "        'set',\n",
    "        'frozenset',\n",
    "        'slice',\n",
    "        'getattr'\n",
    "    }\n",
    "\n",
    "    approved_iris_modules = {\n",
    "        'IrisBackendv3.codec.magic': IrisBackendv3.codec.magic,\n",
    "        'IrisBackendv3.codec.metadata': IrisBackendv3.codec.metadata,\n",
    "        'IrisBackendv3.codec.payload': IrisBackendv3.codec.payload\n",
    "    }\n",
    "\n",
    "    def find_class(self, module, name):\n",
    "        # Only allow safe classes from builtins.\n",
    "        print((module, name)) #! TODO: Remove me\n",
    "        \n",
    "        # Allow approved Iris Modules:\n",
    "        if module in IrisRestrictedUnpickler.approved_iris_modules:\n",
    "            return getattr(IrisRestrictedUnpickler.approved_iris_modules[module], name)\n",
    "\n",
    "        # Allow safe built-ins:\n",
    "        if module == \"builtins\" and name in IrisRestrictedUnpickler.safe_builtins:\n",
    "            return getattr(builtins, name)\n",
    "\n",
    "        # Forbid everything else:\n",
    "        raise pickle.UnpicklingError(f\"global '{module}.{name}' is forbidden\")\n",
    "\n",
    "    @classmethod\n",
    "    def restricted_loads(cls, s):\n",
    "        \"\"\"Helper function analogous to pickle.loads().\"\"\"\n",
    "        return cls(io.BytesIO(s)).load()\n",
    "\n",
    "\n",
    "pc.CommandPayload == IrisRestrictedUnpickler.restricted_loads(b).CommandPayload"
   ]
  },
  {
   "source": [
    "## Settings"
   ],
   "cell_type": "markdown",
   "metadata": {}
  },
  {
   "cell_type": "code",
   "execution_count": 2,
   "metadata": {},
   "outputs": [],
   "source": [
    "\n",
    "import scapy.all as scp\n",
    "import struct\n",
    "import numpy as np\n",
    "import matplotlib.pyplot as plt\n",
    "\n",
    "from typing import DefaultDict\n",
    "\n",
    "from IrisBackendv3.data_standards import DataStandards\n",
    "from IrisBackendv3.data_standards.prebuilt import add_to_standards, watchdog_heartbeat_tvac\n",
    "from IrisBackendv3.data_standards.logging import logger as DsLogger\n",
    "\n",
    "from IrisBackendv3.codec.magic import Magic, MAGIC_SIZE\n",
    "from IrisBackendv3.codec.settings import set_codec_standards\n",
    "\n",
    "from IrisBackendv3.utils.basic import print_bytearray_hex as printraw"
   ]
  },
  {
   "cell_type": "code",
   "execution_count": 3,
   "metadata": {},
   "outputs": [
    {
     "output_type": "stream",
     "name": "stdout",
     "text": [
      "Data Standards Overview: [\n\u001b[1m\u001b[40m\u001b[35m\n\tModule[256]::BlockDriver\u001b[0m\n\u001b[47m\u001b[30m\n\t\tCommands:\u001b[0m\n\u001b[47m\u001b[30m\n\t\tTelemetry:\u001b[0m\n\u001b[31m\n\t\t\t0.\tChannel[0]::BdCycles: uint32\u001b[0m\n\u001b[47m\u001b[30m\n\t\tEvents:\u001b[0m\n\u001b[1m\u001b[40m\u001b[35m\n\tModule[512]::RateGroupDriver\u001b[0m\n\u001b[47m\u001b[30m\n\t\tCommands:\u001b[0m\n\u001b[47m\u001b[30m\n\t\tTelemetry:\u001b[0m\n\u001b[47m\u001b[30m\n\t\tEvents:\u001b[0m\n\u001b[1m\u001b[40m\u001b[35m\n\tModule[768]::ActiveRateGroup-RateGroupLowFreq\u001b[0m\n\u001b[47m\u001b[30m\n\t\tCommands:\u001b[0m\n\u001b[47m\u001b[30m\n\t\tTelemetry:\u001b[0m\n\u001b[31m\n\t\t\t0.\tChannel[0]::RgMaxTime: uint32\u001b[0m\n\u001b[31m\n\t\t\t1.\tChannel[1]::RgCycleSlips: uint32\u001b[0m\n\u001b[47m\u001b[30m\n\t\tEvents:\u001b[0m\n\u001b[34m\n\t\t\t0.\tEvent[0]::RateGroupStarted[]\u001b[0m\n\u001b[34m\n\t\t\t1.\tEvent[1]::RateGroupCycleSlip[cycle: uint32]\u001b[0m\n\u001b[1m\u001b[40m\u001b[35m\n\tModule[1024]::ActiveRateGroup-RateGroupMedFreq\u001b[0m\n\u001b[47m\u001b[30m\n\t\tCommands:\u001b[0m\n\u001b[47m\u001b[30m\n\t\tTelemetry:\u001b[0m\n\u001b[31m\n\t\t\t0.\tChannel[0]::RgMaxTime: uint32\u001b[0m\n\u001b[31m\n\t\t\t1.\tChannel[1]::RgCycleSlips: uint32\u001b[0m\n\u001b[47m\u001b[30m\n\t\tEvents:\u001b[0m\n\u001b[34m\n\t\t\t0.\tEvent[0]::RateGroupStarted[]\u001b[0m\n\u001b[34m\n\t\t\t1.\tEvent[1]::RateGroupCycleSlip[cycle: uint32]\u001b[0m\n\u001b[1m\u001b[40m\u001b[35m\n\tModule[1280]::ActiveRateGroup-RateGroupHiFreq\u001b[0m\n\u001b[47m\u001b[30m\n\t\tCommands:\u001b[0m\n\u001b[47m\u001b[30m\n\t\tTelemetry:\u001b[0m\n\u001b[31m\n\t\t\t0.\tChannel[0]::RgMaxTime: uint32\u001b[0m\n\u001b[31m\n\t\t\t1.\tChannel[1]::RgCycleSlips: uint32\u001b[0m\n\u001b[47m\u001b[30m\n\t\tEvents:\u001b[0m\n\u001b[34m\n\t\t\t0.\tEvent[0]::RateGroupStarted[]\u001b[0m\n\u001b[34m\n\t\t\t1.\tEvent[1]::RateGroupCycleSlip[cycle: uint32]\u001b[0m\n\u001b[1m\u001b[40m\u001b[35m\n\tModule[1536]::CubeRoverTime\u001b[0m\n\u001b[47m\u001b[30m\n\t\tCommands:\u001b[0m\n\u001b[47m\u001b[30m\n\t\tTelemetry:\u001b[0m\n\u001b[47m\u001b[30m\n\t\tEvents:\u001b[0m\n\u001b[1m\u001b[40m\u001b[35m\n\tModule[1792]::TlmChan\u001b[0m\n\u001b[47m\u001b[30m\n\t\tCommands:\u001b[0m\n\u001b[47m\u001b[30m\n\t\tTelemetry:\u001b[0m\n\u001b[47m\u001b[30m\n\t\tEvents:\u001b[0m\n\u001b[1m\u001b[40m\u001b[35m\n\tModule[2048]::CommandDispatcher\u001b[0m\n\u001b[47m\u001b[30m\n\t\tCommands:\u001b[0m\n\u001b[32m\n\t\t\t0.\tCommand[0]::CommandDispatcher_Cmdnoop[]\u001b[0m\n\u001b[32m\n\t\t\t1.\tCommand[1]::CommandDispatcher_Cmdnoopstring[arg_1: char[40]]\u001b[0m\n\u001b[32m\n\t\t\t2.\tCommand[2]::CommandDispatcher_Cmdtestcmd1[arg_1: int32, arg_2: float, arg_3: uint8]\u001b[0m\n\u001b[32m\n\t\t\t3.\tCommand[3]::CommandDispatcher_Cmdcleartracking[]\u001b[0m\n\u001b[47m\u001b[30m\n\t\tTelemetry:\u001b[0m\n\u001b[31m\n\t\t\t0.\tChannel[0]::CommandsDispatched: uint32\u001b[0m\n\u001b[31m\n\t\t\t1.\tChannel[1]::CommandErrors: uint32\u001b[0m\n\u001b[47m\u001b[30m\n\t\tEvents:\u001b[0m\n\u001b[34m\n\t\t\t0.\tEvent[0]::OpCodeRegistered[opcode: uint32, port: int32, slot: int32]\u001b[0m\n\u001b[34m\n\t\t\t1.\tEvent[1]::OpCodeDispatched[opcode: uint32, port: int32]\u001b[0m\n\u001b[34m\n\t\t\t2.\tEvent[2]::OpCodeCompleted[opcode: uint32]\u001b[0m\n\u001b[34m\n\t\t\t3.\tEvent[3]::OpCodeError[opcode: uint32, error: enum/*int32*/]\u001b[0m\n\u001b[34m\n\t\t\t4.\tEvent[4]::MalformedCommand[status: enum/*int32*/]\u001b[0m\n\u001b[34m\n\t\t\t5.\tEvent[5]::InvalidCommand[opcode: uint32]\u001b[0m\n\u001b[34m\n\t\t\t6.\tEvent[6]::TooManyCommands[opcode: uint32]\u001b[0m\n\u001b[34m\n\t\t\t7.\tEvent[7]::NoOpReceived[]\u001b[0m\n\u001b[34m\n\t\t\t8.\tEvent[8]::NoOpStringReceived[message: char[40]]\u001b[0m\n\u001b[34m\n\t\t\t9.\tEvent[9]::TestCmd1Args[arg_1: int32, arg_2: float, arg_3: uint8]\u001b[0m\n\u001b[1m\u001b[40m\u001b[35m\n\tModule[2816]::ActiveLogger\u001b[0m\n\u001b[47m\u001b[30m\n\t\tCommands:\u001b[0m\n\u001b[32m\n\t\t\t0.\tCommand[0]::ActiveLogger_Alogseteventreportfilter[filter_level: enum/*int32*/, filter_enable: enum/*int32*/]\u001b[0m\n\u001b[36m\n\t\t\t\t\tAvailable values for `filter_level`:\u001b[0m\n\u001b[35m\n\t\t\t\t\t\t'INPUTWARNINGHI' or 0 or 0x0\u001b[0m\n\u001b[35m\n\t\t\t\t\t\t'INPUTWARNINGLO' or 1 or 0x1\u001b[0m\n\u001b[35m\n\t\t\t\t\t\t'INPUTCOMMAND' or 2 or 0x2\u001b[0m\n\u001b[35m\n\t\t\t\t\t\t'INPUTACTIVITYHI' or 3 or 0x3\u001b[0m\n\u001b[35m\n\t\t\t\t\t\t'INPUTACTIVITYLO' or 4 or 0x4\u001b[0m\n\u001b[35m\n\t\t\t\t\t\t'INPUTDIAGNOSTIC' or 5 or 0x5\u001b[0m\n\u001b[36m\n\t\t\t\t\tAvailable values for `filter_enable`:\u001b[0m\n\u001b[35m\n\t\t\t\t\t\t'INPUTENABLED' or 0 or 0x0\u001b[0m\n\u001b[35m\n\t\t\t\t\t\t'INPUTDISABLED' or 1 or 0x1\u001b[0m\n\u001b[32m\n\t\t\t1.\tCommand[1]::ActiveLogger_Alogseteventsendfilter[filter_level: enum/*int32*/, filter_enable: enum/*int32*/]\u001b[0m\n\u001b[36m\n\t\t\t\t\tAvailable values for `filter_level`:\u001b[0m\n\u001b[35m\n\t\t\t\t\t\t'SENDWARNINGHI' or 0 or 0x0\u001b[0m\n\u001b[35m\n\t\t\t\t\t\t'SENDWARNINGLO' or 1 or 0x1\u001b[0m\n\u001b[35m\n\t\t\t\t\t\t'SENDCOMMAND' or 2 or 0x2\u001b[0m\n\u001b[35m\n\t\t\t\t\t\t'SENDACTIVITYHI' or 3 or 0x3\u001b[0m\n\u001b[35m\n\t\t\t\t\t\t'SENDACTIVITYLO' or 4 or 0x4\u001b[0m\n\u001b[35m\n\t\t\t\t\t\t'SENDDIAGNOSTIC' or 5 or 0x5\u001b[0m\n\u001b[36m\n\t\t\t\t\tAvailable values for `filter_enable`:\u001b[0m\n\u001b[35m\n\t\t\t\t\t\t'SENDENABLED' or 0 or 0x0\u001b[0m\n\u001b[35m\n\t\t\t\t\t\t'SENDDISABLED' or 1 or 0x1\u001b[0m\n\u001b[32m\n\t\t\t2.\tCommand[2]::ActiveLogger_Alogdumpeventlog[filename: char[40]]\u001b[0m\n\u001b[32m\n\t\t\t3.\tCommand[3]::ActiveLogger_Alogsetidfilter[id: uint32, id_filter_enable: enum/*int32*/]\u001b[0m\n\u001b[36m\n\t\t\t\t\tAvailable values for `id_filter_enable`:\u001b[0m\n\u001b[35m\n\t\t\t\t\t\t'IDENABLED' or 0 or 0x0\u001b[0m\n\u001b[35m\n\t\t\t\t\t\t'IDDISABLED' or 1 or 0x1\u001b[0m\n\u001b[32m\n\t\t\t4.\tCommand[4]::ActiveLogger_Alogdumpfilterstate[]\u001b[0m\n\u001b[47m\u001b[30m\n\t\tTelemetry:\u001b[0m\n\u001b[47m\u001b[30m\n\t\tEvents:\u001b[0m\n\u001b[34m\n\t\t\t0.\tEvent[0]::Alogfilewriteerr[stage: enum/*int32*/, error: int32]\u001b[0m\n\u001b[34m\n\t\t\t1.\tEvent[1]::Alogfilewritecomplete[records: uint32]\u001b[0m\n\u001b[34m\n\t\t\t2.\tEvent[2]::Alogseverityfilterstate[severity: enum/*int32*/, recv_enabled: bool, send_enabled: bool]\u001b[0m\n\u001b[34m\n\t\t\t3.\tEvent[3]::Alogidfilterenabled[id: uint32]\u001b[0m\n\u001b[34m\n\t\t\t4.\tEvent[4]::Alogidfilterlistfull[id: uint32]\u001b[0m\n\u001b[34m\n\t\t\t5.\tEvent[5]::Alogidfilterremoved[id: uint32]\u001b[0m\n\u001b[34m\n\t\t\t6.\tEvent[6]::Alogidfilternotfound[id: uint32]\u001b[0m\n\u001b[1m\u001b[40m\u001b[35m\n\tModule[4096]::WatchDogInterface\u001b[0m\n\u001b[47m\u001b[30m\n\t\tCommands:\u001b[0m\n\u001b[32m\n\t\t\t0.\tCommand[0]::WatchDogInterface_ResetSpecific[reset_value: enum/*int32*/]\u001b[0m\n\u001b[36m\n\t\t\t\t\tAvailable values for `reset_value`:\u001b[0m\n\u001b[35m\n\t\t\t\t\t\t'NO_RESET' or 0 or 0x0\u001b[0m\n\u001b[35m\n\t\t\t\t\t\t'RESET_HERCULES' or 1 or 0x1\u001b[0m\n\u001b[35m\n\t\t\t\t\t\t'HERCULES_POWER_ON' or 2 or 0x2\u001b[0m\n\u001b[35m\n\t\t\t\t\t\t'HERCULES_POWER_OFF' or 3 or 0x3\u001b[0m\n\u001b[35m\n\t\t\t\t\t\t'RESET_RADIO' or 4 or 0x4\u001b[0m\n\u001b[35m\n\t\t\t\t\t\t'RADIO_POWER_ON' or 5 or 0x5\u001b[0m\n\u001b[35m\n\t\t\t\t\t\t'RADIO_POWER_OFF' or 6 or 0x6\u001b[0m\n\u001b[35m\n\t\t\t\t\t\t'RESET_FPGA' or 7 or 0x7\u001b[0m\n\u001b[35m\n\t\t\t\t\t\t'FPGA_POWER_ON' or 8 or 0x8\u001b[0m\n\u001b[35m\n\t\t\t\t\t\t'FPGA_POWER_OFF' or 9 or 0x9\u001b[0m\n\u001b[35m\n\t\t\t\t\t\t'RESET_MOTOR_1' or 10 or 0xa\u001b[0m\n\u001b[35m\n\t\t\t\t\t\t'RESET_MOTOR_2' or 11 or 0xb\u001b[0m\n\u001b[35m\n\t\t\t\t\t\t'RESET_MOTOR_3' or 12 or 0xc\u001b[0m\n\u001b[35m\n\t\t\t\t\t\t'RESET_MOTOR_4' or 13 or 0xd\u001b[0m\n\u001b[35m\n\t\t\t\t\t\t'RESET_ALL_MOTORS' or 14 or 0xe\u001b[0m\n\u001b[35m\n\t\t\t\t\t\t'ALL_MOTORS_ON' or 15 or 0xf\u001b[0m\n\u001b[35m\n\t\t\t\t\t\t'ALL_MOTORS_OFF' or 16 or 0x10\u001b[0m\n\u001b[35m\n\t\t\t\t\t\t'RESET_EN_3_3' or 17 or 0x11\u001b[0m\n\u001b[35m\n\t\t\t\t\t\t'EN_3_3_POWER_ON' or 18 or 0x12\u001b[0m\n\u001b[35m\n\t\t\t\t\t\t'EN_3_3_POWER_OFF' or 19 or 0x13\u001b[0m\n\u001b[35m\n\t\t\t\t\t\t'RESET_24_EN' or 20 or 0x14\u001b[0m\n\u001b[35m\n\t\t\t\t\t\t'EN_24_ON' or 21 or 0x15\u001b[0m\n\u001b[35m\n\t\t\t\t\t\t'EN_24_OFF' or 22 or 0x16\u001b[0m\n\u001b[35m\n\t\t\t\t\t\t'HDRM_OFF' or 24 or 0x18\u001b[0m\n\u001b[35m\n\t\t\t\t\t\t'FPGA_CAM_0' or 25 or 0x19\u001b[0m\n\u001b[35m\n\t\t\t\t\t\t'FPGA_CAM_1' or 26 or 0x1a\u001b[0m\n\u001b[35m\n\t\t\t\t\t\t'BATTERY_START_CHARGE' or 27 or 0x1b\u001b[0m\n\u001b[35m\n\t\t\t\t\t\t'BATTERY_STOP_CHARGE' or 28 or 0x1c\u001b[0m\n\u001b[35m\n\t\t\t\t\t\t'ENABLE_RS_422_UART' or 29 or 0x1d\u001b[0m\n\u001b[35m\n\t\t\t\t\t\t'DISABLE_RS_422_UART' or 30 or 0x1e\u001b[0m\n\u001b[35m\n\t\t\t\t\t\t'ENABLE_HEATER_CONTROL' or 31 or 0x1f\u001b[0m\n\u001b[35m\n\t\t\t\t\t\t'DISABLE_HEATER_CONTROL' or 32 or 0x20\u001b[0m\n\u001b[32m\n\t\t\t1.\tCommand[1]::WatchDogInterface_PrepareForDeployment[confirm: enum/*int32*/]\u001b[0m\n\u001b[36m\n\t\t\t\t\tAvailable values for `confirm`:\u001b[0m\n\u001b[35m\n\t\t\t\t\t\t'CONFIRM_PREP' or 96 or 0x60\u001b[0m\n\u001b[32m\n\t\t\t2.\tCommand[2]::WatchDogInterface_DisengageFromLander[confirm: enum/*int32*/]\u001b[0m\n\u001b[36m\n\t\t\t\t\tAvailable values for `confirm`:\u001b[0m\n\u001b[35m\n\t\t\t\t\t\t'CONFIRM_DEPLOY' or 96 or 0x60\u001b[0m\n\u001b[32m\n\t\t\t3.\tCommand[3]::WatchDogInterface_SwitchConnectionMode[]\u001b[0m\n\u001b[32m\n\t\t\t4.\tCommand[4]::WatchDogInterface_EngageFromLander[]\u001b[0m\n\u001b[32m\n\t\t\t5.\tCommand[170]::WatchDogInterface_SetKpSpecific[value: uint16]\u001b[0m\n\u001b[32m\n\t\t\t6.\tCommand[173]::WatchDogInterface_SetHeaterDutyCycleMax[limit: uint16]\u001b[0m\n\u001b[32m\n\t\t\t7.\tCommand[174]::WatchDogInterface_SetHeaterDutyCyclePeriod[period: uint16]\u001b[0m\n\u001b[32m\n\t\t\t8.\tCommand[175]::WatchDogInterface_SetHeaterWindow[adc_half_width: uint16]\u001b[0m\n\u001b[32m\n\t\t\t9.\tCommand[218]::WatchDogInterface_SetHeaterSetpoint[adc_setpoint: uint16]\u001b[0m\n\u001b[32m\n\t\t\t10.\tCommand[234]::WatchDogInterface_SwitchToSleepMode[confirm: enum/*int32*/]\u001b[0m\n\u001b[36m\n\t\t\t\t\tAvailable values for `confirm`:\u001b[0m\n\u001b[35m\n\t\t\t\t\t\t'CONFIRM_SLEEP' or 119 or 0x77\u001b[0m\n\u001b[32m\n\t\t\t11.\tCommand[235]::WatchDogInterface_SwitchToKeepAliveMode[confirm: enum/*int32*/]\u001b[0m\n\u001b[36m\n\t\t\t\t\tAvailable values for `confirm`:\u001b[0m\n\u001b[35m\n\t\t\t\t\t\t'CONFIRM_ALIVE' or 119 or 0x77\u001b[0m\n\u001b[32m\n\t\t\t12.\tCommand[236]::WatchDogInterface_SwitchToServiceMode[confirm: enum/*int32*/]\u001b[0m\n\u001b[36m\n\t\t\t\t\tAvailable values for `confirm`:\u001b[0m\n\u001b[35m\n\t\t\t\t\t\t'CONFIRM_SERVICE' or 119 or 0x77\u001b[0m\n\u001b[47m\u001b[30m\n\t\tTelemetry:\u001b[0m\n\u001b[31m\n\t\t\t0.\tChannel[2]::Voltage2.5V: int16\u001b[0m\n\u001b[31m\n\t\t\t1.\tChannel[3]::Voltage2.8V: int16\u001b[0m\n\u001b[31m\n\t\t\t2.\tChannel[4]::Voltage24V: int16\u001b[0m\n\u001b[31m\n\t\t\t3.\tChannel[5]::Voltage28V: int16\u001b[0m\n\u001b[31m\n\t\t\t4.\tChannel[16]::Batterythermistor: uint8\u001b[0m\n\u001b[31m\n\t\t\t5.\tChannel[23]::Systemstatus: int8\u001b[0m\n\u001b[31m\n\t\t\t6.\tChannel[24]::Batterylevel: uint16\u001b[0m\n\u001b[31m\n\t\t\t7.\tChannel[25]::Batterycurrent: uint32\u001b[0m\n\u001b[31m\n\t\t\t8.\tChannel[26]::Therm0: uint16\u001b[0m\n\u001b[31m\n\t\t\t9.\tChannel[27]::Therm1: uint16\u001b[0m\n\u001b[31m\n\t\t\t10.\tChannel[28]::Therm2: uint16\u001b[0m\n\u001b[31m\n\t\t\t11.\tChannel[29]::Therm3: uint16\u001b[0m\n\u001b[31m\n\t\t\t12.\tChannel[30]::Therm4: uint16\u001b[0m\n\u001b[31m\n\t\t\t13.\tChannel[31]::Therm5: uint16\u001b[0m\n\u001b[47m\u001b[30m\n\t\tEvents:\u001b[0m\n\u001b[34m\n\t\t\t0.\tEvent[0]::WatchDogIncorrectResp[error: uint8]\u001b[0m\n\u001b[34m\n\t\t\t1.\tEvent[1]::WatchDogTimedOut[]\u001b[0m\n\u001b[34m\n\t\t\t2.\tEvent[2]::WatchDogCmdReceived[cmd: char[50]]\u001b[0m\n\u001b[34m\n\t\t\t3.\tEvent[3]::WatchDogCommError[error: uint32]\u001b[0m\n\u001b[34m\n\t\t\t4.\tEvent[4]::AdcThermistorError[]\u001b[0m\n\u001b[34m\n\t\t\t5.\tEvent[5]::WatchDogIncorrectResetValue[]\u001b[0m\n\u001b[1m\u001b[40m\u001b[35m\n\tModule[2304]::GroundInterface\u001b[0m\n\u001b[47m\u001b[30m\n\t\tCommands:\u001b[0m\n\u001b[32m\n\t\t\t0.\tCommand[0]::GroundInterface_SetPrimaryInterface[primary_interface: enum/*int32*/]\u001b[0m\n\u001b[36m\n\t\t\t\t\tAvailable values for `primary_interface`:\u001b[0m\n\u001b[35m\n\t\t\t\t\t\t'WATCHDOG' or 0 or 0x0\u001b[0m\n\u001b[35m\n\t\t\t\t\t\t'WF_121' or 1 or 0x1\u001b[0m\n\u001b[32m\n\t\t\t1.\tCommand[1]::GroundInterface_SetGroundInterfaceTelemetryLevel[telemetry_level: enum/*int32*/]\u001b[0m\n\u001b[36m\n\t\t\t\t\tAvailable values for `telemetry_level`:\u001b[0m\n\u001b[35m\n\t\t\t\t\t\t'CRITICAL' or 0 or 0x0\u001b[0m\n\u001b[35m\n\t\t\t\t\t\t'IMPORTANT' or 1 or 0x1\u001b[0m\n\u001b[35m\n\t\t\t\t\t\t'ALL' or 2 or 0x2\u001b[0m\n\u001b[47m\u001b[30m\n\t\tTelemetry:\u001b[0m\n\u001b[31m\n\t\t\t0.\tChannel[0]::GiUplinkSeqNum: uint8\u001b[0m\n\u001b[31m\n\t\t\t1.\tChannel[1]::GiDownlinkSeqNum: uint8\u001b[0m\n\u001b[31m\n\t\t\t2.\tChannel[2]::GiPacketsReceived: uint32\u001b[0m\n\u001b[31m\n\t\t\t3.\tChannel[3]::GiPacketsTransmitted: uint32\u001b[0m\n\u001b[31m\n\t\t\t4.\tChannel[4]::GiTlmItemsReceived: uint32\u001b[0m\n\u001b[31m\n\t\t\t5.\tChannel[5]::GiTlmItemsDownlinked: uint32\u001b[0m\n\u001b[31m\n\t\t\t6.\tChannel[6]::GiLogsReceived: uint32\u001b[0m\n\u001b[31m\n\t\t\t7.\tChannel[7]::GiLogsDownlinked: uint32\u001b[0m\n\u001b[31m\n\t\t\t8.\tChannel[8]::GiCmdsUplinked: uint32\u001b[0m\n\u001b[31m\n\t\t\t9.\tChannel[9]::GiCmdsSent: uint32\u001b[0m\n\u001b[31m\n\t\t\t10.\tChannel[10]::GiUplinkPktErrs: uint32\u001b[0m\n\u001b[31m\n\t\t\t11.\tChannel[11]::GiAppBytesReceived: uint32\u001b[0m\n\u001b[31m\n\t\t\t12.\tChannel[12]::GiAppBytesDownlinked: uint32\u001b[0m\n\u001b[47m\u001b[30m\n\t\tEvents:\u001b[0m\n\u001b[34m\n\t\t\t0.\tEvent[0]::GiUplinkedPacketError[error_type: enum/*int32*/, expected: uint16, got: uint16]\u001b[0m\n\u001b[34m\n\t\t\t1.\tEvent[1]::GiCommandReceived[seq: uint8, checksum: uint16]\u001b[0m\n\u001b[34m\n\t\t\t2.\tEvent[2]::GiDownlinkedPacket[seq: uint8, checksum: uint16, length: uint16]\u001b[0m\n\u001b[34m\n\t\t\t3.\tEvent[3]::GiDownlinkedItem[seq: uint8, from: enum/*int32*/]\u001b[0m\n\u001b[1m\u001b[40m\u001b[35m\n\tModule[2560]::NetworkManager\u001b[0m\n\u001b[47m\u001b[30m\n\t\tCommands:\u001b[0m\n\u001b[47m\u001b[30m\n\t\tTelemetry:\u001b[0m\n\u001b[31m\n\t\t\t0.\tChannel[0]::Rssi: int8\u001b[0m\n\u001b[31m\n\t\t\t1.\tChannel[1]::Snr: int8\u001b[0m\n\u001b[31m\n\t\t\t2.\tChannel[2]::PktRecv: uint32\u001b[0m\n\u001b[31m\n\t\t\t3.\tChannel[3]::PktSent: uint32\u001b[0m\n\u001b[47m\u001b[30m\n\t\tEvents:\u001b[0m\n\u001b[34m\n\t\t\t0.\tEvent[0]::StateChange[from_state: enum/*int32*/, to_state: enum/*int32*/]\u001b[0m\n\u001b[34m\n\t\t\t1.\tEvent[1]::ExecuteCallbackError[error_code: uint16]\u001b[0m\n\u001b[34m\n\t\t\t2.\tEvent[2]::Wf121InitializationFailed[]\u001b[0m\n\u001b[1m\u001b[40m\u001b[35m\n\tModule[3840]::Imu\u001b[0m\n\u001b[47m\u001b[30m\n\t\tCommands:\u001b[0m\n\u001b[32m\n\t\t\t0.\tCommand[0]::Imu_ImuReportData[]\u001b[0m\n\u001b[32m\n\t\t\t1.\tCommand[1]::Imu_ImuTurnOn[]\u001b[0m\n\u001b[32m\n\t\t\t2.\tCommand[2]::Imu_ImuTurnOff[]\u001b[0m\n\u001b[47m\u001b[30m\n\t\tTelemetry:\u001b[0m\n\u001b[31m\n\t\t\t0.\tChannel[0]::XAcc: int16\u001b[0m\n\u001b[31m\n\t\t\t1.\tChannel[1]::YAcc: int16\u001b[0m\n\u001b[31m\n\t\t\t2.\tChannel[2]::ZAcc: int16\u001b[0m\n\u001b[31m\n\t\t\t3.\tChannel[3]::XAng: uint16\u001b[0m\n\u001b[31m\n\t\t\t4.\tChannel[4]::YAng: uint16\u001b[0m\n\u001b[31m\n\t\t\t5.\tChannel[5]::ZAng: uint16\u001b[0m\n\u001b[47m\u001b[30m\n\t\tEvents:\u001b[0m\n\u001b[34m\n\t\t\t0.\tEvent[0]::ImuAngleWarning[]\u001b[0m\n\u001b[34m\n\t\t\t1.\tEvent[1]::ImuCommunicationFailure[]\u001b[0m\n\u001b[34m\n\t\t\t2.\tEvent[2]::ImuPoweredOn[]\u001b[0m\n\u001b[34m\n\t\t\t3.\tEvent[3]::ImuPoweredOff[]\u001b[0m\n\u001b[1m\u001b[40m\u001b[35m\n\tModule[3584]::MotorControl\u001b[0m\n\u001b[47m\u001b[30m\n\t\tCommands:\u001b[0m\n\u001b[32m\n\t\t\t0.\tCommand[0]::MotorControl_McCurrentPid[motor_id: uint8, pi_values: uint32]\u001b[0m\n\u001b[32m\n\t\t\t1.\tCommand[1]::MotorControl_McSpeedPid[motor_id: uint8, pid_values: uint32]\u001b[0m\n\u001b[32m\n\t\t\t2.\tCommand[3]::MotorControl_McAcceleration[motor_id: uint8, rate_values: uint32]\u001b[0m\n\u001b[32m\n\t\t\t3.\tCommand[4]::MotorControl_McStallDetection[motor_id: uint8, value: uint8]\u001b[0m\n\u001b[32m\n\t\t\t4.\tCommand[5]::MotorControl_McResetPosition[motor_id: uint8]\u001b[0m\n\u001b[32m\n\t\t\t5.\tCommand[6]::MotorControl_McSpin[motor_id: uint8, raw_ticks: uint32]\u001b[0m\n\u001b[32m\n\t\t\t6.\tCommand[7]::MotorControl_McPowerBoost[motor_id: uint8, value: uint8]\u001b[0m\n\u001b[32m\n\t\t\t7.\tCommand[8]::MotorControl_McSetParameter[param_select: enum/*int32*/, new_value: uint32]\u001b[0m\n\u001b[36m\n\t\t\t\t\tAvailable values for `param_select`:\u001b[0m\n\u001b[35m\n\t\t\t\t\t\t'MC_PARAM_1' or 0 or 0x0\u001b[0m\n\u001b[35m\n\t\t\t\t\t\t'MC_PARAM_2' or 1 or 0x1\u001b[0m\n\u001b[32m\n\t\t\t8.\tCommand[16]::MotorControl_McUpdateTelemetry[]\u001b[0m\n\u001b[47m\u001b[30m\n\t\tTelemetry:\u001b[0m\n\u001b[31m\n\t\t\t0.\tChannel[0]::McflEncoderTicks: int32\u001b[0m\n\u001b[31m\n\t\t\t1.\tChannel[1]::McflCurrent: uint16\u001b[0m\n\u001b[31m\n\t\t\t2.\tChannel[3]::McfrEncoderTicks: int32\u001b[0m\n\u001b[31m\n\t\t\t3.\tChannel[4]::McfrCurrent: uint16\u001b[0m\n\u001b[31m\n\t\t\t4.\tChannel[6]::McrrEncoderTicks: int32\u001b[0m\n\u001b[31m\n\t\t\t5.\tChannel[7]::McrrCurrent: uint16\u001b[0m\n\u001b[31m\n\t\t\t6.\tChannel[9]::McrlEncoderTicks: int32\u001b[0m\n\u001b[31m\n\t\t\t7.\tChannel[10]::McrlCurrent: uint16\u001b[0m\n\u001b[31m\n\t\t\t8.\tChannel[11]::McflStatus: uint8\u001b[0m\n\u001b[31m\n\t\t\t9.\tChannel[12]::McfrStatus: uint8\u001b[0m\n\u001b[31m\n\t\t\t10.\tChannel[13]::McrrStatus: uint8\u001b[0m\n\u001b[31m\n\t\t\t11.\tChannel[14]::McrlStatus: uint8\u001b[0m\n\u001b[47m\u001b[30m\n\t\tEvents:\u001b[0m\n\u001b[34m\n\t\t\t0.\tEvent[0]::McMoveStarted[]\u001b[0m\n\u001b[34m\n\t\t\t1.\tEvent[1]::McMoveComplete[]\u001b[0m\n\u001b[34m\n\t\t\t2.\tEvent[2]::McmspFaultDetected[]\u001b[0m\n\u001b[34m\n\t\t\t3.\tEvent[3]::McmspNotResponding[]\u001b[0m\n\u001b[34m\n\t\t\t4.\tEvent[4]::McmspNotReporting[]\u001b[0m\n\u001b[34m\n\t\t\t5.\tEvent[5]::McParameterChanged[]\u001b[0m\n\u001b[34m\n\t\t\t6.\tEvent[6]::McEncoderReset[]\u001b[0m\n\u001b[1m\u001b[40m\u001b[35m\n\tModule[3328]::Navigation\u001b[0m\n\u001b[47m\u001b[30m\n\t\tCommands:\u001b[0m\n\u001b[32m\n\t\t\t0.\tCommand[0]::Navigation_NavDriveForward[distance: uint8, speed: uint8, callback_id: uint16]\u001b[0m\n\u001b[32m\n\t\t\t1.\tCommand[1]::Navigation_NavDriveBackwards[distance: uint8, speed: uint8, callback_id: uint16]\u001b[0m\n\u001b[32m\n\t\t\t2.\tCommand[2]::Navigation_NavRotateRight[distance: uint8, speed: uint8, callback_id: uint16]\u001b[0m\n\u001b[32m\n\t\t\t3.\tCommand[3]::Navigation_NavRotateLeft[distance: uint8, speed: uint8, callback_id: uint16]\u001b[0m\n\u001b[32m\n\t\t\t4.\tCommand[4]::Navigation_NavStopMovement[]\u001b[0m\n\u001b[47m\u001b[30m\n\t\tTelemetry:\u001b[0m\n\u001b[31m\n\t\t\t0.\tChannel[0]::NavMovedForward: uint16\u001b[0m\n\u001b[31m\n\t\t\t1.\tChannel[1]::NavMovedBackward: uint16\u001b[0m\n\u001b[31m\n\t\t\t2.\tChannel[2]::NavTurnedLeft: uint16\u001b[0m\n\u001b[31m\n\t\t\t3.\tChannel[3]::NavTurnedRight: uint16\u001b[0m\n\u001b[31m\n\t\t\t4.\tChannel[4]::NavImageSize: uint16\u001b[0m\n\u001b[47m\u001b[30m\n\t\tEvents:\u001b[0m\n\u001b[34m\n\t\t\t0.\tEvent[0]::NavMoveInterrupted[]\u001b[0m\n\u001b[34m\n\t\t\t1.\tEvent[1]::NavMoveQueueLimit[]\u001b[0m\n\u001b[1m\u001b[40m\u001b[35m\n\tModule[4352]::Camera\u001b[0m\n\u001b[47m\u001b[30m\n\t\tCommands:\u001b[0m\n\u001b[32m\n\t\t\t0.\tCommand[0]::Camera_GetStatus[]\u001b[0m\n\u001b[32m\n\t\t\t1.\tCommand[1]::Camera_TakeImage[camera_num: uint8, callback_id: uint16]\u001b[0m\n\u001b[32m\n\t\t\t2.\tCommand[2]::Camera_Error[action: uint8]\u001b[0m\n\u001b[32m\n\t\t\t3.\tCommand[3]::Camera_ConfigureCamera0[config: uint64]\u001b[0m\n\u001b[32m\n\t\t\t4.\tCommand[4]::Camera_Camera0Crop[config: uint64]\u001b[0m\n\u001b[32m\n\t\t\t5.\tCommand[5]::Camera_ConfigureCamera1[config: uint64]\u001b[0m\n\u001b[32m\n\t\t\t6.\tCommand[6]::Camera_Camera1Crop[config: uint64]\u001b[0m\n\u001b[32m\n\t\t\t7.\tCommand[7]::Camera_ReadImage[callback_id: uint16]\u001b[0m\n\u001b[32m\n\t\t\t8.\tCommand[8]::Camera_EraseImage[]\u001b[0m\n\u001b[32m\n\t\t\t9.\tCommand[9]::Camera_SoftCameraReset[camera_num: uint8]\u001b[0m\n\u001b[32m\n\t\t\t10.\tCommand[10]::Camera_ImageDump[]\u001b[0m\n\u001b[47m\u001b[30m\n\t\tTelemetry:\u001b[0m\n\u001b[31m\n\t\t\t0.\tChannel[0]::CamComponentImagesRequested: uint32\u001b[0m\n\u001b[31m\n\t\t\t1.\tChannel[1]::CamCommandImagesRequested: uint32\u001b[0m\n\u001b[31m\n\t\t\t2.\tChannel[2]::CamImagesSent: uint32\u001b[0m\n\u001b[31m\n\t\t\t3.\tChannel[3]::CamBytesSent: uint32\u001b[0m\n\u001b[31m\n\t\t\t4.\tChannel[4]::CamLatestCallbackId: uint16\u001b[0m\n\u001b[47m\u001b[30m\n\t\tEvents:\u001b[0m\n\u001b[1m\u001b[40m\u001b[35m\n\tModule[65280]::WatchdogHeartbeatTvac\u001b[0m\n\u001b[47m\u001b[30m\n\t\tCommands:\u001b[0m\n\u001b[47m\u001b[30m\n\t\tTelemetry:\u001b[0m\n\u001b[31m\n\t\t\t0.\tChannel[0]::AdcTempRaw: uint16\u001b[0m\n\u001b[31m\n\t\t\t1.\tChannel[1]::AdcTempKelvin: double\u001b[0m\n\u001b[31m\n\t\t\t2.\tChannel[16]::ChargeRaw: uint16\u001b[0m\n\u001b[31m\n\t\t\t3.\tChannel[17]::ChargeMah: double\u001b[0m\n\u001b[31m\n\t\t\t4.\tChannel[32]::VoltageRaw: uint16\u001b[0m\n\u001b[31m\n\t\t\t5.\tChannel[33]::Voltage: double\u001b[0m\n\u001b[31m\n\t\t\t6.\tChannel[48]::CurrentRaw: uint16\u001b[0m\n\u001b[31m\n\t\t\t7.\tChannel[49]::CurrentAmps: double\u001b[0m\n\u001b[31m\n\t\t\t8.\tChannel[64]::FuelTempRaw: uint16\u001b[0m\n\u001b[31m\n\t\t\t9.\tChannel[65]::FuelTempKelvin: double\u001b[0m\n\u001b[31m\n\t\t\t10.\tChannel[80]::KpHeater: uint16\u001b[0m\n\u001b[31m\n\t\t\t11.\tChannel[81]::HeaterSetpoint: uint16\u001b[0m\n\u001b[31m\n\t\t\t12.\tChannel[82]::HeaterSetpointKelvin: uint16\u001b[0m\n\u001b[31m\n\t\t\t13.\tChannel[83]::HeaterWindow: uint16\u001b[0m\n\u001b[31m\n\t\t\t14.\tChannel[84]::HeaterWindowKelvin: uint16\u001b[0m\n\u001b[31m\n\t\t\t15.\tChannel[85]::HeaterPwmLimit: uint16\u001b[0m\n\u001b[31m\n\t\t\t16.\tChannel[86]::WatchdogMode: enum/*int32*/\u001b[0m\n\u001b[31m\n\t\t\t17.\tChannel[87]::HeaterStatus: uint8\u001b[0m\n\u001b[31m\n\t\t\t18.\tChannel[88]::HeatingControlEnabled: uint8\u001b[0m\n\u001b[31m\n\t\t\t19.\tChannel[89]::HeaterPwmDutyCycle: uint16\u001b[0m\n\u001b[47m\u001b[30m\n\t\tEvents:\u001b[0m\n\n]\n"
     ]
    }
   ],
   "source": [
    "DsLogger.setLevel('CRITICAL')\n",
    "standards = DataStandards.build_standards()\n",
    "add_to_standards(standards, watchdog_heartbeat_tvac)\n",
    "standards.print_overview()"
   ]
  },
  {
   "cell_type": "code",
   "execution_count": 6,
   "metadata": {},
   "outputs": [
    {
     "output_type": "stream",
     "name": "stdout",
     "text": [
      "01 09 00 00 55 da ba 00 01 11 01 05 00\n0109000055daba000111010500\n"
     ]
    }
   ],
   "source": [
    "from IrisBackendv3.codec.fsw_data_codec import encode\n",
    "bo = '<'\n",
    "seq_num = 0x00\n",
    "def pack(name_m: str, name_c: str, data: bytes) -> bytes:\n",
    "    global seq_num\n",
    "    module = standards.modules[name_m]\n",
    "    cmd = module.commands[name_m+'_'+name_c]\n",
    "\n",
    "    magic = Magic.COMMAND\n",
    "    magic_bytes = magic.encode(byte_order=bo)\n",
    "    opcode = struct.pack(bo+'H', module.ID | cmd.ID)\n",
    "\n",
    "    seq_num = seq_num + 1\n",
    "    vlp_len = MAGIC_SIZE + 2 + len(data)\n",
    "    chk = 0x00\n",
    "    CPH = struct.pack(bo+'B H B', seq_num, vlp_len, chk)\n",
    "\n",
    "    out = CPH + magic_bytes + opcode + data\n",
    "    return out\n",
    "    \n",
    "data = struct.pack(bo+'B H', 0x01, 0x0005) # 77 for modes, 60 for prep/deploy\n",
    "packet = pack('Camera', 'TakeImage', data) \n",
    "printraw(packet)\n",
    "print(packet.hex())"
   ]
  },
  {
   "cell_type": "code",
   "execution_count": 7,
   "metadata": {},
   "outputs": [
    {
     "output_type": "execute_result",
     "data": {
      "text/plain": [
       "[256,\n",
       " 512,\n",
       " 768,\n",
       " 1024,\n",
       " 1280,\n",
       " 1536,\n",
       " 1792,\n",
       " 2048,\n",
       " 2304,\n",
       " 2560,\n",
       " 2816,\n",
       " 3328,\n",
       " 3584,\n",
       " 3840,\n",
       " 4096,\n",
       " 4352,\n",
       " 65280]"
      ]
     },
     "metadata": {},
     "execution_count": 7
    }
   ],
   "source": [
    "standards.modules['WatchDogInterface'].commands.vals\n",
    "sorted([m.ID for m in standards.modules.vals])"
   ]
  },
  {
   "cell_type": "code",
   "execution_count": 8,
   "metadata": {},
   "outputs": [
    {
     "output_type": "stream",
     "name": "stdout",
     "text": [
      "45 00 00 28 00 01 00 00 40 11 5e 26 de ad be ef 7f 00 00 01 00 35 1f 90 00 14 11 86 00 08 00 00 ee ff 00 c0 da 10 e8 03\n45 00 00 28 00 01 00 00 40 11 5e 26 de ad be ef 7f 00 00 01 00 35 1f 90 00 14 11 86 00 08 00 00 ee ff 00 c0 da 10 e8 03\n"
     ]
    },
    {
     "output_type": "execute_result",
     "data": {
      "text/plain": [
       "40"
      ]
     },
     "metadata": {},
     "execution_count": 8
    }
   ],
   "source": [
    "from IrisBackendv3.codec.payload import Payload, CommandPayload, WatchdogCommandPayload\n",
    "from IrisBackendv3.codec.metadata import DataPathway, DataSource\n",
    "from IrisBackendv3.codec.magic import Magic\n",
    "from IrisBackendv3.codec.settings import ENDIANNESS_CODE, set_codec_standards\n",
    "\n",
    "import struct\n",
    "\n",
    "set_codec_standards(standards)\n",
    "\n",
    "def pack_watchdog(command_name: str, **kwargs) -> bytes:\n",
    "    module, command = standards.global_command_lookup(command_name)\n",
    "    payload = WatchdogCommandPayload(\n",
    "        pathway = DataPathway.WIRED,\n",
    "        source = DataSource.GENERATED,\n",
    "        magic = Magic.WATCHDOG_COMMAND,\n",
    "        module_id = module.ID,\n",
    "        command_id = command.ID,\n",
    "        args = kwargs\n",
    "    )\n",
    "    return payload.encode()\n",
    "packet = Magic.WATCHDOG_COMMAND.encode() + pack_watchdog('WatchDogInterface_SetVSetpoint', setpoint=1000) # camera_num=0x01, callback_id = 0x05)\n",
    "\n",
    "vlp_len = len(packet)\n",
    "checksum = 0 # ignore for now TODO: impl. me\n",
    "seq_num = 0 # watchdog doesn't care\n",
    "CPH = struct.pack(ENDIANNESS_CODE + 'B H B', seq_num, vlp_len, checksum)\n",
    "packet = CPH + packet\n",
    "\n",
    "import scapy.all as scp\n",
    "full_packet = scp.IP(dst='127.0.0.1', src='222.173.190.239')/scp.UDP(dport=8080)/scp.Raw(load=packet)\n",
    "printraw(scp.raw(scp.IP(scp.raw(full_packet))))\n",
    "printraw(scp.raw(full_packet))\n",
    "scp.raw(full_packet)\n",
    "len(full_packet)\n"
   ]
  },
  {
   "cell_type": "code",
   "execution_count": 10,
   "metadata": {},
   "outputs": [],
   "source": [
    "# Data Transport:\n",
    "file = './test-data/Iris_FSWv1.0.0_210409_Telemetry.pcapng' # PCAP logs\n",
    "protocol = scp.UDP # Protocol FSW is using to send data\n",
    "port = 8080 # Port on the spacecraft FSW is sending data to\n",
    "\n",
    "# Data Formatting Settings:\n",
    "packetgap = 0 # number of packets to ignore at beginning of pcap\n",
    "deadspace = 0 # number of bytes of deadspace at the beginning of the\n",
    "endianness_code = \"<\" # < = little, > = big, ! = network\n",
    "\n",
    "# Image Formatting Settings:\n",
    "image_settings = {\n",
    "    \"width\": 2592,\n",
    "    \"height\": 1944\n",
    "}"
   ]
  },
  {
   "source": [
    "## Decode First Packet\n",
    "### Grab Packet"
   ],
   "cell_type": "markdown",
   "metadata": {}
  },
  {
   "cell_type": "code",
   "execution_count": 11,
   "metadata": {},
   "outputs": [],
   "source": [
    "pcap = scp.rdpcap(file)"
   ]
  },
  {
   "cell_type": "code",
   "execution_count": 12,
   "metadata": {},
   "outputs": [],
   "source": [
    "packets = list(filter(lambda x: x.dport == port, pcap[protocol][packetgap:]))\n",
    "i = 0"
   ]
  },
  {
   "cell_type": "code",
   "execution_count": 13,
   "metadata": {},
   "outputs": [],
   "source": [
    "packet = packets[i]"
   ]
  },
  {
   "cell_type": "code",
   "execution_count": 14,
   "metadata": {},
   "outputs": [
    {
     "output_type": "stream",
     "name": "stdout",
     "text": [
      "00 cc 03 90 ff 10 00 c0 00 0f 00 00 00 00 04 00 ff 10 00 c0 01 0f 00 00 00 00 fd ff ff 10 00 c0 02 0f 00 00 00 00 9f 00 ff 10 00 c0 03 0f 00 00 00 00 43 00 ff 10 00 c0 04 0f 00 00 00 00 2e 00 ff 10 00 c0 05 0f 00 00 00 00 d3 ff ff 10 00 c0 00 05 00 00 00 00 00 00 00 00 ff 10 00 c0 00 04 02 00 00 00 d0 07 00 00 ff 10 00 c0 00 03 23 00 00 00 b8 88 00 00 ff 10 00 c0 00 0f f2 00 00 00 09 00 ff 10 00 c0 01 0f f2 00 00 00 fd ff ff 10 00 c0 02 0f f2 00 00 00 a0 00 ff 10 00 c0 03 0f f2 00 00 00 3b 00 ff 10 00 c0 04 0f f2 00 00 00 1d 00 ff 10 00 c0 05 0f f2 00 00 00 de ff ff 10 00 c0 00 05 24 00 00 00 e8 03 00 00 ff 10 00 c0 00 0f e5 01 00 00 04 00 ff 10 00 c0 01 0f e5 01 00 00 fd ff ff 10 00 c0 02 0f e5 01 00 00 9c 00 ff 10 00 c0 03 0f e5 01 00 00 3a 00 ff 10 00 c0 04 0f e5 01 00 00 2f 00 ff 10 00 c0 05 0f e5 01 00 00 e4 ff ff 10 00 c0 00 03 16 01 00 00 a0 8c 00 00 ff 10 00 c0 00 0f d7 02 00 00 05 00 ff 10 00 c0 01 0f d7 02 00 00 fe ff ff 10 00 c0 02 0f d7 02 00 00 a0 00 ff 10 00 c0 03 0f d7 02 00 00 43 00 ff 10 00 c0 04 0f d7 02 00 00 31 00 ff 10 00 c0 05 0f d7 02 00 00 ce ff ff 10 00 c0 00 0f ca 03 00 00 04 00 ff 10 00 c0 01 0f ca 03 00 00 ff ff ff 10 00 c0 02 0f ca 03 00 00 a1 00 ff 10 00 c0 03 0f ca 03 00 00 3e 00 ff 10 00 c0 04 0f ca 03 00 00 2c 00 ff 10 00 c0 05 0f ca 03 00 00 e6 ff ff 10 00 c0 00 0f a4 08 00 00 03 00 ff 10 00 c0 01 0f a4 08 00 00 00 00 ff 10 00 c0 02 0f a4 08 00 00 9e 00 ff 10 00 c0 03 0f a4 08 00 00 44 00 ff 10 00 c0 04 0f a4 08 00 00 47 00 ff 10 00 c0 05 0f a4 08 00 00 d3 ff ff 10 00 c0 00 04 7d 08 00 00 b8 0b 00 00 ff 10 00 c0 00 0f 97 09 00 00 03 00 ff 10 00 c0 01 0f 97 09 00 00 ff ff ff 10 00 c0 02 0f 97 09 00 00 9f 00 ff 10 00 c0 03 0f 97 09 00 00 3e 00 ff 10 00 c0 04 0f 97 09 00 00 29 00 ff 10 00 c0 05 0f 97 09 00 00 c9 ff ff 10 00 c0 00 0f 89 0a 00 00 03 00 ff 10 00 c0 01 0f 89 0a 00 00 ff ff ff 10 00 c0 02 0f 89 0a 00 00 9d 00 ff 10 00 c0 03 0f 89 0a 00 00 3d 00 ff 10 00 c0 04 0f 89 0a 00 00 4d 00 ff 10 00 c0 05 0f 89 0a 00 00 e4 ff ff 10 00 c0 00 0f 7c 0b 00 00 03 00 ff 10 00 c0 01 0f 7c 0b 00 00 ff ff ff 10 00 c0 02 0f 7c 0b 00 00 9c 00 ff 10 00 c0 03 0f 7c 0b 00 00 34 00 ff 10 00 c0 04 0f 7c 0b 00 00 1e 00 ff 10 00 c0 05 0f 7c 0b 00 00 e2 ff ff 10 00 c0 00 0f 56 10 00 00 03 00 ff 10 00 c0 01 0f 56 10 00 00 00 00 ff 10 00 c0 02 0f 56 10 00 00 9c 00 ff 10 00 c0 03 0f 56 10 00 00 46 00 ff 10 00 c0 04 0f 56 10 00 00 32 00 ff 10 00 c0 05 0f 56 10 00 00 d2 ff ff 10 00 c0 00 0f 49 11 00 00 03 00 ff 10 00 c0 01 0f 49 11 00 00 01 00 ff 10 00 c0 02 0f 49 11 00 00 a0 00 ff 10 00 c0 03 0f 49 11 00 00 3f 00 ff 10 00 c0 04 0f 49 11 00 00 26 00 ff 10 00 c0 05 0f 49 11 00 00 ca ff ff 10 00 c0 00 0f 3b 12 00 00 04 00 ff 10 00 c0 01 0f 3b 12 00 00 ff ff ff 10 00 c0 02 0f 3b 12 00 00 a0 00 ff 10 00 c0 03 0f 3b 12 00 00 40 00 ff 10 00 c0 04 0f 3b 12 00 00 33 00 ff 10 00 c0 05 0f 3b 12 00 00 e0 ff ff 10 00 c0 00 0f 2e 13 00 00 02 00 ff 10 00 c0 01 0f 2e 13 00 00 ff ff\n"
     ]
    }
   ],
   "source": [
    "content = scp.raw(packet.getlayer(scp.Raw))[deadspace:]\n",
    "printraw(content)\n",
    "packet_bytes = content\n",
    "# packet_bytes"
   ]
  },
  {
   "source": [
    "### Decode Common Packet Header"
   ],
   "cell_type": "markdown",
   "metadata": {}
  },
  {
   "cell_type": "code",
   "execution_count": 15,
   "metadata": {},
   "outputs": [
    {
     "output_type": "stream",
     "name": "stdout",
     "text": [
      "00 cc 03 90\n0 972 b'\\x90'\n"
     ]
    }
   ],
   "source": [
    "CPH_SIZE = 4\n",
    "CPH = packet_bytes[:CPH_SIZE]\n",
    "printraw(CPH)\n",
    "cph_head, checksum = CPH[:-1], CPH[-1:]\n",
    "seq_num, vlp_len = struct.unpack(endianness_code+' B H', cph_head)\n",
    "print(seq_num, vlp_len, checksum)\n",
    "#! TODO: Perform checksum check. (not impl. in FSW atm)\n",
    "assert vlp_len == len(packet_bytes) - CPH_SIZE"
   ]
  },
  {
   "source": [
    "### Decode Variable Length Payload"
   ],
   "cell_type": "markdown",
   "metadata": {}
  },
  {
   "source": [
    "from IrisBackendv3.codec.payload import extract_downlinked_payloads\n",
    "from IrisBackendv3.codec.metadata import DataPathway, DataSource\n",
    "from IrisBackendv3.codec.magic import Magic\n",
    "\n",
    "# Extract the Variable Length Payload\n",
    "VLP = packet_bytes[CPH_SIZE:]\n",
    "# printraw(VLP)\n",
    "\n",
    "\n",
    "# Parse VLP:\n",
    "payloads = extract_downlinked_payloads(\n",
    "    VLP = VLP,\n",
    "    pathway = DataPathway.WIRELESS,\n",
    "    source = DataSource.PCAP\n",
    ")"
   ],
   "cell_type": "code",
   "metadata": {
    "tags": []
   },
   "execution_count": 16,
   "outputs": []
  },
  {
   "cell_type": "code",
   "execution_count": 17,
   "metadata": {},
   "outputs": [
    {
     "output_type": "execute_result",
     "data": {
      "text/plain": [
       "[Module[256]::BlockDriver,\n",
       " Module[512]::RateGroupDriver,\n",
       " Module[768]::ActiveRateGroup-RateGroupLowFreq,\n",
       " Module[1024]::ActiveRateGroup-RateGroupMedFreq,\n",
       " Module[1280]::ActiveRateGroup-RateGroupHiFreq,\n",
       " Module[1536]::CubeRoverTime,\n",
       " Module[1792]::TlmChan,\n",
       " Module[2048]::CommandDispatcher,\n",
       " Module[2304]::GroundInterface,\n",
       " Module[2560]::NetworkManager,\n",
       " Module[2816]::ActiveLogger,\n",
       " Module[3328]::Navigation,\n",
       " Module[3584]::MotorControl,\n",
       " Module[3840]::Imu,\n",
       " Module[4096]::WatchDogInterface,\n",
       " Module[4352]::Camera,\n",
       " Module[65280]::WatchdogHeartbeatTvac]"
      ]
     },
     "metadata": {},
     "execution_count": 17
    }
   ],
   "source": [
    "sorted(standards.modules.vals, key = lambda m: m.ID)"
   ]
  },
  {
   "cell_type": "code",
   "execution_count": 18,
   "metadata": {},
   "outputs": [
    {
     "output_type": "error",
     "ename": "SyntaxError",
     "evalue": "invalid syntax (<ipython-input-18-1472e03e6c7f>, line 14)",
     "traceback": [
      "\u001b[0;36m  File \u001b[0;32m\"<ipython-input-18-1472e03e6c7f>\"\u001b[0;36m, line \u001b[0;32m14\u001b[0m\n\u001b[0;31m    logger.\u001b[0m\n\u001b[0m           ^\u001b[0m\n\u001b[0;31mSyntaxError\u001b[0m\u001b[0;31m:\u001b[0m invalid syntax\n"
     ]
    }
   ],
   "source": [
    "if magic == Magic.TELEMETRY:\n",
    "    # Grab Telemetry Header:\n",
    "    module_id, channel_id, data_size, VLP = VLP[:1], VLP[1:2], VLP[2:4], VLP[4:]\n",
    "    print(module_id, channel_id, data_size)\n",
    "    # Unpack + Format Telemetry Header:\n",
    "    module_id = struct.unpack(endianness_code+'B', module_id)[0] << 8\n",
    "    channel_id = struct.unpack(endianness_code+'B', channel_id)[0]\n",
    "    #! TODO: Not impl. in fsw. Once is, perform check against expected size.\n",
    "    # ... Rn, replace w/expected size\n",
    "    data_size = struct.unpack(endianness_code+'H', data_size)[0]\n",
    "    try:\n",
    "        module = standards.modules[module_id]\n",
    "    except KeyError:\n",
    "        logger.\n",
    "    exp_data_size = standards.modules[module_id] \n",
    "\n",
    "    print(hex(module_id), hex(channel_id), data_size)\n",
    "    # data, timestamp, VLP = VLP[:data_size], VLP[data_size:data_size+4], VLP[data_size+4:]"
   ]
  },
  {
   "cell_type": "code",
   "execution_count": 82,
   "metadata": {},
   "outputs": [
    {
     "output_type": "execute_result",
     "data": {
      "text/plain": [
       "[((['XAcc'], 0), Channel[0]::XAcc: int16), ((['YAcc'], 1), Channel[1]::YAcc: int16), ((['ZAcc'], 2), Channel[2]::ZAcc: int16), ((['XAng'], 3), Channel[3]::XAng: uint16), ((['YAng'], 4), Channel[4]::YAng: uint16), ((['ZAng'], 5), Channel[5]::ZAng: uint16)]"
      ]
     },
     "metadata": {},
     "execution_count": 82
    }
   ],
   "source": [
    "standards.modules['Imu'].telemetry"
   ]
  },
  {
   "cell_type": "code",
   "execution_count": 81,
   "metadata": {},
   "outputs": [
    {
     "output_type": "execute_result",
     "data": {
      "text/plain": [
       "[<FswDataType.I16: 'int16'>,\n",
       " <FswDataType.I16: 'int16'>,\n",
       " <FswDataType.I16: 'int16'>,\n",
       " <FswDataType.U16: 'uint16'>,\n",
       " <FswDataType.U16: 'uint16'>,\n",
       " <FswDataType.U16: 'uint16'>]"
      ]
     },
     "metadata": {},
     "execution_count": 81
    }
   ],
   "source": [
    "[t.datatype for t in standards.modules['Imu'].telemetry.vals]"
   ]
  },
  {
   "cell_type": "code",
   "execution_count": 9,
   "metadata": {},
   "outputs": [
    {
     "output_type": "stream",
     "name": "stdout",
     "text": [
      "(Apple[5] -> !None, Dead[48879] -> !None)\n--pickle--\nDummy Reduce\nEncoding\nGetting State\nDummy Reduce\nEncoding\nGetting State\n--unpickle--\nDecoding\nSetting State\nDecoding\nSetting State\n(Apple[5] -> !b'\\x00\\x00\\x00\\x05', Dead[48879] -> !b'\\x00\\x00\\xbe\\xef')\n(Apple[5] -> !b'\\x00\\x00\\x00\\x05', Dead[48879] -> !b'\\x00\\x00\\xbe\\xef')\n(True, True)\n"
     ]
    },
    {
     "output_type": "execute_result",
     "data": {
      "text/plain": [
       "['other_thing', '_data']"
      ]
     },
     "metadata": {},
     "execution_count": 9
    }
   ],
   "source": [
    "from __future__ import annotations\n",
    "from typing import Optional, Dict, List\n",
    "import struct\n",
    "import pickle\n",
    "from abc import abstractmethod\n",
    "from enum import Enum\n",
    "\n",
    "class Dummy:\n",
    "    __slots__: List[str] = [\n",
    "        '_raw',\n",
    "        '_endianness_code'\n",
    "    ]\n",
    "\n",
    "    class FileTypeMagic(Enum):\n",
    "        \"\"\"\n",
    "        Enumeration of all file types which could be downlinked.\n",
    "\n",
    "        As usual, for backwards compatibility and data preservation, *never* change \n",
    "        any of the enum values or delete entries, just deprecate old ones.\n",
    "        \"\"\"\n",
    "        IMAGE = 0x01\n",
    "        UWB = 0x0F\n",
    "\n",
    "    FTM: FileTypeMagic = FileTypeMagic.UWB\n",
    "\n",
    "    _raw: Optional[bytes]\n",
    "    _endianness_code: str\n",
    "\n",
    "    def __init__(self,\n",
    "        raw: Optional[bytes] = None,\n",
    "        endianness_code = '!'\n",
    "    ) -> None:\n",
    "        self._raw = raw\n",
    "        self._endianness_code = endianness_code\n",
    "\n",
    "    @abstractmethod\n",
    "    def encode(self) -> bytes:\n",
    "        raise NotImplementedError()\n",
    "\n",
    "    @classmethod\n",
    "    @abstractmethod\n",
    "    def decode(cls, raw: bytes, endianness_code:str) -> Dummy:\n",
    "        raise NotImplementedError()\n",
    "\n",
    "    def __reduce__(self) -> Tuple[Callable, Tuple[bytes, str], Optional[str]]:\n",
    "        print(\"Dummy Reduce\")\n",
    "\n",
    "        if self._raw is None:\n",
    "            self._raw = self.encode()\n",
    "\n",
    "        if hasattr(self, '__getstate__'):\n",
    "            state = self.__getattribute__('__getstate__')()\n",
    "        else:\n",
    "            state = None\n",
    "\n",
    "        # \"Callable object\" returned will be the decoding function:\n",
    "        # If a subclassed object is reduced, it will call that subclass' `decode`\n",
    "        # function (assuming it's been implemented).\n",
    "        return (self.__class__.decode, (self._raw, self._endianness_code), state)\n",
    "\n",
    "class DummerInterface(Dummy):\n",
    "    __slots__: List[str] = [\n",
    "        'other_thing',\n",
    "        '_data'\n",
    "    ]\n",
    "\n",
    "    other_thing: str\n",
    "    _data: int\n",
    "\n",
    "class DummyThicc(DummerInterface):\n",
    "    __slots__: List[str] = []\n",
    "\n",
    "    # FTM2: DummyThicc.FileTypeMagic = DummyThicc.FileTypeMagic.IMAGE\n",
    "\n",
    "    def __init__(self,\n",
    "        data: int,\n",
    "        other_thing: str = \"\",\n",
    "        raw: Optional[bytes] = None,\n",
    "        endianness_code = '!'\n",
    "    ) -> None:\n",
    "        self.other_thing = other_thing\n",
    "        self._data = data\n",
    "        super().__init__(raw, endianness_code)\n",
    "\n",
    "    def encode(self) -> bytes:\n",
    "        print(\"Encoding\")\n",
    "        return struct.pack(self._endianness_code+'L', self._data)\n",
    "\n",
    "    @classmethod\n",
    "    def decode(cls, raw: bytes, endianness_code:str) -> Dummy:\n",
    "        print(\"Decoding\")\n",
    "        return cls(\n",
    "            data = struct.unpack(endianness_code+'L', raw)[0],\n",
    "            raw = raw,\n",
    "            endianness_code = endianness_code\n",
    "        )\n",
    "\n",
    "    def __repr__(self) -> str:\n",
    "        return f\"{self.other_thing}[{self._data}] -> {self._endianness_code}{self._raw}\"\n",
    "\n",
    "    def __eq__(self, other) -> bool:\n",
    "        return self.other_thing == other.other_thing and self._data == other._data\n",
    "\n",
    "    def __getstate__(self) -> str:\n",
    "        print(\"Getting State\")\n",
    "        return self.other_thing\n",
    "\n",
    "    def __setstate__(self, state: str) -> None:\n",
    "        print(\"Setting State\")\n",
    "        self.other_thing = state\n",
    "\n",
    "\n",
    "A = DummyThicc(other_thing='Apple', data=5)\n",
    "B = DummyThicc(other_thing='Dead', data=0xBEEF)\n",
    "print((A, B))\n",
    "\n",
    "print('--pickle--')\n",
    "pA = pickle.dumps(A)\n",
    "pB = pickle.dumps(B)\n",
    "print('--unpickle--')\n",
    "upA = pickle.loads(pA)\n",
    "upB = pickle.loads(pB)\n",
    "\n",
    "print((A, B))\n",
    "print((upA, upB))\n",
    "print((upA==A, upB==B))\n",
    "\n",
    "from typing import NamedTuple\n",
    "\n",
    "class X(NamedTuple):\n",
    "    a: int\n",
    "    b: str\n",
    "\n",
    "x = X(\n",
    "    a = 0,\n",
    "    b = '5'\n",
    ")\n",
    "getattr(x, 'b')\n",
    "# Dummy.FTM == DummyThicc.FileTypeMagic.UWB, DummyThicc.FTM2\n",
    "DummerInterface.__slots__\n"
   ]
  },
  {
   "cell_type": "code",
   "execution_count": 26,
   "metadata": {},
   "outputs": [
    {
     "output_type": "stream",
     "name": "stdout",
     "text": [
      "8\n('CEX', 'SUBCEX')\n((55,), 155, 'mod', 4379173360, 'mod', 4379173360)\n((33, 66), 133, 'mod', 4379173360, 'mod', 4379173360)\n(55, 155, 'x', 4378863536, 'x', 4378863536)\n(33, 133, 'x', 4378863536, 'x', 4378863536)\n(['a'], ['b'])\n"
     ]
    }
   ],
   "source": [
    "from typing import List\n",
    "\n",
    "def cdec(module_name):\n",
    "    def dec_inner(targ_class):\n",
    "        targ_class.MODULE_NAME: str = module_name\n",
    "\n",
    "        @property\n",
    "        def tprop(self):\n",
    "            return self.a + 100\n",
    "        targ_class.tprop = tprop\n",
    "\n",
    "        def inner_init(self, a: int):\n",
    "            self.a = a\n",
    "        targ_class.__init__ = inner_init\n",
    "        \n",
    "        return targ_class\n",
    "    return dec_inner\n",
    "\n",
    "def subcdec(module_name):\n",
    "    def dec_inner(targ_class):\n",
    "        # targ_class = cdec(module_name)(targ_class)\n",
    "\n",
    "        def sub_inner_init(self, b: int):\n",
    "            self.b = b\n",
    "            type(self).mro()[1].__init__(self, a=b//2)\n",
    "        targ_class.__init__ = sub_inner_init\n",
    "        \n",
    "        return targ_class\n",
    "    return dec_inner\n",
    "\n",
    "@cdec('mod')\n",
    "class cex:\n",
    "    __slots__: List[str] = ['a']\n",
    "    TAG: str='CEX'\n",
    "\n",
    "    @classmethod\n",
    "    def get_cls_tag(cls):\n",
    "        return cls.TAG\n",
    "\n",
    "    @staticmethod\n",
    "    def double(x):\n",
    "        return x*2\n",
    "\n",
    "@subcdec('modd')\n",
    "class subcex(cex):\n",
    "    __slots__: List[str] = ['b']\n",
    "    TAG: str='SUBCEX'\n",
    "\n",
    "A = cex(55)\n",
    "B = subcex(66)\n",
    "\n",
    "print((A.get_cls_tag(), B.get_cls_tag()))\n",
    "print(((A.a,), A.tprop, A.MODULE_NAME, id(A.MODULE_NAME), cex.MODULE_NAME, id(cex.MODULE_NAME)))\n",
    "print(((B.a, B.b), B.tprop, B.MODULE_NAME, id(B.MODULE_NAME), cex.MODULE_NAME, id(cex.MODULE_NAME)))\n",
    "cex.MODULE_NAME = 'x'\n",
    "print((A.a, A.tprop, A.MODULE_NAME, id(A.MODULE_NAME), cex.MODULE_NAME, id(cex.MODULE_NAME)))\n",
    "print((B.a, B.tprop, B.MODULE_NAME, id(B.MODULE_NAME), cex.MODULE_NAME, id(cex.MODULE_NAME)))\n",
    "print((A.__slots__,B.__slots__))"
   ]
  }
 ]
}