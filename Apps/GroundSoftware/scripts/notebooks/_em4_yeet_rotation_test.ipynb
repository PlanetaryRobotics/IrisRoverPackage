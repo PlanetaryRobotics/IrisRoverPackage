{
 "cells": [
  {
   "cell_type": "markdown",
   "metadata": {},
   "source": [
    "## EM4 Build Up in MoonYard for NHK Demo (11/29/2023) - Cam 0 Quick Frame"
   ]
  },
  {
   "cell_type": "code",
   "execution_count": 1,
   "metadata": {},
   "outputs": [],
   "source": [
    "from typing import Final\n",
    "# Regexed folder name, doesn't have to be complete, just unique:\n",
    "TEST_FOLDER_NAME: Final = \"Fgid24641__Cam0__Cid0\""
   ]
  },
  {
   "cell_type": "code",
   "execution_count": 2,
   "metadata": {},
   "outputs": [],
   "source": [
    "import matplotlib.pyplot as plt\n",
    "%matplotlib widget"
   ]
  },
  {
   "cell_type": "code",
   "execution_count": 3,
   "metadata": {},
   "outputs": [
    {
     "name": "stderr",
     "output_type": "stream",
     "text": [
      "WARNING: No IPv4 address found on anpi0 !\n",
      "WARNING: No IPv4 address found on anpi1 !\n",
      "WARNING: more No IPv4 address found on anpi2 !\n",
      "2024-01-16 18:38:04: INFO     Successfully Loaded 28 Modules with 77 Commands, 222 Channels, and 92 Events from ./out/DataStandardsCache/IBv3_datastandards_01HM89R90DDTQ4AG37NNJD1P20.dsc .\n",
      "2024-01-16 18:38:04: NOTICE   IRIS Lunar Rover - ImageBuilder - IPC App Started\n"
     ]
    },
    {
     "name": "stdout",
     "output_type": "stream",
     "text": [
      "\u001b]0;ImageBuilder\u0007\n"
     ]
    }
   ],
   "source": [
    "# Load scripting environment:\n",
    "from ipc_apps.image_builder import *"
   ]
  },
  {
   "cell_type": "code",
   "execution_count": 4,
   "metadata": {},
   "outputs": [],
   "source": [
    "# Reload archive Pickle:\n",
    "import glob\n",
    "archive_ext = '.image.pkl'\n",
    "test_folder = f'*{TEST_FOLDER_NAME}*'\n",
    "archive_regex = f'./out/image_builder_out/{test_folder}/*{archive_ext}'\n",
    "image_pickle_file = glob.glob(archive_regex)[0]\n",
    "with open(image_pickle_file, 'rb') as ipf:\n",
    "    reloaded_img: Image = pickle.load(ipf)\n"
   ]
  },
  {
   "cell_type": "code",
   "execution_count": 5,
   "metadata": {},
   "outputs": [
    {
     "data": {
      "text/plain": [
       "'IMG IRIS. Ulid01HM8AWG58E9T8868X7NMWSW4M. Fgid24641. Cam0. Cid0'"
      ]
     },
     "execution_count": 5,
     "metadata": {},
     "output_type": "execute_result"
    }
   ],
   "source": [
    "# Extract notes from folder name:\n",
    "image_pickle_file.split('/')[-2].replace('__', '. ').replace('_', ' ')"
   ]
  },
  {
   "cell_type": "code",
   "execution_count": 6,
   "metadata": {},
   "outputs": [
    {
     "name": "stdout",
     "output_type": "stream",
     "text": [
      "File Group (Image) ID:\t 24641\n",
      "Callback ID:\t 0\n",
      "Camera Number:\t 0\n",
      "Image Valid / Internally Consistent:\t True\n",
      "Image Complete:\t False\n",
      "Total Image Lines:\t 1944\n",
      "Lines Found:\t 731\n",
      "Lines w/ Metadata:\t 11\n",
      "Lines Completed:\t 731\n",
      "Invalid / Internally Inconsistent Lines:\t 0\n",
      "Lines with Corrupted Data:\t 0\n"
     ]
    }
   ],
   "source": [
    "print('\\n'.join(reloaded_img.report()))"
   ]
  },
  {
   "cell_type": "code",
   "execution_count": 8,
   "metadata": {},
   "outputs": [
    {
     "name": "stderr",
     "output_type": "stream",
     "text": [
      "2024-01-16 18:38:30: NOTICE   Saving Raw IMG_IRIS__Ulid01HM8AWG58E9T8868X7NMWSW4M__Fgid24641__Cam0__Cid0 . . .\n",
      "2024-01-16 18:38:30: INFO     \tReport for Image 24641: \n",
      "\t\tFile Group (Image) ID:\t 24641,\n",
      "\t\tCallback ID:\t 0,\n",
      "\t\tCamera Number:\t 0,\n",
      "\t\tImage Valid / Internally Consistent:\t True,\n",
      "\t\tImage Complete:\t False,\n",
      "\t\tTotal Image Lines:\t 1944,\n",
      "\t\tLines Found:\t 731,\n",
      "\t\tLines w/ Metadata:\t 11,\n",
      "\t\tLines Completed:\t 731,\n",
      "\t\tInvalid / Internally Inconsistent Lines:\t 0,\n",
      "\t\tLines with Corrupted Data:\t 0\n",
      "2024-01-16 18:38:30: INFO     Assembling Image . . .\n"
     ]
    },
    {
     "name": "stderr",
     "output_type": "stream",
     "text": [
      "2024-01-16 18:38:30: INFO     Building Integer Image . . .\n",
      "2024-01-16 18:38:30: INFO     Building Raw File . . .\n",
      "2024-01-16 18:38:30: INFO     Building Raw Image . . .\n",
      "2024-01-16 18:38:30: NOTICE   \tSaving file report to ./out/image_builder_out/IMG_IRIS__Ulid01HM8AWG58E9T8868X7NMWSW4M__Fgid24641__Cam0__Cid0/IMG_IRIS__Ulid01HM8AWG58E9T8868X7NMWSW4M__Fgid24641__Cam0__Cid0.report.txt . . .\n",
      "2024-01-16 18:38:30: NOTICE   \tSaving Image pickle to ./out/image_builder_out/IMG_IRIS__Ulid01HM8AWG58E9T8868X7NMWSW4M__Fgid24641__Cam0__Cid0/IMG_IRIS__Ulid01HM8AWG58E9T8868X7NMWSW4M__Fgid24641__Cam0__Cid0.image.pkl . . .\n",
      "2024-01-16 18:38:30: NOTICE   \tSaving raw file to ./out/image_builder_out/IMG_IRIS__Ulid01HM8AWG58E9T8868X7NMWSW4M__Fgid24641__Cam0__Cid0/IMG_IRIS__Ulid01HM8AWG58E9T8868X7NMWSW4M__Fgid24641__Cam0__Cid0.raw . . .\n",
      "2024-01-16 18:38:30: NOTICE   \tSaving 1944 x 841 raw (greyscale, possibly bayered) image to ./out/image_builder_out/IMG_IRIS__Ulid01HM8AWG58E9T8868X7NMWSW4M__Fgid24641__Cam0__Cid0/IMG_IRIS__Ulid01HM8AWG58E9T8868X7NMWSW4M__Fgid24641__Cam0__Cid0.raw.png . . .\n",
      "2024-01-16 18:38:30: SUCCESS  Saved IMG_IRIS__Ulid01HM8AWG58E9T8868X7NMWSW4M__Fgid24641__Cam0__Cid0.\n",
      "2024-01-16 18:38:30: NOTICE   Processing Image: IMG_IRIS__Ulid01HM8AWG58E9T8868X7NMWSW4M__Fgid24641__Cam0__Cid0 . . .\n",
      "2024-01-16 18:38:31: NOTICE   Extracted Image from Original Memory in 0.2s\n",
      "2024-01-16 18:38:31: INFO     \tMaking Quick Image . . .\n",
      "2024-01-16 18:38:31: NOTICE   \t\t Done in 0.6s.\n",
      "2024-01-16 18:38:31: NOTICE   Saving to: ./out/image_builder_out/IMG_IRIS__Ulid01HM8AWG58E9T8868X7NMWSW4M__Fgid24641__Cam0__Cid0/IMG_IRIS__Ulid01HM8AWG58E9T8868X7NMWSW4M__Fgid24641__Cam0__Cid0.quick.png . . .\n",
      "2024-01-16 18:38:31: INFO     \tMaking Median Image . . .\n",
      "/Users/connorcolombo/.pyenv/versions/3.10.8/envs/py_irisbackendv3/lib/python3.10/site-packages/numpy/lib/nanfunctions.py:1217: RuntimeWarning: All-NaN slice encountered\n",
      "  r, k = function_base._ureduce(a, func=_nanmedian, axis=axis, out=out,\n",
      "2024-01-16 18:39:09: NOTICE   \t\t Done in 37.5s. Saving to: ./out/image_builder_out/IMG_IRIS__Ulid01HM8AWG58E9T8868X7NMWSW4M__Fgid24641__Cam0__Cid0/IMG_IRIS__Ulid01HM8AWG58E9T8868X7NMWSW4M__Fgid24641__Cam0__Cid0.median.png . . .\n",
      "2024-01-16 18:39:09: INFO     \tMaking GIF of Image Frames . . .\n",
      "2024-01-16 18:39:09: NOTICE   \t\t Done in 0.3s. Saved to: ./out/image_builder_out/IMG_IRIS__Ulid01HM8AWG58E9T8868X7NMWSW4M__Fgid24641__Cam0__Cid0/IMG_IRIS__Ulid01HM8AWG58E9T8868X7NMWSW4M__Fgid24641__Cam0__Cid0.median.png.\n",
      "2024-01-16 18:39:09: INFO     \tMaking Interpolated Smart-Build Image . . .\n",
      "2024-01-16 18:39:43: NOTICE   \t\t Done in 33.7s. Saving to: ./out/image_builder_out/IMG_IRIS__Ulid01HM8AWG58E9T8868X7NMWSW4M__Fgid24641__Cam0__Cid0/IMG_IRIS__Ulid01HM8AWG58E9T8868X7NMWSW4M__Fgid24641__Cam0__Cid0.interp.png . . .\n",
      "2024-01-16 18:39:43: NOTICE   Done with all products for: IMG_IRIS__Ulid01HM8AWG58E9T8868X7NMWSW4M__Fgid24641__Cam0__Cid0.\n"
     ]
    }
   ],
   "source": [
    "# Rebuild everything:\n",
    "reloaded_img.save_raw()\n",
    "reloaded_img.build_and_save_products(\n",
    "    make_quick_build=True,\n",
    "    make_median_build=True,\n",
    "    make_gif=True,\n",
    "    make_map=True,\n",
    "    make_smart_build=True,\n",
    "    quick_output_dir=None\n",
    ")"
   ]
  }
 ],
 "metadata": {
  "kernelspec": {
   "display_name": "py_irisbackendv3",
   "language": "python",
   "name": "python3"
  },
  "language_info": {
   "codemirror_mode": {
    "name": "ipython",
    "version": 3
   },
   "file_extension": ".py",
   "mimetype": "text/x-python",
   "name": "python",
   "nbconvert_exporter": "python",
   "pygments_lexer": "ipython3",
   "version": "3.10.8"
  },
  "orig_nbformat": 4,
  "vscode": {
   "interpreter": {
    "hash": "96d1dcce18249dbea137144ef39c3bb5a93b9e002555dfd9b35dcd82e3431eca"
   }
  }
 },
 "nbformat": 4,
 "nbformat_minor": 2
}
