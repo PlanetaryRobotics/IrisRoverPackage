{
 "cells": [
  {
   "cell_type": "code",
   "execution_count": 1,
   "metadata": {},
   "outputs": [],
   "source": [
    "## SETUP:\n",
    "from scripts.utils.trans_tools import *\n",
    "from IrisBackendv3.codec.payload import CommandPayload\n",
    "from IrisBackendv3.codec.packet import IrisCommonPacket\n",
    "from IrisBackendv3.codec.metadata import DataPathway, DataSource\n",
    "from IrisBackendv3.codec.magic import Magic\n",
    "from IrisBackendv3.utils.basic import bytearray_to_spaced_hex as hexstr\n",
    "\n",
    "wired_seq_num = 0x05\n",
    "wireless_seq_num = wired_seq_num\n",
    "# steps = ['heater-test','setup', 'power-on', 'wifi-mode', 'deploy', 'misc-test']\n",
    "itr = 2\n",
    "\n",
    "send_data_packet_to_wd_before_sniffing = False\n",
    "specific_cmd_name_override = None\n",
    "\n",
    "\n",
    "# specific_cmd_name_override = 'power-on-radio'\n",
    "# specific_cmd_name_override = 'power-on-herc'\n",
    "# specific_cmd_name_override = 'reset-radio'\n",
    "# specific_cmd_name_override = 'reset-herc'\n",
    "# specific_cmd_name_override = 'power-on-motors'\n",
    "\n",
    "# specific_cmd_name_override = 'setup'\n",
    "# specific_cmd_name_override = 'power-on'\n",
    "# specific_cmd_name_override = 'power-off-herc'\n",
    "# specific_cmd_name_override = 'power-off-radio'\n",
    "\n",
    "# specific_cmd_name_override = '3v3-on'\n",
    "# specific_cmd_name_override = '3v3-off'\n",
    "\n",
    "# specific_cmd_name_override = '24-on'\n",
    "# specific_cmd_name_override = '24-off'\n",
    "\n",
    "# specific_cmd_name_override = 'power-off-fpga'\n",
    "# specific_cmd_name_override = 'power-on-fpga'\n",
    "# specific_cmd_name_override = 'take-image-0'\n",
    "\n",
    "# specific_cmd_name_override = 'power-on-motors'\n",
    "# specific_cmd_name_override = 'reset-motors'\n",
    "# specific_cmd_name_override = 'drive-fwd-200'\n",
    "# specific_cmd_name_override = 'motor-control-get-telem'\n",
    "# specific_cmd_name_override = 'motor-control-spin-all'\n",
    "# specific_cmd_name_override = 'herc-wired-noop'"
   ]
  },
  {
   "cell_type": "markdown",
   "metadata": {},
   "source": [
    "## **Settings**"
   ]
  },
  {
   "cell_type": "code",
   "execution_count": 2,
   "metadata": {},
   "outputs": [],
   "source": [
    "## SETTINGS:\n",
    "serial_device_sn: str = 'A7035PDL'\n",
    "baud = 57600\n",
    "ip=\"192.168.1.2\"\n",
    "port=8080"
   ]
  },
  {
   "cell_type": "code",
   "execution_count": 3,
   "metadata": {},
   "outputs": [
    {
     "data": {
      "text/plain": [
       "'/dev/ttyUSB3'"
      ]
     },
     "execution_count": 3,
     "metadata": {},
     "output_type": "execute_result"
    }
   ],
   "source": [
    "from serial.tools import list_ports, list_ports_common\n",
    "serial_device = [cp.device for cp in list_ports.comports() if cp.serial_number is not None and serial_device_sn in cp.serial_number][0]\n",
    "serial_device"
   ]
  },
  {
   "cell_type": "code",
   "execution_count": 4,
   "metadata": {},
   "outputs": [],
   "source": [
    "settings['SAVE_FILE_PREFIX'] = 'iris__sw_rc_2__22_05_09' # this is the prefix on all log files. make it something unique.\n",
    "load_cache()"
   ]
  },
  {
   "cell_type": "code",
   "execution_count": 5,
   "metadata": {
    "tags": []
   },
   "outputs": [],
   "source": [
    "## SET TO TRUE TO VIEW A FULL-LIST OF ALL COMMANDS AND TELEMETRY:\n",
    "module_to_lookup = 'Navigation'\n",
    "\n",
    "if show_commands := False:\n",
    "    standards.print_overview()\n",
    "if show_module_standards := False:\n",
    "        def module(x): return cprint(f\"\\n\\t{x}\", 'magenta', 'on_grey', attrs=['bold'])\n",
    "        def header(x): return cprint(f\"\\n\\t\\t{x}\", 'grey', 'on_white')\n",
    "        def command(i, x): return cprint(f\"\\n\\t\\t\\t{i}.\\t{x}\", 'green')\n",
    "        def telemetry(i, x): return cprint(f\"\\n\\t\\t\\t{i}.\\t{x}\", 'red')\n",
    "        def event(i, x): return cprint(f\"\\n\\t\\t\\t{i}.\\t{x}\", 'blue')\n",
    "\n",
    "        def p_arg(a): return cprint(f\"\\n\\t\\t\\t\\t\\tAvailable values for `{a.name}`:\", 'cyan')\n",
    "\n",
    "        def p_enum(x): return cprint(f\"\\n\\t\\t\\t\\t\\t\\t'{x.name}' or {x.value} or {hex(x.value)}\", 'magenta')\n",
    "\n",
    "        print(\"Data Standards Overview: [\")\n",
    "        m = standards.modules[module_to_lookup]\n",
    "        module(m)\n",
    "        header('Commands:')\n",
    "        for i, c in enumerate(m.commands.vals):\n",
    "            command(i, c)\n",
    "            for arg in c.args:\n",
    "                if len(arg.enum) > 0:\n",
    "                    p_arg(arg)\n",
    "                    for e in arg.enum:\n",
    "                        p_enum(e)\n",
    "        header('Telemetry:')\n",
    "        for i, t in enumerate(m.telemetry.vals):\n",
    "            telemetry(i, t)\n",
    "        header('Events:')\n",
    "        for i, ev in enumerate(m.events.vals):\n",
    "            event(i, ev)\n",
    "        print('\\n]')"
   ]
  },
  {
   "cell_type": "markdown",
   "metadata": {},
   "source": [
    "## **Testing Procedure:** picking pre-prepared commands\n"
   ]
  },
  {
   "cell_type": "markdown",
   "metadata": {},
   "source": [
    "**Running the Code:**\n",
    "\n",
    "- On the first run **OR** after resetting / power-cycling the board, **pick a step in the next cell** then press the `red square`, then `green circle`, then `double arrows` to run all the code.\n",
    "- After changing to the next step (in the next cell), **click here** (yes, this text cell that you're currently reading) and then **press only** the `red square` then the `play button with the down arrow` to send the new command without resetting the sequence numbers.\n",
    "- You can read wired telemetry streams at the bottom of this notebook and check for the presence of wireless telemetry in wireshark using the filter: `udp && udp.port==8080 && not icmp` . \n",
    "\n",
    "**Steps:**\n",
    "\n",
    "0. Run `setup`, wait for watchdog heartbeats to verify that the mode is now `RS_SERVICE`.\n",
    "1. Run `power-on`, verify Hercules has been turned on by the presense of `ICP` telemetry packets in the wired output.\n",
    "2. Run `wifi-mode` to tell Hercules to downlink telemetry wirelessly instead of over the wire. Verify that `ICP` telemetry packets are now showing up in the wireless output. Note: there should no longer be a wired output showing. Also note: wired and wireless commands will still work until the wired connection has been physically disconnected.\n",
    "3. Run `deploy` to tell Hercules to tell the Watchdog to release its deployment interlock and then have Hercules release its own interlock. Verify that both interlocks are released and that the deployment switch is now closed by removing the deployment power leads from the deployment power supply and verifying that the resistance between them is on the order of single digit Ohms instead of Megaohms.\n",
    "\n",
    "Once `deploy` has been successfully issued, applying deployment power to the rover will cause its deployment. **Note:** to properly simulate mission conditions, the interlocks should be released and deployment switch closed **before** applying deployment power.\n",
    "\n",
    "**Troubleshooting:**\n",
    "\n",
    "**Note:** If you have issues running the `deploy` command, you can instead run the `deploy-wd-only` and the `deploy-herc-only` commands to directly tell the Watchdog and Hercules to release their interlocks separately.\n",
    "\n",
    "**Note:** If you're having trouble getting wireless comms working, make sure this computer's IP matches the `spacecraft_ip` used by Hercules (usually `192.168.1.120`) and that the IP you're sending to (configured at the top) matches the `rover_ip` used by the Hercules."
   ]
  },
  {
   "cell_type": "code",
   "execution_count": 6,
   "metadata": {},
   "outputs": [
    {
     "data": {
      "text/plain": [
       "'power-on'"
      ]
     },
     "execution_count": 6,
     "metadata": {},
     "output_type": "execute_result"
    }
   ],
   "source": [
    "## Pick the step you want to run:\n",
    "\n",
    "steps = ['heater-test', 'setup', 'power-on', 'wifi-mode', 'deploy', 'misc-test']\n",
    "if specific_cmd_name_override is not None:\n",
    "    step = specific_cmd_name_override\n",
    "else:\n",
    "    step = steps[itr]\n",
    "step"
   ]
  },
  {
   "cell_type": "code",
   "execution_count": 7,
   "metadata": {},
   "outputs": [],
   "source": [
    "## Pre-prepared commands list:\n",
    "\n",
    "'''ACCIDENTAL PASTE'''\n",
    "\n",
    "source = DataSource.GENERATED\n",
    "\n",
    "prepared_commands = {\n",
    "    'setup': ( # Tell the Watchdog to switch into service mode\n",
    "        DataPathway.WIRED,\n",
    "        Magic.WATCHDOG_COMMAND,\n",
    "        'WatchDogInterface_SwitchToServiceMode',\n",
    "        dict(confirm='CONFIRM_SERVICE'),\n",
    "        DataPathway.WIRED\n",
    "    ),\n",
    "    'power-on': ( # Tell the Watchdog to switch into service mode\n",
    "        DataPathway.WIRED,\n",
    "        Magic.WATCHDOG_COMMAND,\n",
    "        'WatchDogInterface_PrepareForDeployment',\n",
    "        dict(confirm='CONFIRM_PREP'),\n",
    "        DataPathway.WIRED\n",
    "    ),\n",
    "    'wifi-mode': ( # Turn Everything On\n",
    "        DataPathway.WIRED,\n",
    "        Magic.COMMAND, # \"normal\" command is for Hercules\n",
    "        'GroundInterface_SetPrimaryInterface',\n",
    "        dict(primary_interface='WF_121'),\n",
    "        DataPathway.WIRELESS\n",
    "    ),\n",
    "    'wired-mode': ( # Turn Everything On\n",
    "        DataPathway.WIRED,\n",
    "        Magic.COMMAND, # \"normal\" command is for Hercules\n",
    "        'GroundInterface_SetPrimaryInterface',\n",
    "        dict(primary_interface='WATCHDOG'),\n",
    "        DataPathway.WIRELESS\n",
    "    ),\n",
    "    'deploy': (\n",
    "        DataPathway.WIRED,\n",
    "        Magic.COMMAND, # \"normal\" command is for Hercules\n",
    "        'WatchDogInterface_DisengageFromLander',\n",
    "        dict(confirm='CONFIRM_DEPLOY'),\n",
    "        DataPathway.WIRED\n",
    "    ), # Note: there's no way to do just the hercules (you can tell just the hercules but then it'll immediately make watch)\n",
    "    'deploy-wifi': (\n",
    "        DataPathway.WIRELESS,\n",
    "        Magic.COMMAND, # \"normal\" command is for Hercules\n",
    "        'WatchDogInterface_DisengageFromLander',\n",
    "        dict(confirm='CONFIRM_DEPLOY'),\n",
    "        DataPathway.WIRELESS\n",
    "    ),\n",
    "    'deploy-wd-only': ( # special command to tell only WD to release its interlock (in case Herc-WD comms are broken)\n",
    "        DataPathway.WIRED,\n",
    "        Magic.WATCHDOG_COMMAND,\n",
    "        'WatchDogInterface_DisengageFromLander',\n",
    "        dict(confirm='CONFIRM_DEPLOY'),\n",
    "        DataPathway.WIRELESS\n",
    "    ),\n",
    "    'undeploy': (\n",
    "        DataPathway.WIRED,\n",
    "        Magic.COMMAND, # \"normal\" command is for Hercules\n",
    "        'WatchDogInterface_ResetSpecific',\n",
    "        dict(reset_value='HDRM_OFF'),\n",
    "        DataPathway.WIRED\n",
    "    ), # Note: Deploy2 (Herc deploy pin) does not undeploy, but WD does.\n",
    "    'undeploy-2': (\n",
    "        DataPathway.WIRED,\n",
    "        Magic.COMMAND, # \"normal\" command is for Hercules\n",
    "        'WatchDogInterface_EngageFromLander',\n",
    "        dict(),\n",
    "        DataPathway.WIRED\n",
    "    ), # Note: Also does not turn off Deploy2\n",
    "    'heater-test': (\n",
    "        DataPathway.WIRED,\n",
    "        Magic.COMMAND, # intentionally telling the WD to tell Herc to tell the WD to enable heater control (same path as deployment command but a quick pretest)\n",
    "        'WatchDogInterface_ResetSpecific',\n",
    "        dict(reset_value='ENABLE_HEATER_CONTROL'),\n",
    "        DataPathway.WIRELESS\n",
    "    ),\n",
    "    'reset-herc': (\n",
    "        DataPathway.WIRED,\n",
    "        Magic.WATCHDOG_COMMAND, # intentionally telling the WD to tell Herc to tell the WD to enable heater control (same path as deployment command but a quick pretest)\n",
    "        'WatchDogInterface_ResetSpecific',\n",
    "        dict(reset_value='RESET_HERCULES'), # Change this to whatever you want to reset.\n",
    "        DataPathway.WIRED\n",
    "    ),\n",
    "    'power-on-herc': (\n",
    "        DataPathway.WIRED,\n",
    "        Magic.WATCHDOG_COMMAND, # intentionally telling the WD to tell Herc to tell the WD to enable heater control (same path as deployment command but a quick pretest)\n",
    "        'WatchDogInterface_ResetSpecific',\n",
    "        dict(reset_value='HERCULES_POWER_ON'), # Change this to whatever you want to reset.\n",
    "        DataPathway.WIRED\n",
    "    ),\n",
    "    'power-off-herc': (\n",
    "        DataPathway.WIRED,\n",
    "        Magic.WATCHDOG_COMMAND, # intentionally telling the WD to tell Herc to tell the WD to enable heater control (same path as deployment command but a quick pretest)\n",
    "        'WatchDogInterface_ResetSpecific',\n",
    "        dict(reset_value='HERCULES_POWER_OFF'), # Change this to whatever you want to reset.\n",
    "        DataPathway.WIRED\n",
    "    ),\n",
    "    'reset-radio': (\n",
    "        DataPathway.WIRED,\n",
    "        Magic.WATCHDOG_COMMAND, # intentionally telling the WD to tell Herc to tell the WD to enable heater control (same path as deployment command but a quick pretest)\n",
    "        'WatchDogInterface_ResetSpecific',\n",
    "        dict(reset_value='RESET_RADIO'), # Change this to whatever you want to reset.\n",
    "        DataPathway.WIRED\n",
    "    ),\n",
    "    'power-on-radio': (\n",
    "        DataPathway.WIRED,\n",
    "        Magic.WATCHDOG_COMMAND, # intentionally telling the WD to tell Herc to tell the WD to enable heater control (same path as deployment command but a quick pretest)\n",
    "        'WatchDogInterface_ResetSpecific',\n",
    "        dict(reset_value='RADIO_POWER_ON'), # Change this to whatever you want to reset.\n",
    "        DataPathway.WIRED\n",
    "    ),\n",
    "    'power-off-radio': (\n",
    "        DataPathway.WIRED,\n",
    "        Magic.WATCHDOG_COMMAND, # intentionally telling the WD to tell Herc to tell the WD to enable heater control (same path as deployment command but a quick pretest)\n",
    "        'WatchDogInterface_ResetSpecific',\n",
    "        dict(reset_value='RADIO_POWER_OFF'), # Change this to whatever you want to reset.\n",
    "        DataPathway.WIRED\n",
    "    ),\n",
    "    'reset-fpga': (\n",
    "        DataPathway.WIRED,\n",
    "        Magic.WATCHDOG_COMMAND, # intentionally telling the WD to tell Herc to tell the WD to enable heater control (same path as deployment command but a quick pretest)\n",
    "        'WatchDogInterface_ResetSpecific',\n",
    "        dict(reset_value='RESET_FPGA'), # Change this to whatever you want to reset.\n",
    "        DataPathway.WIRED\n",
    "    ),\n",
    "    'power-on-fpga': (\n",
    "        DataPathway.WIRED,\n",
    "        Magic.WATCHDOG_COMMAND, # intentionally telling the WD to tell Herc to tell the WD to enable heater control (same path as deployment command but a quick pretest)\n",
    "        'WatchDogInterface_ResetSpecific',\n",
    "        dict(reset_value='FPGA_POWER_ON'), # Change this to whatever you want to reset.\n",
    "        DataPathway.WIRED\n",
    "    ),\n",
    "    'power-off-fpga': (\n",
    "        DataPathway.WIRED,\n",
    "        Magic.WATCHDOG_COMMAND, # intentionally telling the WD to tell Herc to tell the WD to enable heater control (same path as deployment command but a quick pretest)\n",
    "        'WatchDogInterface_ResetSpecific',\n",
    "        dict(reset_value='FPGA_POWER_OFF'), # Change this to whatever you want to reset.\n",
    "        DataPathway.WIRED\n",
    "    ),\n",
    "    'reset-motors': (\n",
    "        DataPathway.WIRED,\n",
    "        Magic.WATCHDOG_COMMAND, # intentionally telling the WD to tell Herc to tell the WD to enable heater control (same path as deployment command but a quick pretest)\n",
    "        'WatchDogInterface_ResetSpecific',\n",
    "        dict(reset_value='RESET_ALL_MOTORS'), # Change this to whatever you want to reset.\n",
    "        DataPathway.WIRED\n",
    "    ),\n",
    "    'power-on-motors': (\n",
    "        DataPathway.WIRED,\n",
    "        Magic.WATCHDOG_COMMAND, # intentionally telling the WD to tell Herc to tell the WD to enable heater control (same path as deployment command but a quick pretest)\n",
    "        'WatchDogInterface_ResetSpecific',\n",
    "        dict(reset_value='ALL_MOTORS_ON'), # Change this to whatever you want to reset.\n",
    "        DataPathway.WIRED\n",
    "    ),\n",
    "    'power-off-motors': (\n",
    "        DataPathway.WIRED,\n",
    "        Magic.WATCHDOG_COMMAND, # intentionally telling the WD to tell Herc to tell the WD to enable heater control (same path as deployment command but a quick pretest)\n",
    "        'WatchDogInterface_ResetSpecific',\n",
    "        dict(reset_value='ALL_MOTORS_OFF'), # Change this to whatever you want to reset.\n",
    "        DataPathway.WIRED\n",
    "    ),\n",
    "    # Navigation_NavDriveForward[distance: uint8, speed: uint8, callback_id: uint16]\n",
    "    'drive-fwd-200': (\n",
    "        DataPathway.WIRED,\n",
    "        Magic.COMMAND,\n",
    "        'Navigation_NavDriveForward',\n",
    "        dict(distance=200, speed=100, callback_id=0xBEEF),\n",
    "        DataPathway.WIRED\n",
    "    ),\n",
    "    # Navigation_NavDriveForward[distance: uint8, speed: uint8, callback_id: uint16]\n",
    "    'motor-control-get-telem': (\n",
    "        DataPathway.WIRED,\n",
    "        Magic.COMMAND,\n",
    "        'MotorControl_McUpdateTelemetry',\n",
    "        dict(),\n",
    "        DataPathway.WIRED\n",
    "    ),\n",
    "    # Navigation_NavDriveForward[distance: uint8, speed: uint8, callback_id: uint16]\n",
    "    'motor-control-spin-all': (\n",
    "        DataPathway.WIRED,\n",
    "        Magic.COMMAND,\n",
    "        'MotorControl_McSpin',\n",
    "        dict(motor_id=0x00, raw_ticks=20000), # Change this to whatever motor you want to control (0 is all)\n",
    "        DataPathway.WIRED\n",
    "    ),\n",
    "    'herc-wired-noop': (\n",
    "        DataPathway.WIRED,\n",
    "        Magic.COMMAND,\n",
    "        'CommandDispatcher_Cmdnoop',\n",
    "        dict(),\n",
    "        DataPathway.WIRED\n",
    "    ),\n",
    "    'take-image-0': (\n",
    "        DataPathway.WIRED,\n",
    "        Magic.COMMAND,\n",
    "        'Camera_TakeImage',\n",
    "        dict(camera_num=0, callback_id=0), # Change this to whatever you want to reset.\n",
    "        DataPathway.WIRED\n",
    "    ),\n",
    "    'take-image-1': (\n",
    "        DataPathway.WIRED,\n",
    "        Magic.COMMAND,\n",
    "        'Camera_TakeImage',\n",
    "        dict(camera_num=1, callback_id=0), # Change this to whatever you want to reset.\n",
    "        DataPathway.WIRED\n",
    "    ),\n",
    "    '3v3-on': (\n",
    "        DataPathway.WIRED,\n",
    "        Magic.WATCHDOG_COMMAND, # intentionally telling the WD to tell Herc to tell the WD to enable heater control (same path as deployment command but a quick pretest)\n",
    "        'WatchDogInterface_ResetSpecific',\n",
    "        dict(reset_value='EN_3_3_POWER_ON'), # Change this to whatever you want to reset.\n",
    "        DataPathway.WIRED\n",
    "    ),\n",
    "    '3v3-off': (\n",
    "        DataPathway.WIRED,\n",
    "        Magic.WATCHDOG_COMMAND, # intentionally telling the WD to tell Herc to tell the WD to enable heater control (same path as deployment command but a quick pretest)\n",
    "        'WatchDogInterface_ResetSpecific',\n",
    "        dict(reset_value='EN_3_3_POWER_OFF'), # Change this to whatever you want to reset.\n",
    "        DataPathway.WIRED\n",
    "    ),\n",
    "    '24-on': (\n",
    "        DataPathway.WIRED,\n",
    "        Magic.WATCHDOG_COMMAND, # intentionally telling the WD to tell Herc to tell the WD to enable heater control (same path as deployment command but a quick pretest)\n",
    "        'WatchDogInterface_ResetSpecific',\n",
    "        dict(reset_value='EN_24_ON'), # Change this to whatever you want to reset.\n",
    "        DataPathway.WIRED\n",
    "    ),\n",
    "    '24-off': (\n",
    "        DataPathway.WIRED,\n",
    "        Magic.WATCHDOG_COMMAND, # intentionally telling the WD to tell Herc to tell the WD to enable heater control (same path as deployment command but a quick pretest)\n",
    "        'WatchDogInterface_ResetSpecific',\n",
    "        dict(reset_value='EN_24_OFF'), # Change this to whatever you want to reset.\n",
    "        DataPathway.WIRED\n",
    "    ),\n",
    "    'misc-test': (\n",
    "        DataPathway.WIRED,\n",
    "        Magic.WATCHDOG_COMMAND, # intentionally telling the WD to tell Herc to tell the WD to enable heater control (same path as deployment command but a quick pretest)\n",
    "        'WatchDogInterface_ResetSpecific',\n",
    "        # dict(reset_value='EN_3_3_POWER_ON'), # Change this to whatever you want to reset.\n",
    "        # dict(reset_value='HDRM_OFF'), # Change this to whatever you want to reset.\n",
    "        DataPathway.WIRED\n",
    "    )\n",
    "}\n",
    "pathway, magic, command_name, kwargs, telem_pathway = prepared_commands[step]"
   ]
  },
  {
   "cell_type": "code",
   "execution_count": 8,
   "metadata": {},
   "outputs": [
    {
     "name": "stdout",
     "output_type": "stream",
     "text": [
      "05 07 00 d5 ee ff 00 c0 01 10 60\n"
     ]
    }
   ],
   "source": [
    "## Build Command:\n",
    "\n",
    "'''ACCIDENTAL PASTE'''\n",
    "\n",
    "if pathway == DataPathway.WIRED:\n",
    "    seq_num = wired_seq_num\n",
    "elif pathway == DataPathway.WIRELESS:\n",
    "    seq_num = wireless_seq_num\n",
    "\n",
    "command_payload_type = {\n",
    "    Magic.WATCHDOG_COMMAND: WatchdogCommandPayload,\n",
    "    Magic.COMMAND: CommandPayload\n",
    "}[magic]\n",
    "\n",
    "module, command = standards.global_command_lookup(command_name)\n",
    "payloads = EnhancedPayloadCollection(\n",
    "    CommandPayload=[\n",
    "        command_payload_type(\n",
    "            pathway=pathway,\n",
    "            source=source,\n",
    "            magic=magic,\n",
    "            module_id=module.ID,\n",
    "            command_id=command.ID,\n",
    "            args=kwargs\n",
    "        )\n",
    "    ],\n",
    "    TelemetryPayload=[],\n",
    "    EventPayload=[],\n",
    "    FileBlockPayload=[]\n",
    ")\n",
    "packet = IrisCommonPacket(\n",
    "    seq_num = seq_num, \n",
    "    payloads = payloads\n",
    ").encode()\n",
    "print(hexstr(packet)) # 02 07 00 d6 ee ff 00 c0 ec 10 77"
   ]
  },
  {
   "cell_type": "code",
   "execution_count": 9,
   "metadata": {},
   "outputs": [
    {
     "data": {
      "text/plain": [
       "<DataPathway.WIRED: 0>"
      ]
     },
     "execution_count": 9,
     "metadata": {},
     "output_type": "execute_result"
    }
   ],
   "source": [
    "pathway"
   ]
  },
  {
   "cell_type": "code",
   "execution_count": 10,
   "metadata": {},
   "outputs": [
    {
     "name": "stdout",
     "output_type": "stream",
     "text": [
      "\u001b[31mFailed to connect to serial device. Is the device name right? Check the connection? Original error: [Errno 2] could not open port /dev/ttyUSB3V\"V: [Errno 2] No such file or directory: '/dev/ttyUSB3V\"V'\u001b[0m\n"
     ]
    }
   ],
   "source": [
    "\n",
    "connect_serial(device = serial_device+'V\"V', baud=baud)"
   ]
  },
  {
   "cell_type": "code",
   "execution_count": 11,
   "metadata": {},
   "outputs": [
    {
     "name": "stdout",
     "output_type": "stream",
     "text": [
      "\u001b[32mConnection Success!\u001b[0m\n"
     ]
    }
   ],
   "source": [
    "## Send Command:\n",
    "connect_serial(device = serial_device, baud=baud)\n",
    "from IrisBackendv3.data_standards import DataStandards\n",
    "if send_data_packet_to_wd_before_sniffing:\n",
    "    if pathway == DataPathway.WIRED:\n",
    "        send_data_wd_serial(packet)\n",
    "    elif pathway == DataPathway.WIRELESS:\n",
    "        send_wifi(packet, ip=ip, port=port)"
   ]
  },
  {
   "cell_type": "markdown",
   "metadata": {},
   "source": [
    "## **Output**"
   ]
  },
  {
   "cell_type": "code",
   "execution_count": 12,
   "metadata": {},
   "outputs": [
    {
     "name": "stdout",
     "output_type": "stream",
     "text": [
      "\n",
      " \u001b[1m\u001b[30m WatchdogDebugPacket[52B]-str: b'DEBUGTransitioning from INIT to ENTERING_KEEP_ALIVE\\n' \u001b[0m\n",
      "\n"
     ]
    }
   ],
   "source": [
    "from IrisBackendv3.codec.packet import parse_packet\n",
    "p = parse_packet(b'DEBUGTransitioning from INIT to ENTERING_KEEP_ALIVE\\n')\n",
    "print(p)"
   ]
  },
  {
   "cell_type": "code",
   "execution_count": 13,
   "metadata": {},
   "outputs": [],
   "source": [
    "## Stream Telemetry:\n",
    "if True or telem_pathway == DataPathway.WIRED:\n",
    "    stream_data_ip_udp_serial()\n",
    "elif telem_pathway == DataPathway.WIRELESS:\n",
    "    pass # Check for wireless telemetry in Wireshark. For parsing help, run: `pyenv exec python parse_pcap.py --help`"
   ]
  },
  {
   "cell_type": "markdown",
   "metadata": {},
   "source": []
  }
 ],
 "metadata": {
  "kernelspec": {
   "display_name": "Python 3.8.5 64-bit ('py_irisbackendv3')",
   "language": "python",
   "name": "python3"
  },
  "language_info": {
   "codemirror_mode": {
    "name": "ipython",
    "version": 3
   },
   "file_extension": ".py",
   "mimetype": "text/x-python",
   "name": "python",
   "nbconvert_exporter": "python",
   "pygments_lexer": "ipython3",
   "version": "3.8.5"
  },
  "metadata": {
   "interpreter": {
    "hash": "d816d07a47909b7024a3edf42b296ca58cf50e839b20a21cefa98c322fbbe616"
   }
  },
  "orig_nbformat": 2,
  "vscode": {
   "interpreter": {
    "hash": "5a3ee3e6a7ae85fe39552a4ea1c06b3f5fa77ca54a573c93ded039a6a08d9870"
   }
  }
 },
 "nbformat": 4,
 "nbformat_minor": 2
}
