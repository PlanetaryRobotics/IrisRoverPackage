{
 "cells": [
  {
   "cell_type": "code",
   "execution_count": 9,
   "metadata": {},
   "outputs": [],
   "source": [
    "## SETUP:\n",
    "from trans_tools import *\n",
    "from IrisBackendv3.codec.payload import CommandPayload\n",
    "from IrisBackendv3.codec.packet import IrisCommonPacket\n",
    "from IrisBackendv3.codec.metadata import DataPathway, DataSource\n",
    "from IrisBackendv3.codec.magic import Magic\n",
    "from IrisBackendv3.utils.basic import bytearray_to_spaced_hex as hexstr"
   ]
  },
  {
   "cell_type": "code",
   "execution_count": 3,
   "metadata": {},
   "outputs": [
    {
     "name": "stdout",
     "output_type": "stream",
     "text": [
      "Searching for boot array: b'\\x88\\x0e\\x01\\x00\\x01\\x00\\x03\\x00\\x00\\x00U\\x00\\x05\\x00\\x00\\x00\\x05\\x00'\n",
      "\u001b[32mConnection Success!\u001b[0m\n"
     ]
    }
   ],
   "source": [
    "import serial  # type: ignore # no type hints\n",
    "import time\n",
    "device: str = '/dev/ttyUSBx' # find correct name\n",
    "baud: int = 115200\n",
    "\n",
    "radio_buf = bytearray(b'')\n",
    "# Hello System:\n",
    "radio_buf.append(0x08) # MSG_TYPE: 0b0 (command/resp.), TECH_TYPE: 0b0001 (WiFi), Payload Size (Hi bits): 0b000\n",
    "radio_buf.append(0x00) # Payload Size (Lo bits): 0x00\n",
    "radio_buf.append(0x01) # CLASS_ID: 0x01 (SYSTEM)\n",
    "radio_buf.append(0x02) # COMMAND_ID: 0x02 (HELLO)\n",
    "\n",
    "boot_array = b'\\x88\\x0e\\x01\\x00\\x01\\x00\\x03\\x00\\x00\\x00\\x55\\x00\\x05\\x00\\x00\\x00\\x05\\x00'\n",
    "print(f'Searching for boot array: {boot_array}')\n",
    "\n",
    "try:\n",
    "    serial_port = serial.Serial(device, baud)  # open serial port\n",
    "    cprint(\"Connection Success!\", 'green')\n",
    "except serial.SerialException as e:\n",
    "    cprint(\n",
    "        f\"Failed to connect to serial device. Is the device name right? Check the connection? Original error: {e}\",\n",
    "        'red')\n",
    "\n",
    "boot_index: int = 0\n",
    "found: bool = False\n",
    "sent_cmd: bool = False\n",
    "find_time = 0\n",
    "ready: bool = serial_port is not None\n",
    "try:\n",
    "    while keep_running:= True and ready:\n",
    "        b: Any = serial_port.read(1)\n",
    "\n",
    "        if not found and b[0] == boot_array[boot_index]:\n",
    "            boot_index += 1\n",
    "            print(f\"\\t > Found more: {boot_index}\")\n",
    "        else:\n",
    "            boot_index = 0\n",
    "\n",
    "        if boot_index == len(boot_array):\n",
    "            found = True\n",
    "            find_time = time.time()\n",
    "            print(\"\\t > Found boot!\")\n",
    "\n",
    "        if found or boot_index > 0:\n",
    "            print(f\"{b}\")\n",
    "\n",
    "        if found and not sent_cmd:# and (time.time() - find_time) > 5:\n",
    "            sent_cmd = True\n",
    "            print(f\"Writing HelloSystem() Command: {radio_buf}\")\n",
    "            time.sleep(3)\n",
    "            \n",
    "            if serial_port is not None:\n",
    "                serial_port.write(bytes(radio_buf))\n",
    "                print(\"\\t > Written!\")\n",
    "            else:\n",
    "                cprint(\n",
    "                    \"Can't send data, serial connection not started. Try `connect_serial()`.\",\n",
    "                    'red')\n",
    "\n",
    "except KeyboardInterrupt:\n",
    "        serial_port.close()"
   ]
  }
 ],
 "metadata": {
  "kernelspec": {
   "display_name": "Python 3.8.5 64-bit ('py_irisbackendv3': pyenv)",
   "name": "python385jvsc74a57bd09b8ece3a27f9dfda4d574f5e7a85b5ebc60e0008070ea61c4f3b563880f2e4f3"
  },
  "language_info": {
   "codemirror_mode": {
    "name": "ipython",
    "version": 3
   },
   "file_extension": ".py",
   "mimetype": "text/x-python",
   "name": "python",
   "nbconvert_exporter": "python",
   "pygments_lexer": "ipython3",
   "version": "3.8.5"
  },
  "orig_nbformat": 2
 },
 "nbformat": 4,
 "nbformat_minor": 2
}